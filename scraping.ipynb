{
 "cells": [
  {
   "cell_type": "code",
   "execution_count": 253,
   "metadata": {},
   "outputs": [
    {
     "name": "stdout",
     "output_type": "stream",
     "text": [
      "Requirement already satisfied: bs4 in /Library/Frameworks/Python.framework/Versions/3.7/lib/python3.7/site-packages (0.0.1)\n",
      "Requirement already satisfied: beautifulsoup4 in /Library/Frameworks/Python.framework/Versions/3.7/lib/python3.7/site-packages (from bs4) (4.8.0)\n",
      "Requirement already satisfied: soupsieve>=1.2 in /Library/Frameworks/Python.framework/Versions/3.7/lib/python3.7/site-packages (from beautifulsoup4->bs4) (1.9.3)\n",
      "Note: you may need to restart the kernel to use updated packages.\n"
     ]
    }
   ],
   "source": [
    "pip install bs4"
   ]
  },
  {
   "cell_type": "code",
   "execution_count": 21,
   "metadata": {},
   "outputs": [
    {
     "name": "stdout",
     "output_type": "stream",
     "text": [
      "Requirement already up-to-date: pip in /Library/Frameworks/Python.framework/Versions/3.7/lib/python3.7/site-packages (19.2.3)\n",
      "Note: you may need to restart the kernel to use updated packages.\n"
     ]
    }
   ],
   "source": [
    "pip install --upgrade pip"
   ]
  },
  {
   "cell_type": "code",
   "execution_count": 83,
   "metadata": {},
   "outputs": [
    {
     "name": "stdout",
     "output_type": "stream",
     "text": [
      "株式会社SQUEEZE https://squeeze-inc.co.jp/\n",
      "株式会社MonotaRO https://recruit.monotaro.com/?utm_medium=outside_flier&utm_source=pycon.jp&utm_campaign=PyConJP2017\n",
      "LINE株式会社 https://engineering.linecorp.com/\n",
      "Retty株式会社 http://corp.retty.me/\n",
      "iRidge, Inc. https://iridge.jp/\n",
      "株式会社いい生活 http://www.e-seikatsu.info/recruit/graduate/\n",
      "ミラクル・リナックス株式会社 https://www.miraclelinux.com/\n",
      "株式会社スカラコミュニケーションズ http://scala-com.jp/index.html\n",
      "株式会社ビザスク https://visasq.co.jp/\n",
      "株式会社ヌーラボ https://nulab-inc.com/ja/\n",
      "TIS株式会社 https://www.tis.co.jp/\n",
      "PAY.JP https://pay.jp/\n",
      "カラフル・ボード株式会社 http://www.colorful-board.com/\n",
      "株式会社ビープラウド http://www.beproud.jp/\n",
      "株式会社リーディング・エッジ社 http://www.leadinge.co.jp/\n",
      "株式会社Nexedi https://www.nexedi.co.jp/\n",
      "タロスカイ https://tarosky.co.jp/\n",
      "ワイアーチ https://yarch.jp/\n",
      "株式会社日本システム技研 https://jsl.co.jp/\n",
      "SideCI https://sideci.com/\n",
      "日本経済新聞社 http://s.nikkei.com/saiyo\n",
      "Elastic https://www.elastic.co/\n",
      "株式会社データミックス http://datamix.co.jp/\n",
      "XICA http://xica.net/\n",
      "株式会社 ARISE analytics http://ariseanalytics.com/\n",
      "株式会社ミクシィ・リクルートメント http://www.find-job.net/\n",
      "株式会社JX通信社 http://jxpress.net/\n",
      "シルバーエッグ・テクノロジー株式会社 http://www.silveregg.co.jp/\n",
      "Gandi.net https://www.gandi.net/\n",
      "GROOVE X株式会社 http://www.groove-x.com/\n",
      "HDE, Inc. http://www.hde.co.jp/\n",
      "株式会社DataSign https://datasign.jp/\n",
      "Credit Engine, Inc. http://www.creditengine.jp/\n",
      "富士通クラウドテクノロジーズ株式会社 http://fjct.fujitsu.com/\n",
      "Supership株式会社 https://supership.jp/\n",
      "株式会社ブレインパッド http://www.brainpad.co.jp/\n",
      "株式会社CMSコミュニケーションズ https://www.cmscom.jp/\n",
      "株式会社slideship https://slideship.com/\n",
      "日本マイクロソフト株式会社 https://www.microsoft.com/ja-jp/\n",
      "スフィアリンクス株式会社 http://spherelinks.co.jp/\n",
      "gihyo.jp http://gihyo.jp/\n",
      "Think IT https://thinkit.co.jp/\n",
      "株式会社オライリー・ジャパン https://www.oreilly.co.jp/\n",
      "Togetter https://togetter.com/\n",
      "CodeZine http://codezine.jp/\n",
      "エンジニアtype http://type.jp/et/feature/\n"
     ]
    }
   ],
   "source": [
    "import requests\n",
    "from bs4 import BeautifulSoup\n",
    "\n",
    "\n",
    "def main():\n",
    "    url = 'https://pycon.jp/2017/ja/sponsors/'\n",
    "    res = requests.get(url)\n",
    "    content = res.content\n",
    "    soup = BeautifulSoup(content, 'html.parser')\n",
    "    sponsors = soup.find_all('div', class_='sponsor-content')\n",
    "    for sponsor in sponsors:\n",
    "        url = sponsor.h3.a['href']\n",
    "        name = sponsor.h4.text\n",
    "        print(name, url)\n",
    "\n",
    "\n",
    "if __name__ == '__main__':\n",
    "    main()"
   ]
  },
  {
   "cell_type": "code",
   "execution_count": 204,
   "metadata": {
    "scrolled": true
   },
   "outputs": [
    {
     "name": "stdout",
     "output_type": "stream",
     "text": [
      "台風17号 西日本は大雨注意 https://news.yahoo.co.jp/pickup/6337231\n",
      "台風接近 不安と疲労の被災地 https://news.yahoo.co.jp/pickup/6337234\n",
      "海流され1人死亡1人不明 宮崎 https://news.yahoo.co.jp/pickup/6337233\n",
      "事件で夫奪われ 生活も苦しく https://news.yahoo.co.jp/pickup/6337236\n",
      "乳房再建 治療中断3000人超 https://news.yahoo.co.jp/pickup/6337223\n",
      "坂本勇人 酒浴びて浴びるぞ https://news.yahoo.co.jp/pickup/6337235\n",
      "世界新体操 日本44年ぶり銀 https://news.yahoo.co.jp/pickup/6337237\n",
      "KOC 12代目王者はどぶろっく https://news.yahoo.co.jp/pickup/6337230\n"
     ]
    }
   ],
   "source": [
    "import requests\n",
    "from bs4 import BeautifulSoup\n",
    "\n",
    "\n",
    "def main():\n",
    "    url = 'https://www.yahoo.co.jp/'\n",
    "    res = requests.get(url)\n",
    "    content = res.content\n",
    "    soup = BeautifulSoup(content, 'html.parser')\n",
    "    sponsors = soup.find_all(\"a\")\n",
    "    for sponsor in sponsors:\n",
    "        if 'pickup' in sponsor['href']:\n",
    "            print(sponsor.text,sponsor['href'])\n",
    "\n",
    "if __name__ == '__main__':\n",
    "    main()"
   ]
  },
  {
   "cell_type": "code",
   "execution_count": 22,
   "metadata": {},
   "outputs": [
    {
     "name": "stdout",
     "output_type": "stream",
     "text": [
      "今井 達也\n",
      "いまい たつや\n",
      "渡邉 勇太朗\n",
      "わたなべ ゆうたろう\n",
      "高橋 光成\n",
      "たかはし こうな\n",
      "増田 達至\n",
      "ますだ たつし\n",
      "大石 達也\n",
      "おおいし たつや\n",
      "松本 航\n",
      "まつもと わたる\n",
      "多和田 真三郎\n",
      "たわた しんさぶろう\n",
      "齊藤 大将\n",
      "さいとう ひろまさ\n",
      "高木 勇人\n",
      "たかぎ はやと\n",
      "十亀 剣\n",
      "とがめ けん\n",
      "中塚 駿太\n",
      "なかつか しゅんた\n",
      "野田 昇吾\n",
      "のだ しょうご\n",
      "平井 克典\n",
      "ひらい かつのり\n",
      "粟津 凱士\n",
      "あわつ かいと\n",
      "内海 哲也\n",
      "うつみ てつや\n",
      "森脇 亮介\n",
      "もりわき りょうすけ\n",
      "小石 博孝\n",
      "こいし ひろたか\n",
      "榎田 大樹\n",
      "えのきだ だいき\n",
      "佐野 泰雄\n",
      "さの やすお\n",
      "伊藤 翔\n",
      "いとう しょう\n",
      "田村 伊知郎\n",
      "たむら いちろう\n",
      "相内 誠\n",
      "あいうち まこと\n",
      "カイル・マーティン\n",
      "かいる まーてぃん\n",
      "小川 龍也\n",
      "おがわ りゅうや\n",
      "本田 圭佑\n",
      "ほんだ けいすけ\n",
      "武隈 祥太\n",
      "たけくま しょうた\n",
      "廖 任磊\n",
      "りゃお れんれい\n",
      "ザック・ニール\n",
      "ざっく にーる\n",
      "國場 翼\n",
      "こくば つばさ\n",
      "南川 忠亮\n",
      "みなみかわ ただすけ\n",
      "平良 海馬\n",
      "たいら かいま\n",
      "松本 直晃\n",
      "まつもと なおあき\n",
      "藤田 航生\n",
      "ふじた こうき\n",
      "デュアンテ・ヒース\n",
      "でゅあんて ひーす\n",
      "郭 俊麟\n",
      "くぉ じゅんりん\n",
      "高橋 朋己\n",
      "たかはし ともみ\n",
      "與座 海人\n",
      "よざ かいと\n",
      "東野 葵\n",
      "とうの あおい\n",
      "大窪 士夢\n",
      "おおくぼ じゆ\n",
      "森 友哉\n",
      "もり ともや\n",
      "岡田 雅利\n",
      "おかだ まさとし\n",
      "牧野 翔矢\n",
      "まきの しょうや\n",
      "駒月 仁人\n",
      "こまづき ひとと\n",
      "中田 祥多\n",
      "なかた しょうた\n",
      "齊藤 誠人\n",
      "さいとう まさと\n",
      "中熊 大智\n",
      "なかぐま だいち\n",
      "星 孝典\n",
      "ほし たかのり\n",
      "水口 大地\n",
      "みずぐち だいち\n",
      "山野辺 翔\n",
      "やまのべ かける\n",
      "外崎 修汰\n",
      "とのさき しゅうた\n",
      "源田 壮亮\n",
      "げんだ そうすけ\n",
      "佐藤 龍世\n",
      "さとう りゅうせい\n",
      "永江 恭平\n",
      "ながえ きょうへい\n",
      "山川 穂高\n",
      "やまかわ ほたか\n",
      "呉 念庭\n",
      "うー ねんてぃん\n",
      "西川 愛也\n",
      "にしかわ まなや\n",
      "山田 遥楓\n",
      "やまだ はるか\n",
      "金子 一輝\n",
      "かねこ かずき\n",
      "中村 剛也\n",
      "なかむら たけや\n",
      "綱島 龍生\n",
      "つなしま りゅうせい\n",
      "エルネスト・メヒア\n",
      "えるねすと めひあ\n",
      "栗山 巧\n",
      "くりやま たくみ\n",
      "金子 侑司\n",
      "かねこ ゆうじ\n",
      "木村 文紀\n",
      "きむら ふみかず\n",
      "鈴木 将平\n",
      "すずき しょうへい\n",
      "愛斗\n",
      "あいと\n",
      "秋山 翔吾\n",
      "あきやま しょうご\n",
      "熊代 聖人\n",
      "くましろ まさと\n",
      "斉藤 彰吾\n",
      "さいとう しょうご\n",
      "戸川 大輔\n",
      "とがわ だいすけ\n",
      "川越 誠司\n",
      "かわごえ せいじ\n",
      "高木 渉\n",
      "たかぎ わたる\n",
      "辻 発彦\n",
      "つじ はつひこ\n",
      "馬場 敏史\n",
      "ばば としふみ\n",
      "小野 和義\n",
      "おの かずよし\n",
      "西口 文也\n",
      "にしぐち ふみや\n",
      "秋元 宏作\n",
      "あきもと こうさく\n",
      "阿部 真宏\n",
      "あべ まさひろ\n",
      "赤田 将吾\n",
      "あかだ しょうご\n",
      "黒田 哲史\n",
      "くろだ さとし\n",
      "佐藤 友亮\n",
      "さとう ともあき\n",
      "松井 稼頭央\n",
      "まつい かずお\n",
      "高木 浩之\n",
      "たかぎ ひろゆき\n",
      "杉山 賢人\n",
      "すぎやま けんと\n",
      "許 銘傑\n",
      "しゅう みんちぇ\n",
      "野田 浩輔\n",
      "のだ こうすけ\n",
      "平尾 博司\n",
      "ひらお ひろし\n",
      "嶋 重宣\n",
      "しま しげのぶ\n",
      "清川 栄治\n",
      "きよかわ えいじ\n"
     ]
    }
   ],
   "source": [
    "# 西武ライオンズの選手名を取得する\n",
    "import requests\n",
    "from bs4 import BeautifulSoup\n",
    "\n",
    "\n",
    "def main():\n",
    "    url = 'https://www.seibulions.jp/team/player/list/'\n",
    "    res = requests.get(url)\n",
    "    content = res.content\n",
    "    soup = BeautifulSoup(content, 'html.parser')\n",
    "#     名前まで取得する場合\n",
    "    sponsors = soup.find_all(\"p\",attrs={\"class\":\"pl_name\"})\n",
    "    for sponsor in sponsors:\n",
    "        print(sponsor.text)\n",
    "\n",
    "if __name__ == '__main__':\n",
    "    main()"
   ]
  },
  {
   "cell_type": "code",
   "execution_count": 23,
   "metadata": {},
   "outputs": [
    {
     "name": "stdout",
     "output_type": "stream",
     "text": [
      "今井 達也\n",
      "渡邉 勇太朗\n",
      "高橋 光成\n",
      "増田 達至\n",
      "大石 達也\n",
      "松本 航\n",
      "多和田 真三郎\n",
      "齊藤 大将\n",
      "高木 勇人\n",
      "十亀 剣\n",
      "中塚 駿太\n",
      "野田 昇吾\n",
      "平井 克典\n",
      "粟津 凱士\n",
      "内海 哲也\n",
      "森脇 亮介\n",
      "小石 博孝\n",
      "榎田 大樹\n",
      "佐野 泰雄\n",
      "伊藤 翔\n",
      "田村 伊知郎\n",
      "相内 誠\n",
      "カイル・マーティン\n",
      "小川 龍也\n",
      "本田 圭佑\n",
      "武隈 祥太\n",
      "廖 任磊\n",
      "ザック・ニール\n",
      "國場 翼\n",
      "南川 忠亮\n",
      "平良 海馬\n",
      "松本 直晃\n",
      "藤田 航生\n",
      "デュアンテ・ヒース\n",
      "郭 俊麟\n",
      "高橋 朋己\n",
      "與座 海人\n",
      "東野 葵\n",
      "大窪 士夢\n",
      "森 友哉\n",
      "岡田 雅利\n",
      "牧野 翔矢\n",
      "駒月 仁人\n",
      "中田 祥多\n",
      "齊藤 誠人\n",
      "中熊 大智\n",
      "星 孝典\n",
      "水口 大地\n",
      "山野辺 翔\n",
      "外崎 修汰\n",
      "源田 壮亮\n",
      "佐藤 龍世\n",
      "永江 恭平\n",
      "山川 穂高\n",
      "呉 念庭\n",
      "西川 愛也\n",
      "山田 遥楓\n",
      "金子 一輝\n",
      "中村 剛也\n",
      "綱島 龍生\n",
      "エルネスト・メヒア\n",
      "栗山 巧\n",
      "金子 侑司\n",
      "木村 文紀\n",
      "鈴木 将平\n",
      "愛斗\n",
      "秋山 翔吾\n",
      "熊代 聖人\n",
      "斉藤 彰吾\n",
      "戸川 大輔\n",
      "川越 誠司\n",
      "高木 渉\n",
      "辻 発彦\n",
      "馬場 敏史\n",
      "小野 和義\n",
      "西口 文也\n",
      "秋元 宏作\n",
      "阿部 真宏\n",
      "赤田 将吾\n",
      "黒田 哲史\n",
      "佐藤 友亮\n",
      "松井 稼頭央\n",
      "高木 浩之\n",
      "杉山 賢人\n",
      "許 銘傑\n",
      "野田 浩輔\n",
      "平尾 博司\n",
      "嶋 重宣\n",
      "清川 栄治\n"
     ]
    }
   ],
   "source": [
    "# 西武ライオンズの選手名（漢字名だけ）を取得する\n",
    "import requests\n",
    "from bs4 import BeautifulSoup\n",
    "\n",
    "\n",
    "def main():\n",
    "    url = 'https://www.seibulions.jp/team/player/list/'\n",
    "    res = requests.get(url)\n",
    "    content = res.content\n",
    "    soup = BeautifulSoup(content, 'html.parser')\n",
    "#     名前まで取得する場合\n",
    "    sponsors = soup.find_all(\"p\",attrs={\"class\":\"pl_name\"})\n",
    "    for sponsor in sponsors:\n",
    "        print(str(sponsor)[19:].split(\"<br/>\")[0])\n",
    "        #str(sponsor)[19:] で文字列の１９（配列は０からなので厳密には２０）から文字列を使う\n",
    "        # .split(\"<br/>\")[0] は中にあるbrタグでスプリット（配列に分ける）して最初のゼロを使う\n",
    "if __name__ == '__main__':\n",
    "    main()"
   ]
  },
  {
   "cell_type": "code",
   "execution_count": 102,
   "metadata": {},
   "outputs": [
    {
     "ename": "ModuleNotFoundError",
     "evalue": "No module named 'pandas'",
     "output_type": "error",
     "traceback": [
      "\u001b[0;31m---------------------------------------------------------------------------\u001b[0m",
      "\u001b[0;31mModuleNotFoundError\u001b[0m                       Traceback (most recent call last)",
      "\u001b[0;32m<ipython-input-102-7c6c143cecbb>\u001b[0m in \u001b[0;36m<module>\u001b[0;34m\u001b[0m\n\u001b[1;32m      1\u001b[0m \u001b[0;32mimport\u001b[0m \u001b[0mrequests\u001b[0m\u001b[0;34m\u001b[0m\u001b[0;34m\u001b[0m\u001b[0m\n\u001b[1;32m      2\u001b[0m \u001b[0;32mfrom\u001b[0m \u001b[0mbs4\u001b[0m \u001b[0;32mimport\u001b[0m \u001b[0mBeautifulSoup\u001b[0m\u001b[0;34m\u001b[0m\u001b[0;34m\u001b[0m\u001b[0m\n\u001b[0;32m----> 3\u001b[0;31m \u001b[0;32mimport\u001b[0m \u001b[0mpandas\u001b[0m \u001b[0;32mas\u001b[0m \u001b[0mpd\u001b[0m\u001b[0;34m\u001b[0m\u001b[0;34m\u001b[0m\u001b[0m\n\u001b[0m\u001b[1;32m      4\u001b[0m \u001b[0;34m\u001b[0m\u001b[0m\n\u001b[1;32m      5\u001b[0m \u001b[0;34m\u001b[0m\u001b[0m\n",
      "\u001b[0;31mModuleNotFoundError\u001b[0m: No module named 'pandas'"
     ]
    }
   ],
   "source": [
    "import requests\n",
    "from bs4 import BeautifulSoup\n",
    "import pandas as pd\n",
    "\n",
    "\n",
    "def main():\n",
    "    url = 'https://www.seibulions.jp/team/player/list/'\n",
    "    res = requests.get(url)\n",
    "    content = res.content\n",
    "    soup = BeautifulSoup(content, 'html.parser')\n",
    "    sponsors = soup.find_all(\"a\", attrs={\"class\":\"link\",\"href\":\"/link\"})\n",
    "#     for sponsor in sponsors[]: #本来はフルのfor文をやりたいがデータが取れすぎるので\n",
    "    for sponsor in sponsors[:3]:\n",
    "        each_data =  sponsor.find(\"a\")\n",
    "        if 'player' in each_data['href']:\n",
    "            url2 = 'https://www.seibulions.jp' + each_data['href']\n",
    "            res2 = pd.read_html(url2, flavor='lxml')\n",
    "            print(res2[0])\n",
    "                            \n",
    "        \n",
    "if __name__ == '__main__':\n",
    "    main()"
   ]
  },
  {
   "cell_type": "code",
   "execution_count": 25,
   "metadata": {},
   "outputs": [
    {
     "name": "stdout",
     "output_type": "stream",
     "text": [
      "『ポケットモンスター ソード・シールド』NEWS #03 ポケモンバトル篇 https://www.youtube.com/embed/1zs-1uFKO-s\n"
     ]
    }
   ],
   "source": [
    "# import requests\n",
    "# from bs4 import BeautifulSoup\n",
    "\n",
    "\n",
    "# def main():\n",
    "#     url = 'https://www.pokemon.co.jp/ex/sword_shield/news/'\n",
    "#     res = requests.get(url)\n",
    "#     content = res.content\n",
    "#     soup = BeautifulSoup(content, 'html.parser')\n",
    "#     sponsors = soup.find_all('div', class_='c-panel-list')\n",
    "#     for sponsor in sponsors:\n",
    "#         url = sponsor.h3.a['href']\n",
    "#         name = sponsor.a.text\n",
    "#         print(name, url)\n",
    "\n",
    "\n",
    "# if __name__ == '__main__':\n",
    "#     main()"
   ]
  },
  {
   "cell_type": "code",
   "execution_count": 28,
   "metadata": {},
   "outputs": [
    {
     "name": "stdout",
     "output_type": "stream",
     "text": [
      "もっと見る /info/cat_game/?news_recommend_category=more\n",
      "\n",
      "\n",
      "\n",
      "\n",
      "全国のポケモンセンターで、新しいポケモンの情報をゲットして、プレゼントを手に入れよう！\n",
      "2019.08.23\n",
      "\n",
      "\n",
      "\n",
      " /info/2019/08/190823_p01.html?news_recommend_category=post\n",
      "\n",
      "\n",
      "\n",
      "\n",
      "世界中のポケモントレーナーとバトルができる、「バトルスタジアム」などの新情報を公開！\n",
      "2019.08.16\n",
      "\n",
      "\n",
      "\n",
      " /ex/sword_shield/?news_recommend_category=post\n",
      "\n",
      "\n",
      "\n",
      "\n",
      "『ポケットモンスター ソード・シールド』体験会、「ひみつのアーリー・トライアル」に参加しよう！\n",
      "2019.08.16\n",
      "\n",
      "\n",
      "\n",
      " /info/2019/08/190816_gm01.html?news_recommend_category=post\n",
      "\n",
      "\n",
      "\n",
      "\n",
      "『ポッ拳 DX』で、報酬付き「公式グループマッチ」第44回の開催が決定！\n",
      "2019.08.16\n",
      "\n",
      "\n",
      "\n",
      " /info/2019/08/190816_gm02.html?news_recommend_category=post\n",
      "\n",
      "\n",
      "\n",
      "\n",
      "新たなリージョンフォームのポケモンが公開！ ガラルのすがたでのみ進化するポケモンも！\n",
      "2019.08.07\n",
      "\n",
      "\n",
      "\n",
      " /redirect/index.php/20247/?news_recommend_category=post\n",
      "\n",
      "\n",
      "\n",
      "\n",
      "お腹が空くとフォルムチェンジする新ポケモン、モルペコを紹介！\n",
      "2019.08.07\n",
      "\n",
      "\n",
      "\n",
      " /ex/sword_shield/pokemon/190807_01.html?news_recommend_category=post\n",
      "\n",
      "\n",
      "\n",
      "\n",
      "チャンピオンへの挑戦権を争うライバル、ビートとマリィを紹介！\n",
      "2019.08.07\n",
      "\n",
      "\n",
      "\n",
      " /ex/sword_shield/character/?news_recommend_category=post\n",
      "\n",
      "\n",
      "\n",
      "\n",
      "ライバルのマリィを応援するやっかい者たち、エール団を紹介！\n",
      "2019.08.07\n",
      "\n",
      "\n",
      "\n",
      " /ex/sword_shield/character/190807_03.html?news_recommend_category=post\n",
      "ゲームの最新ニュースをもっと見る /info/cat_game/?news_recommend_category=more\n",
      "\n",
      "\n",
      "\n",
      "\n",
      "『ポケットモンスター ソード・シールド』、最新情報公開中！\n",
      "\n",
      "\n",
      "\n",
      " /ex/sword_shield/?news_recommend=attention\n",
      "\n",
      "\n",
      "\n",
      "\n",
      "「ミュウツーの逆襲 EVOLUTION」、大ヒット上映中！\n",
      "\n",
      "\n",
      "\n",
      " /redirect/index.php/438/?news_recommend=attention\n",
      "\n",
      "\n",
      "\n",
      "\n",
      "ポケモンの新しいアプリゲーム、事前登録受け付け中！\n",
      "\n",
      "\n",
      "\n",
      " /redirect/index.php/20198/?news_recommend=attention\n",
      "\n",
      "\n",
      "\n",
      "\n",
      "ゲームを予約して、入会しよう！\n",
      "\n",
      "\n",
      "\n",
      " /redirect/index.php/20208/?news_recommend=attention\n",
      "\n",
      "\n",
      "\n",
      "\n",
      "ポケモンセンター早期購入特典を手に入れよう！\n",
      "\n",
      "\n",
      "\n",
      " /info/2019/07/190708_p01.html?news_recommend=attention\n",
      "\n",
      "\n",
      "\n",
      "\n",
      "新しい強化拡張パック、好評発売中！\n",
      "\n",
      "\n",
      "\n",
      " /redirect/index.php/6420/?news_recommend=attention\n"
     ]
    }
   ],
   "source": [
    "# import requests\n",
    "# from bs4 import BeautifulSoup\n",
    "\n",
    "\n",
    "# def main():\n",
    "#     url = 'https://www.pokemon.co.jp/info/2019/08/190816_gm01.html?i002=news'\n",
    "#     res = requests.get(url)\n",
    "#     content = res.content\n",
    "#     soup = BeautifulSoup(content, 'html.parser')\n",
    "#     sponsors = soup.find_all(\"a\")\n",
    "#     for sponsor in sponsors:\n",
    "#         if 'news' in sponsor['href']:\n",
    "#             print(sponsor.text,sponsor['href'])\n",
    "\n",
    "# if __name__ == '__main__':\n",
    "#     main()"
   ]
  },
  {
   "cell_type": "code",
   "execution_count": 27,
   "metadata": {},
   "outputs": [
    {
     "name": "stdout",
     "output_type": "stream",
     "text": [
      "全国のポケモンセンターで、新しいポケモンの情報をゲットして、プレゼントを手に入れよう！\n",
      "2019.08.23\n",
      "世界中のポケモントレーナーとバトルができる、「バトルスタジアム」などの新情報を公開！\n",
      "2019.08.16\n",
      "『ポケットモンスター ソード・シールド』体験会、「ひみつのアーリー・トライアル」に参加しよう！\n",
      "2019.08.16\n",
      "『ポッ拳 DX』で、報酬付き「公式グループマッチ」第44回の開催が決定！\n",
      "2019.08.16\n",
      "新たなリージョンフォームのポケモンが公開！ ガラルのすがたでのみ進化するポケモンも！\n",
      "2019.08.07\n",
      "お腹が空くとフォルムチェンジする新ポケモン、モルペコを紹介！\n",
      "2019.08.07\n",
      "チャンピオンへの挑戦権を争うライバル、ビートとマリィを紹介！\n",
      "2019.08.07\n",
      "ライバルのマリィを応援するやっかい者たち、エール団を紹介！\n",
      "2019.08.07\n"
     ]
    }
   ],
   "source": [
    "# import requests\n",
    "# from bs4 import BeautifulSoup\n",
    "\n",
    "\n",
    "# def main():\n",
    "#     url = 'https://www.pokemon.co.jp/info/2019/08/190816_gm01.html?i002=news'\n",
    "#     res = requests.get(url)\n",
    "#     content = res.content\n",
    "#     soup = BeautifulSoup(content, 'html.parser')\n",
    "# #     名前まで取得する場合\n",
    "#     sponsors = soup.find_all(\"div\",attrs={\"class\":\"p-pagepnl__i-tbl\"})\n",
    "#     for sponsor in sponsors:\n",
    "\n",
    "        \n",
    "        \n",
    "#         print(sponsor.text.strip())\n",
    "        \n",
    "\n",
    "# if __name__ == '__main__':\n",
    "#     main()"
   ]
  },
  {
   "cell_type": "code",
   "execution_count": 26,
   "metadata": {},
   "outputs": [
    {
     "name": "stdout",
     "output_type": "stream",
     "text": [
      "\n",
      "\n",
      "\n",
      "全国のポケモンセンターで、新しいポケモンの情報をゲットして、プレゼントを手に入れよう！\n",
      "2019.08.23\n",
      "\n",
      "\n",
      "\n",
      "\n",
      "\n",
      "世界中のポケモントレーナーとバトルができる、「バトルスタジアム」などの新情報を公開！\n",
      "2019.08.16\n",
      "\n",
      "\n",
      "\n",
      "\n",
      "\n",
      "『ポケットモンスター ソード・シールド』体験会、「ひみつのアーリー・トライアル」に参加しよう！\n",
      "2019.08.16\n",
      "\n",
      "\n",
      "\n",
      "\n",
      "\n",
      "『ポッ拳 DX』で、報酬付き「公式グループマッチ」第44回の開催が決定！\n",
      "2019.08.16\n",
      "\n",
      "\n",
      "\n",
      "\n",
      "\n",
      "新たなリージョンフォームのポケモンが公開！ ガラルのすがたでのみ進化するポケモンも！\n",
      "2019.08.07\n",
      "\n",
      "\n",
      "\n",
      "\n",
      "\n",
      "お腹が空くとフォルムチェンジする新ポケモン、モルペコを紹介！\n",
      "2019.08.07\n",
      "\n",
      "\n",
      "\n",
      "\n",
      "\n",
      "チャンピオンへの挑戦権を争うライバル、ビートとマリィを紹介！\n",
      "2019.08.07\n",
      "\n",
      "\n",
      "\n",
      "\n",
      "\n",
      "ライバルのマリィを応援するやっかい者たち、エール団を紹介！\n",
      "2019.08.07\n",
      "\n",
      "\n"
     ]
    }
   ],
   "source": [
    "# import requests\n",
    "# from bs4 import BeautifulSoup\n",
    "\n",
    "\n",
    "# def main():\n",
    "#     url = 'https://www.pokemon.co.jp/info/2019/08/190816_gm01.html?i002=news'\n",
    "#     res = requests.get(url)\n",
    "#     content = res.content\n",
    "#     soup = BeautifulSoup(content, 'html.parser')\n",
    "# #     名前まで取得する場合\n",
    "#     sponsors = soup.find_all(\"div\",attrs={\"class\":\"p-pagepnl__i-tbl\"})\n",
    "#     for sponsor in sponsors:\n",
    "#         print(sponsor.text)\n",
    "\n",
    "       \n",
    "            \n",
    "        \n",
    "        \n",
    "      \n",
    "        \n",
    "\n",
    "# if __name__ == '__main__':\n",
    "#     main()"
   ]
  },
  {
   "cell_type": "raw",
   "metadata": {},
   "source": []
  },
  {
   "cell_type": "code",
   "execution_count": 9,
   "metadata": {},
   "outputs": [
    {
     "name": "stdout",
     "output_type": "stream",
     "text": [
      "Untitled.ipynb \u001b[34menv\u001b[m\u001b[m            hello.py       output3.csv    req.txt\r\n",
      "\u001b[34m__pycache__\u001b[m\u001b[m    events.py      output.csv     output3.tvs    scraping.ipynb\r\n",
      "calc.py        fizzbuzz.py    output2.csv    pycamp.txt     test.csv\r\n"
     ]
    }
   ],
   "source": [
    "!ls\n",
    "        "
   ]
  },
  {
   "cell_type": "code",
   "execution_count": 8,
   "metadata": {},
   "outputs": [
    {
     "name": "stdout",
     "output_type": "stream",
     "text": [
      "Row #1 [\"'4/5/2015 13:34'\", \"'Apples'\", \"'73' \"]\n",
      "Row #2 [\"'4/5/2015 3:41'\", \"'Cherries'\", \"'85' \"]\n",
      "Row #3 [\"'4/6/2015 12:46'\", \"'Pears'\", \"'14' \"]\n",
      "Row #4 [\"'4/8/2015 8:59'\", \"'Oranges'\", \"'52' \"]\n",
      "Row #5 [\"'4/10/2015 2:07'\", \"'Apples'\", \"'152' \"]\n",
      "Row #6 [\"'4/10/2015 18:10'\", \"'Bananas'\", \"'23'\"]\n",
      "Row #7 [\"'4/10/2015 2:40'\", \"'Strawberries'\", \"'98'\"]\n"
     ]
    }
   ],
   "source": [
    "import csv\n",
    "example_file = open('test.csv')\n",
    "example_reader = csv.reader(example_file)\n",
    "for row in example_reader:\n",
    "    print('Row #' + str(example_reader.line_num)+ ' ' + str(row))"
   ]
  },
  {
   "cell_type": "code",
   "execution_count": 487,
   "metadata": {},
   "outputs": [
    {
     "data": {
      "text/plain": [
       "21"
      ]
     },
     "execution_count": 487,
     "metadata": {},
     "output_type": "execute_result"
    }
   ],
   "source": [
    "import csv\n",
    "output_file = open('output.csv','w',newline='')\n",
    "output_writer = csv.writer(output_file)\n",
    "output_writer.writerow(['spam','eggs','bacon','ham'])\n"
   ]
  },
  {
   "cell_type": "code",
   "execution_count": 491,
   "metadata": {},
   "outputs": [
    {
     "data": {
      "text/plain": [
       "32"
      ]
     },
     "execution_count": 491,
     "metadata": {},
     "output_type": "execute_result"
    }
   ],
   "source": [
    "output_writer.writerow(['Hello, world!','eggs','bacon','ham'])"
   ]
  },
  {
   "cell_type": "code",
   "execution_count": 492,
   "metadata": {},
   "outputs": [
    {
     "data": {
      "text/plain": [
       "16"
      ]
     },
     "execution_count": 492,
     "metadata": {},
     "output_type": "execute_result"
    }
   ],
   "source": [
    "output_writer.writerow([1,2,3.141592,4])"
   ]
  },
  {
   "cell_type": "code",
   "execution_count": 493,
   "metadata": {},
   "outputs": [],
   "source": [
    "output_file.close()"
   ]
  },
  {
   "cell_type": "code",
   "execution_count": 23,
   "metadata": {},
   "outputs": [
    {
     "data": {
      "text/plain": [
       "21"
      ]
     },
     "execution_count": 23,
     "metadata": {},
     "output_type": "execute_result"
    }
   ],
   "source": [
    "import csv\n",
    "output_file = open('output2.csv','w',newline='')\n",
    "output_writer = csv.writer(output_file)\n",
    "output_writer.writerow(['spam','eggs','bacon','ham'])"
   ]
  },
  {
   "cell_type": "code",
   "execution_count": 12,
   "metadata": {},
   "outputs": [
    {
     "data": {
      "text/plain": [
       "31"
      ]
     },
     "execution_count": 12,
     "metadata": {},
     "output_type": "execute_result"
    }
   ],
   "source": [
    "output_writer.writerow(['Hello,world','eggs','bacon','kann'])"
   ]
  },
  {
   "cell_type": "code",
   "execution_count": 13,
   "metadata": {},
   "outputs": [
    {
     "data": {
      "text/plain": [
       "17"
      ]
     },
     "execution_count": 13,
     "metadata": {},
     "output_type": "execute_result"
    }
   ],
   "source": [
    "output_writer.writerow([1,2,3.141592,88])"
   ]
  },
  {
   "cell_type": "code",
   "execution_count": 15,
   "metadata": {},
   "outputs": [],
   "source": [
    "output_file.close()"
   ]
  },
  {
   "cell_type": "code",
   "execution_count": 19,
   "metadata": {},
   "outputs": [
    {
     "data": {
      "text/plain": [
       "5"
      ]
     },
     "execution_count": 19,
     "metadata": {},
     "output_type": "execute_result"
    }
   ],
   "source": [
    "import csv\n",
    "output_file = open('output2.csv','w',newline='')\n",
    "output_writer = csv.writer(output_file)\n",
    "output_writer.writerow(['mac'])"
   ]
  },
  {
   "cell_type": "code",
   "execution_count": 20,
   "metadata": {},
   "outputs": [],
   "source": [
    "output_file.close()"
   ]
  },
  {
   "cell_type": "code",
   "execution_count": 21,
   "metadata": {},
   "outputs": [
    {
     "data": {
      "text/plain": [
       "9"
      ]
     },
     "execution_count": 21,
     "metadata": {},
     "output_type": "execute_result"
    }
   ],
   "source": [
    "import csv\n",
    "output_file = open('output2.csv','w',newline='')\n",
    "output_writer = csv.writer(output_file)\n",
    "output_writer.writerow(['mac','mos'])"
   ]
  },
  {
   "cell_type": "code",
   "execution_count": 22,
   "metadata": {},
   "outputs": [],
   "source": [
    "output_file.close()"
   ]
  },
  {
   "cell_type": "code",
   "execution_count": 24,
   "metadata": {},
   "outputs": [
    {
     "data": {
      "text/plain": [
       "21"
      ]
     },
     "execution_count": 24,
     "metadata": {},
     "output_type": "execute_result"
    }
   ],
   "source": [
    "import csv\n",
    "output_file = open('output2.csv','w',newline='')\n",
    "output_writer = csv.writer(output_file)\n",
    "output_writer.writerow(['spam','eggs','bacon','ham'])"
   ]
  },
  {
   "cell_type": "code",
   "execution_count": 25,
   "metadata": {},
   "outputs": [
    {
     "data": {
      "text/plain": [
       "31"
      ]
     },
     "execution_count": 25,
     "metadata": {},
     "output_type": "execute_result"
    }
   ],
   "source": [
    "output_writer.writerow(['Hello,world','eggs','bacon','kann'])"
   ]
  },
  {
   "cell_type": "code",
   "execution_count": 26,
   "metadata": {},
   "outputs": [
    {
     "data": {
      "text/plain": [
       "17"
      ]
     },
     "execution_count": 26,
     "metadata": {},
     "output_type": "execute_result"
    }
   ],
   "source": [
    "output_writer.writerow([1,2,3.141592,88])"
   ]
  },
  {
   "cell_type": "code",
   "execution_count": 27,
   "metadata": {},
   "outputs": [
    {
     "data": {
      "text/plain": [
       "9"
      ]
     },
     "execution_count": 27,
     "metadata": {},
     "output_type": "execute_result"
    }
   ],
   "source": [
    "output_writer.writerow(['mac','mos'])"
   ]
  },
  {
   "cell_type": "code",
   "execution_count": 28,
   "metadata": {},
   "outputs": [],
   "source": [
    "output_file.close()"
   ]
  },
  {
   "cell_type": "markdown",
   "metadata": {},
   "source": [
    " "
   ]
  },
  {
   "cell_type": "code",
   "execution_count": null,
   "metadata": {},
   "outputs": [],
   "source": []
  },
  {
   "cell_type": "code",
   "execution_count": 31,
   "metadata": {},
   "outputs": [
    {
     "data": {
      "text/plain": [
       "23"
      ]
     },
     "execution_count": 31,
     "metadata": {},
     "output_type": "execute_result"
    }
   ],
   "source": [
    "import csv\n",
    "csv_file = open('output3.csv','w',newline='')\n",
    "csv_writer = csv.writer(csv_file,delimiter ='\\t',lineterminator='\\n\\n')\n",
    "csv_writer.writerow(['apples','oranges','grapes'])"
   ]
  },
  {
   "cell_type": "code",
   "execution_count": 32,
   "metadata": {},
   "outputs": [
    {
     "data": {
      "text/plain": [
       "16"
      ]
     },
     "execution_count": 32,
     "metadata": {},
     "output_type": "execute_result"
    }
   ],
   "source": [
    "csv_writer.writerow(['eggs','bacon','ham'])"
   ]
  },
  {
   "cell_type": "code",
   "execution_count": 34,
   "metadata": {},
   "outputs": [
    {
     "data": {
      "text/plain": [
       "26"
      ]
     },
     "execution_count": 34,
     "metadata": {},
     "output_type": "execute_result"
    }
   ],
   "source": [
    "csv_writer.writerow(['spam','spam','spam','spam','spam'])"
   ]
  },
  {
   "cell_type": "code",
   "execution_count": 36,
   "metadata": {},
   "outputs": [],
   "source": [
    "csv_file.close()"
   ]
  },
  {
   "cell_type": "code",
   "execution_count": 37,
   "metadata": {},
   "outputs": [
    {
     "data": {
      "text/plain": [
       "23"
      ]
     },
     "execution_count": 37,
     "metadata": {},
     "output_type": "execute_result"
    }
   ],
   "source": [
    "import csv\n",
    "csv_file = open('output3.tvs','w',newline='')\n",
    "csv_writer = csv.writer(csv_file,delimiter ='\\t',lineterminator='\\n\\n')\n",
    "csv_writer.writerow(['apples','oranges','grapes'])"
   ]
  },
  {
   "cell_type": "code",
   "execution_count": 38,
   "metadata": {},
   "outputs": [
    {
     "data": {
      "text/plain": [
       "16"
      ]
     },
     "execution_count": 38,
     "metadata": {},
     "output_type": "execute_result"
    }
   ],
   "source": [
    "csv_writer.writerow(['eggs','bacon','ham'])"
   ]
  },
  {
   "cell_type": "code",
   "execution_count": null,
   "metadata": {},
   "outputs": [],
   "source": [
    "csv_writer.writerow(['spam','spam','spam','spam','spam'])"
   ]
  },
  {
   "cell_type": "code",
   "execution_count": 39,
   "metadata": {},
   "outputs": [],
   "source": [
    "csv_file.close()"
   ]
  },
  {
   "cell_type": "code",
   "execution_count": 1,
   "metadata": {},
   "outputs": [
    {
     "data": {
      "text/plain": [
       "21"
      ]
     },
     "execution_count": 1,
     "metadata": {},
     "output_type": "execute_result"
    }
   ],
   "source": [
    "import csv\n",
    "output_file = open('output2.csv','w',newline='')\n",
    "output_writer = csv.writer(output_file)\n",
    "output_writer.writerow(['spam','eggs','bacon','ham'])"
   ]
  },
  {
   "cell_type": "code",
   "execution_count": 2,
   "metadata": {},
   "outputs": [
    {
     "data": {
      "text/plain": [
       "30"
      ]
     },
     "execution_count": 2,
     "metadata": {},
     "output_type": "execute_result"
    }
   ],
   "source": [
    "output_writer.writerow(['Hello,world','eggs','bacon','ham'])"
   ]
  },
  {
   "cell_type": "code",
   "execution_count": 3,
   "metadata": {},
   "outputs": [
    {
     "data": {
      "text/plain": [
       "18"
      ]
     },
     "execution_count": 3,
     "metadata": {},
     "output_type": "execute_result"
    }
   ],
   "source": [
    "output_writer.writerow([1,2,3.141592,4,5])"
   ]
  },
  {
   "cell_type": "code",
   "execution_count": 4,
   "metadata": {},
   "outputs": [],
   "source": [
    "output_file.close()"
   ]
  },
  {
   "cell_type": "code",
   "execution_count": 2,
   "metadata": {},
   "outputs": [
    {
     "name": "stdout",
     "output_type": "stream",
     "text": [
      "Row #1 ['spam', 'eggs', 'bacon', 'ham']\n",
      "Row #2 ['Hello,world', 'eggs', 'bacon', 'ham']\n",
      "Row #3 ['1', '2', '3.141592', '4', '5']\n"
     ]
    }
   ],
   "source": [
    "import csv\n",
    "example_file = open('output2.csv')\n",
    "example_reader = csv.reader(example_file)\n",
    "for row in example_reader:\n",
    "    print('Row #' + str(example_reader.line_num)+ ' ' + str(row))\n"
   ]
  },
  {
   "cell_type": "code",
   "execution_count": 8,
   "metadata": {
    "scrolled": false
   },
   "outputs": [
    {
     "name": "stdout",
     "output_type": "stream",
     "text": [
      "None\n"
     ]
    }
   ],
   "source": [
    "import requests\n",
    "from bs4 import BeautifulSoup \n",
    "import csv\n",
    "\n",
    "def main():\n",
    "    \n",
    "    url = 'https://www.pokemon.co.jp/info/2019/08/190816_gm01.html?i002=news'\n",
    "    res = requests.get(url)\n",
    "    content = res.content\n",
    "    soup = BeautifulSoup(content, 'html.parser')\n",
    "   \n",
    "    sponsors = soup.find_all(\"div\",attrs={\"class\":\"p-pagepnl__i-tbl\"})\n",
    "\n",
    "    \n",
    "    \n",
    "    csvlist = []\n",
    "    \n",
    "    for sponsor in sponsors:\n",
    "        \n",
    "        news_txt = sponsor.text.strip()\n",
    "        csvlist.append([news_txt])\n",
    "    \n",
    "    return csvlist\n",
    "        \n",
    "\n",
    "\n",
    "    \n",
    "    \n",
    "def write(csvlist):\n",
    "\n",
    "    \n",
    "\n",
    "\n",
    "   \n",
    "    output_file = open('pokemon.csv','w')\n",
    "    output_writer = csv.writer(output_file)\n",
    "    output_writer.writerows(csvlist)\n",
    "    output_file.close()\n",
    "    \n",
    "if __name__ == '__main__':\n",
    "    data = main()\n",
    "print(write(data))\n",
    "    \n",
    "      \n",
    "        \n",
    "\n",
    "\n"
   ]
  },
  {
   "cell_type": "code",
   "execution_count": 7,
   "metadata": {},
   "outputs": [
    {
     "name": "stdout",
     "output_type": "stream",
     "text": [
      "Row #2 ['「ポケモンひみつクラブ」に入会して、「色違いのネクロズマ」を手に入れよう！\\n2019.08.30']\n",
      "Row #4 ['『ポッ拳 DX』で、報酬付き「公式グループマッチ」第45回の開催が決定！\\n2019.08.30']\n",
      "Row #6 ['全国のポケモンセンターで、新しいポケモンの情報をゲットして、プレゼントを手に入れよう！\\n2019.08.23']\n",
      "Row #8 ['世界中のポケモントレーナーとバトルができる、「バトルスタジアム」などの新情報を公開！\\n2019.08.16']\n",
      "Row #10 ['『ポケットモンスター ソード・シールド』体験会、「ひみつのアーリー・トライアル」に参加しよう！\\n2019.08.16']\n",
      "Row #12 ['『ポッ拳 DX』で、報酬付き「公式グループマッチ」第44回の開催が決定！\\n2019.08.16']\n",
      "Row #14 ['新たなリージョンフォームのポケモンが公開！ ガラルのすがたでのみ進化するポケモンも！\\n2019.08.07']\n",
      "Row #16 ['お腹が空くとフォルムチェンジする新ポケモン、モルペコを紹介！\\n2019.08.07']\n"
     ]
    }
   ],
   "source": [
    "import csv\n",
    "example_file = open('pokemon.csv')\n",
    "example_reader = csv.reader(example_file)\n",
    "for row in example_reader:\n",
    "    print('Row #' + str(example_reader.line_num)+ ' ' + str(row))\n"
   ]
  },
  {
   "cell_type": "code",
   "execution_count": null,
   "metadata": {},
   "outputs": [],
   "source": []
  },
  {
   "cell_type": "code",
   "execution_count": 344,
   "metadata": {},
   "outputs": [
    {
     "name": "stdout",
     "output_type": "stream",
     "text": [
      "私の名前は？\n",
      "石川五右衛門(0)\n",
      "石川五右衛門(1)\n",
      "石川五右衛門(2)\n",
      "石川五右衛門(3)\n",
      "石川五右衛門(4)\n"
     ]
    }
   ],
   "source": [
    "print('私の名前は？')\n",
    "for i in range(5):\n",
    "    print('石川五右衛門('+str(i)+')')"
   ]
  },
  {
   "cell_type": "code",
   "execution_count": 345,
   "metadata": {},
   "outputs": [
    {
     "name": "stdout",
     "output_type": "stream",
     "text": [
      "5050\n"
     ]
    }
   ],
   "source": [
    "total =0\n",
    "for num in range(101):\n",
    "    total = total + num\n",
    "print(total)"
   ]
  },
  {
   "cell_type": "code",
   "execution_count": 17,
   "metadata": {},
   "outputs": [
    {
     "name": "stdout",
     "output_type": "stream",
     "text": [
      "+ 都市= Tokyo\n",
      "| 天気= shower rain\n",
      "| 最低気温= 24.0\n",
      "| 最高気温= 28.33000000000004\n",
      "| 湿度= 83\n",
      "| 気圧= 90\n",
      "| 風速度= 6.2\n",
      "\n",
      "+ 都市= Kawagoe\n",
      "| 天気= thunderstorm with light rain\n",
      "| 最低気温= 25.0\n",
      "| 最高気温= 28.890000000000043\n",
      "| 湿度= 88\n",
      "| 気圧= 10\n",
      "| 風速度= 4.1\n",
      "\n",
      "+ 都市= Fussa\n",
      "| 天気= thunderstorm with light rain\n",
      "| 最低気温= 25.0\n",
      "| 最高気温= 28.890000000000043\n",
      "| 湿度= 88\n",
      "| 気圧= 10\n",
      "| 風速度= 4.1\n",
      "\n"
     ]
    }
   ],
   "source": [
    "import requests\n",
    "import json\n",
    "\n",
    "apikey = \"a9a2238e4624c8c1203e49d4e0e3643f\"\n",
    "\n",
    "cities = [\"Tokyo,JP\",\"Kawagoe, JP\",\"Fussa, JP\"]\n",
    "\n",
    "api = \"http://api.openweathermap.org/data/2.5/weather?q={city}&APPID={key}\"\n",
    "\n",
    "\n",
    "k2c = lambda k: k - 273.15\n",
    "\n",
    "for name in cities:\n",
    "    url = api.format(city=name,key=apikey)\n",
    "    \n",
    "    r = requests.get(url)\n",
    "    \n",
    "    data = json.loads(r.text)\n",
    "    \n",
    "    print(\"+ 都市=\", data[\"name\"])\n",
    "    print(\"| 天気=\",data[\"weather\"][0][\"description\"])\n",
    "    print(\"| 最低気温=\",k2c(data[\"main\"][\"temp_min\"]))\n",
    "    print(\"| 最高気温=\",k2c(data[\"main\"][\"temp_max\"]))\n",
    "    print(\"| 湿度=\",data[\"main\"][\"humidity\"])\n",
    "    print(\"| 気圧=\",data[\"wind\"][\"deg\"])\n",
    "    print(\"| 風速度=\",data[\"wind\"][\"speed\"])\n",
    "    print(\"\")\n",
    "    \n",
    "\n"
   ]
  },
  {
   "cell_type": "code",
   "execution_count": 15,
   "metadata": {
    "scrolled": false
   },
   "outputs": [
    {
     "name": "stdout",
     "output_type": "stream",
     "text": [
      "+ 都市= Tokyo\n",
      "| 天気= shower rain\n",
      "| 最低気温= 25.0\n",
      "| 最高気温= 28.33000000000004\n",
      "| 湿度= 88\n",
      "| 気圧= 1018\n",
      "| 風向き= 360\n",
      "| 風速度= 4.1\n",
      "\n",
      "+ 都市= London\n",
      "| 天気= fog\n",
      "| 最低気温= 16.110000000000014\n",
      "| 最高気温= 19.0\n",
      "| 湿度= 93\n",
      "| 気圧= 1018\n",
      "| 風向き= 68.882\n",
      "| 風速度= 1.43\n",
      "\n",
      "+ 都市= New York\n",
      "| 天気= clear sky\n",
      "| 最低気温= 16.670000000000016\n",
      "| 最高気温= 21.110000000000014\n",
      "| 湿度= 83\n",
      "| 気圧= 1017\n",
      "| 風向き= 352.968\n",
      "| 風速度= 1.83\n",
      "\n"
     ]
    }
   ],
   "source": [
    "import requests\n",
    "import json\n",
    "\n",
    "# APIキーの指定\n",
    "apikey = \"a9a2238e4624c8c1203e49d4e0e3643f\"\n",
    "\n",
    "# 天気を調べたい都市の一覧 \n",
    "cities = [\"Tokyo,JP\", \"London,US\", \"New York,US\"]\n",
    "# APIのひな型\n",
    "api = \"http://api.openweathermap.org/data/2.5/weather?q={city}&APPID={key}\"\n",
    "\n",
    "# 温度変換(ケルビン→摂氏)\n",
    "k2c = lambda k: k - 273.15\n",
    "\n",
    "# 各都市の温度を取得する\n",
    "for name in cities:\n",
    "    # APIのURLを得る\n",
    "    url = api.format(city=name, key=apikey)\n",
    "    # 実際にAPIにリクエストを送信して結果を取得する\n",
    "    r = requests.get(url)\n",
    "    # 結果はJSON形式なのでデコードする\n",
    "    data = json.loads(r.text)\n",
    "    \n",
    "    # 結果を出力\n",
    "    print(\"+ 都市=\", data[\"name\"])\n",
    "    print(\"| 天気=\", data[\"weather\"][0][\"description\"])\n",
    "    print(\"| 最低気温=\", k2c(data[\"main\"][\"temp_min\"]))\n",
    "    print(\"| 最高気温=\", k2c(data[\"main\"][\"temp_max\"]))\n",
    "    print(\"| 湿度=\", data[\"main\"][\"humidity\"])\n",
    "    print(\"| 気圧=\", data[\"main\"][\"pressure\"])\n",
    "    print(\"| 風向き=\", data[\"wind\"][\"deg\"])\n",
    "    print(\"| 風速度=\", data[\"wind\"][\"speed\"])\n",
    "    print(\"\")"
   ]
  },
  {
   "cell_type": "code",
   "execution_count": 177,
   "metadata": {},
   "outputs": [
    {
     "name": "stdout",
     "output_type": "stream",
     "text": [
      "true\n"
     ]
    }
   ],
   "source": [
    "import requests\n",
    "from bs4 import BeautifulSoup \n",
    "import csv\n",
    "\n",
    "\n",
    "def main():\n",
    "    \n",
    "    url = 'https://www.pokemon.co.jp/info/2019/08/190816_gm01.html?i002=news'\n",
    "    res = requests.get(url)\n",
    "    content = res.content\n",
    "    soup = BeautifulSoup(content, 'html.parser')\n",
    "   \n",
    "    sponsors = soup.find_all(\"div\",attrs={\"class\":\"p-pagepnl__i-tbl\"})\n",
    "   \n",
    "    csvlist = []\n",
    "    \n",
    "    for sponsor in sponsors:\n",
    "        \n",
    "        news_txt = sponsor.text.strip()\n",
    "        csvlist.append([news_txt])\n",
    "    \n",
    "    return csvlist\n",
    "\n",
    "\n",
    "\n",
    "    \n",
    "    \n",
    "def write(csvlist):\n",
    "   \n",
    "    output_file = open('pokemon.csv','w')\n",
    "    output_writer = csv.writer(output_file)\n",
    "    output_writer.writerows(csvlist)\n",
    "    try:\n",
    "        output_file.close()\n",
    "        return 'true'\n",
    "    except:\n",
    "        return 'false'\n",
    "    \n",
    "if __name__ == '__main__':\n",
    "    data = main()\n",
    "    print(write(data))\n",
    "        \n"
   ]
  },
  {
   "cell_type": "code",
   "execution_count": 203,
   "metadata": {},
   "outputs": [
    {
     "name": "stdout",
     "output_type": "stream",
     "text": [
      "true\n"
     ]
    }
   ],
   "source": [
    "import requests\n",
    "from bs4 import BeautifulSoup \n",
    "import csv\n",
    "import datetime\n",
    "import locale\n",
    "import smtplib\n",
    "from email.mime.text import MIMEText\n",
    "from email.header import Header\n",
    "\n",
    "web_charset = \"utf-8\"\n",
    "mail_charset = \"ISO-2022-JP\"\n",
    "\n",
    "from_address = \"oha4107@gmail.com\"\n",
    "from_password = \"ytohaK3641\"\n",
    "to_address = \"kojima2891@gmail.com\"\n",
    "\n",
    "def main():\n",
    "    \n",
    "    targeturl = 'https://www.pokemon.co.jp/info/2019/08/190816_gm01.html?i002=news'\n",
    "    res = requests.get(url)\n",
    "    content = res.content\n",
    "    soup = BeautifulSoup(content, 'html.parser')\n",
    "    sponsors = soup.find_all(\"div\",attrs={\"class\":\"p-pagepnl__i-tbl\"})\n",
    "    csvlist = []    \n",
    "    for sponsor in sponsors:\n",
    "        news_txt = sponsor.text.strip()\n",
    "        csvlist.append([news_txt])    \n",
    "    return csvlist\n",
    "    \n",
    "def message(csvlist):\n",
    "\n",
    "    charset = 'iso-2022-jp'\n",
    "\n",
    "    msg = MIMEText(csvlist,'plain',charset)\n",
    "    msg['Subject'] = Header('挨拶'.encode(charset),charset)\n",
    "\n",
    "    smtp_obj = smtplib.SMTP('smtp.gmail.com',587)\n",
    "    smtp_obj.ehlo()\n",
    "    smtp_obj.starttls()\n",
    "    smtp_obj.login('oha4107@gmail.com','ytohaK3641')\n",
    "    smtp_obj.sendmail('oha4107@gmail.com','kojima2891@gmail.com',msg.as_string(csvlist))\n",
    "    smtp_obj.quit()\n",
    "\n",
    "    \n",
    "\n",
    "\n",
    "\n",
    "\n",
    "if __name__ == '__main__':\n",
    "    data = main()\n",
    "    print(write(data))"
   ]
  },
  {
   "cell_type": "code",
   "execution_count": 202,
   "metadata": {},
   "outputs": [
    {
     "data": {
      "text/plain": [
       "{'name': 'Zophie', 'isCat': True, 'miceCaught': 0, 'felineIQ': None}"
      ]
     },
     "execution_count": 202,
     "metadata": {},
     "output_type": "execute_result"
    }
   ],
   "source": [
    "string_of_json_data = '{\"name\":\"Zophie\",\"isCat\":true,\"miceCaught\":0,\"felineIQ\":null}'\n",
    "import json\n",
    "json_data_as_python_value = json.loads(string_of_json_data)\n",
    "json_data_as_python_value"
   ]
  },
  {
   "cell_type": "code",
   "execution_count": 21,
   "metadata": {},
   "outputs": [
    {
     "data": {
      "text/plain": [
       "'{\"isCat\": true, \"miceCaught\": 0, \"name\": \"Zophie\", \"felineIQ\": null}'"
      ]
     },
     "execution_count": 21,
     "metadata": {},
     "output_type": "execute_result"
    }
   ],
   "source": [
    "python_value = {'isCat':True,'miceCaught':0,'name':'Zophie','felineIQ':None}\n",
    "import json\n",
    "string_of_json_data = json.dumps(python_value)\n",
    "string_of_json_data"
   ]
  },
  {
   "cell_type": "code",
   "execution_count": 24,
   "metadata": {},
   "outputs": [
    {
     "name": "stdout",
     "output_type": "stream",
     "text": [
      "Index0in supplies is: pens\n",
      "Index1in supplies is: staplers\n",
      "Index2in supplies is: flame-throwers\n",
      "Index3in supplies is: binders\n"
     ]
    }
   ],
   "source": [
    "supplies = ['pens','staplers','flame-throwers','binders']\n",
    "for i in range(len(supplies)):\n",
    "    print('Index'+str(i)+'in supplies is: '+supplies[i])\n",
    "    \n",
    "        \n",
    "        "
   ]
  },
  {
   "cell_type": "code",
   "execution_count": 25,
   "metadata": {},
   "outputs": [
    {
     "ename": "ModuleNotFoundError",
     "evalue": "No module named 'optuna'",
     "output_type": "error",
     "traceback": [
      "\u001b[0;31m---------------------------------------------------------------------------\u001b[0m",
      "\u001b[0;31mModuleNotFoundError\u001b[0m                       Traceback (most recent call last)",
      "\u001b[0;32m<ipython-input-25-deb984238a1b>\u001b[0m in \u001b[0;36m<module>\u001b[0;34m\u001b[0m\n\u001b[0;32m----> 1\u001b[0;31m \u001b[0;32mimport\u001b[0m \u001b[0moptuna\u001b[0m\u001b[0;34m\u001b[0m\u001b[0;34m\u001b[0m\u001b[0m\n\u001b[0m",
      "\u001b[0;31mModuleNotFoundError\u001b[0m: No module named 'optuna'"
     ]
    }
   ],
   "source": [
    "import optuna"
   ]
  },
  {
   "cell_type": "code",
   "execution_count": 26,
   "metadata": {},
   "outputs": [
    {
     "name": "stdout",
     "output_type": "stream",
     "text": [
      "Collecting optuna\n",
      "\u001b[?25l  Downloading https://files.pythonhosted.org/packages/ce/db/70bac89dbfaae13c2a84ca0f39fb5fbdbb26fe58e13b15e64db279315d26/optuna-0.16.0.tar.gz (94kB)\n",
      "\u001b[K     |████████████████████████████████| 102kB 693kB/s ta 0:00:011\n",
      "\u001b[?25hCollecting sqlalchemy>=1.1.0 (from optuna)\n",
      "\u001b[?25l  Downloading https://files.pythonhosted.org/packages/fc/49/82d64d705ced344ba458197dadab30cfa745f9650ee22260ac2b275d288c/SQLAlchemy-1.3.8.tar.gz (5.9MB)\n",
      "\u001b[K     |████████████████████████████████| 5.9MB 283kB/s eta 0:00:01\n",
      "\u001b[?25hCollecting numpy (from optuna)\n",
      "\u001b[?25l  Downloading https://files.pythonhosted.org/packages/b4/e8/5ececadd9cc220bb783b4ce6ffaa9266925d37ed41237bc23bc530ab4f3d/numpy-1.17.2-cp37-cp37m-macosx_10_6_intel.whl (15.0MB)\n",
      "\u001b[K     |████████████████████████████████| 15.0MB 1.5MB/s eta 0:00:01     |████████████████                | 7.5MB 220kB/s eta 0:00:35\n",
      "\u001b[?25hCollecting scipy (from optuna)\n",
      "\u001b[?25l  Downloading https://files.pythonhosted.org/packages/d5/06/1a696649f4b2e706c509cb9333fdc6331fbe71251cede945f9e1fa13ea34/scipy-1.3.1-cp37-cp37m-macosx_10_6_intel.macosx_10_9_intel.macosx_10_9_x86_64.macosx_10_10_intel.macosx_10_10_x86_64.whl (27.7MB)\n",
      "\u001b[K     |████████████████████████████████| 27.7MB 1.5MB/s eta 0:00:01     |███████████▊                    | 10.2MB 986kB/s eta 0:00:18     |█████████████████████████████   | 25.1MB 2.0MB/s eta 0:00:02\n",
      "\u001b[?25hRequirement already satisfied: six in /Library/Frameworks/Python.framework/Versions/3.7/lib/python3.7/site-packages (from optuna) (1.12.0)\n",
      "Collecting cliff (from optuna)\n",
      "\u001b[?25l  Downloading https://files.pythonhosted.org/packages/f6/a9/e976ba91e57043c4b6add2c394e6d1ffc26712c694379c3fe72f942d2440/cliff-2.16.0-py2.py3-none-any.whl (78kB)\n",
      "\u001b[K     |████████████████████████████████| 81kB 2.8MB/s eta 0:00:011\n",
      "\u001b[?25hCollecting colorlog (from optuna)\n",
      "  Downloading https://files.pythonhosted.org/packages/68/4d/892728b0c14547224f0ac40884e722a3d00cb54e7a146aea0b3186806c9e/colorlog-4.0.2-py2.py3-none-any.whl\n",
      "Collecting pandas (from optuna)\n",
      "\u001b[?25l  Downloading https://files.pythonhosted.org/packages/39/73/99aa822ee88cef5829607217c11bf24ecc1171ae5d49d5f780085f5da518/pandas-0.25.1-cp37-cp37m-macosx_10_9_x86_64.macosx_10_10_x86_64.whl (10.1MB)\n",
      "\u001b[K     |████████████████████████████████| 10.1MB 986kB/s eta 0:00:01\n",
      "\u001b[?25hCollecting alembic (from optuna)\n",
      "\u001b[?25l  Downloading https://files.pythonhosted.org/packages/9a/0f/a5e8997d58882da8ecd288360dddf133a83145de6480216774923b393422/alembic-1.1.0.tar.gz (1.0MB)\n",
      "\u001b[K     |████████████████████████████████| 1.0MB 3.1MB/s eta 0:00:01\n",
      "\u001b[?25hCollecting typing (from optuna)\n",
      "  Downloading https://files.pythonhosted.org/packages/fe/2e/b480ee1b75e6d17d2993738670e75c1feeb9ff7f64452153cf018051cc92/typing-3.7.4.1-py3-none-any.whl\n",
      "Collecting PyYAML>=3.12 (from cliff->optuna)\n",
      "\u001b[?25l  Downloading https://files.pythonhosted.org/packages/e3/e8/b3212641ee2718d556df0f23f78de8303f068fe29cdaa7a91018849582fe/PyYAML-5.1.2.tar.gz (265kB)\n",
      "\u001b[K     |████████████████████████████████| 266kB 5.7MB/s eta 0:00:01\n",
      "\u001b[?25hCollecting pyparsing>=2.1.0 (from cliff->optuna)\n",
      "\u001b[?25l  Downloading https://files.pythonhosted.org/packages/11/fa/0160cd525c62d7abd076a070ff02b2b94de589f1a9789774f17d7c54058e/pyparsing-2.4.2-py2.py3-none-any.whl (65kB)\n",
      "\u001b[K     |████████████████████████████████| 71kB 20.6MB/s eta 0:00:01\n",
      "\u001b[?25hCollecting PrettyTable<0.8,>=0.7.2 (from cliff->optuna)\n",
      "  Downloading https://files.pythonhosted.org/packages/ef/30/4b0746848746ed5941f052479e7c23d2b56d174b82f4fd34a25e389831f5/prettytable-0.7.2.tar.bz2\n",
      "Collecting pbr!=2.1.0,>=2.0.0 (from cliff->optuna)\n",
      "\u001b[?25l  Downloading https://files.pythonhosted.org/packages/46/a4/d5c83831a3452713e4b4f126149bc4fbda170f7cb16a86a00ce57ce0e9ad/pbr-5.4.3-py2.py3-none-any.whl (110kB)\n",
      "\u001b[K     |████████████████████████████████| 112kB 2.7MB/s eta 0:00:01\n",
      "\u001b[?25hCollecting cmd2!=0.8.3,<0.9.0,>=0.8.0 (from cliff->optuna)\n",
      "\u001b[?25l  Downloading https://files.pythonhosted.org/packages/e9/40/a71caa2aaff10c73612a7106e2d35f693e85b8cf6e37ab0774274bca3cf9/cmd2-0.8.9-py2.py3-none-any.whl (53kB)\n",
      "\u001b[K     |████████████████████████████████| 61kB 19.1MB/s eta 0:00:01\n",
      "\u001b[?25hCollecting stevedore>=1.20.0 (from cliff->optuna)\n",
      "\u001b[?25l  Downloading https://files.pythonhosted.org/packages/b1/e1/f5ddbd83f60b03f522f173c03e406c1bff8343f0232a292ac96aa633b47a/stevedore-1.31.0-py2.py3-none-any.whl (43kB)\n",
      "\u001b[K     |████████████████████████████████| 51kB 4.4MB/s eta 0:00:011\n",
      "\u001b[?25hCollecting pytz>=2017.2 (from pandas->optuna)\n",
      "\u001b[?25l  Downloading https://files.pythonhosted.org/packages/87/76/46d697698a143e05f77bec5a526bf4e56a0be61d63425b68f4ba553b51f2/pytz-2019.2-py2.py3-none-any.whl (508kB)\n",
      "\u001b[K     |████████████████████████████████| 512kB 22.0MB/s eta 0:00:01\n",
      "\u001b[?25hRequirement already satisfied: python-dateutil>=2.6.1 in /Library/Frameworks/Python.framework/Versions/3.7/lib/python3.7/site-packages (from pandas->optuna) (2.8.0)\n",
      "Collecting Mako (from alembic->optuna)\n",
      "\u001b[?25l  Downloading https://files.pythonhosted.org/packages/b0/3c/8dcd6883d009f7cae0f3157fb53e9afb05a0d3d33b3db1268ec2e6f4a56b/Mako-1.1.0.tar.gz (463kB)\n",
      "\u001b[K     |████████████████████████████████| 471kB 3.1MB/s eta 0:00:01\n",
      "\u001b[?25hCollecting python-editor>=0.3 (from alembic->optuna)\n",
      "  Downloading https://files.pythonhosted.org/packages/c6/d3/201fc3abe391bbae6606e6f1d598c15d367033332bd54352b12f35513717/python_editor-1.0.4-py3-none-any.whl\n",
      "Collecting pyperclip (from cmd2!=0.8.3,<0.9.0,>=0.8.0->cliff->optuna)\n",
      "  Downloading https://files.pythonhosted.org/packages/2d/0f/4eda562dffd085945d57c2d9a5da745cfb5228c02bc90f2c74bbac746243/pyperclip-1.7.0.tar.gz\n",
      "Requirement already satisfied: wcwidth; sys_platform != \"win32\" in /Library/Frameworks/Python.framework/Versions/3.7/lib/python3.7/site-packages (from cmd2!=0.8.3,<0.9.0,>=0.8.0->cliff->optuna) (0.1.7)\n",
      "Requirement already satisfied: MarkupSafe>=0.9.2 in /Library/Frameworks/Python.framework/Versions/3.7/lib/python3.7/site-packages (from Mako->alembic->optuna) (1.1.1)\n",
      "Installing collected packages: sqlalchemy, numpy, scipy, PyYAML, pyparsing, PrettyTable, pbr, pyperclip, cmd2, stevedore, cliff, colorlog, pytz, pandas, Mako, python-editor, alembic, typing, optuna\n",
      "  Running setup.py install for sqlalchemy ... \u001b[?25ldone\n",
      "\u001b[?25h  Running setup.py install for PyYAML ... \u001b[?25ldone\n",
      "\u001b[?25h  Running setup.py install for PrettyTable ... \u001b[?25ldone\n",
      "\u001b[?25h  Running setup.py install for pyperclip ... \u001b[?25ldone\n",
      "\u001b[?25h  Running setup.py install for Mako ... \u001b[?25ldone\n",
      "\u001b[?25h  Running setup.py install for alembic ... \u001b[?25ldone\n",
      "\u001b[?25h  Running setup.py install for optuna ... \u001b[?25ldone\n",
      "\u001b[?25hSuccessfully installed Mako-1.1.0 PrettyTable-0.7.2 PyYAML-5.1.2 alembic-1.1.0 cliff-2.16.0 cmd2-0.8.9 colorlog-4.0.2 numpy-1.17.2 optuna-0.16.0 pandas-0.25.1 pbr-5.4.3 pyparsing-2.4.2 pyperclip-1.7.0 python-editor-1.0.4 pytz-2019.2 scipy-1.3.1 sqlalchemy-1.3.8 stevedore-1.31.0 typing-3.7.4.1\n"
     ]
    }
   ],
   "source": [
    "!pip install optuna"
   ]
  },
  {
   "cell_type": "code",
   "execution_count": 27,
   "metadata": {},
   "outputs": [],
   "source": [
    "import optuna"
   ]
  },
  {
   "cell_type": "code",
   "execution_count": 28,
   "metadata": {},
   "outputs": [],
   "source": [
    "def objective(trial):\n",
    "    x = trial.suggest_uniform('x',-10,10)\n",
    "    return (x - 2) ** 2"
   ]
  },
  {
   "cell_type": "code",
   "execution_count": 29,
   "metadata": {},
   "outputs": [
    {
     "name": "stderr",
     "output_type": "stream",
     "text": [
      "\u001b[32m[I 2019-09-14 11:47:00,412]\u001b[0m Finished trial#0 resulted in value: 49.97137009386838. Current best value is 49.97137009386838 with parameters: {'x': 9.06904308190779}.\u001b[0m\n",
      "\u001b[32m[I 2019-09-14 11:47:00,451]\u001b[0m Finished trial#1 resulted in value: 5.346256426659397. Current best value is 5.346256426659397 with parameters: {'x': 4.312197315684671}.\u001b[0m\n",
      "\u001b[32m[I 2019-09-14 11:47:00,506]\u001b[0m Finished trial#2 resulted in value: 114.64178788861167. Current best value is 5.346256426659397 with parameters: {'x': 4.312197315684671}.\u001b[0m\n",
      "\u001b[32m[I 2019-09-14 11:47:00,541]\u001b[0m Finished trial#3 resulted in value: 13.418920345214278. Current best value is 5.346256426659397 with parameters: {'x': 4.312197315684671}.\u001b[0m\n",
      "\u001b[32m[I 2019-09-14 11:47:00,576]\u001b[0m Finished trial#4 resulted in value: 0.13347988488778662. Current best value is 0.13347988488778662 with parameters: {'x': 2.365348990538891}.\u001b[0m\n",
      "\u001b[32m[I 2019-09-14 11:47:00,625]\u001b[0m Finished trial#5 resulted in value: 42.75327312264046. Current best value is 0.13347988488778662 with parameters: {'x': 2.365348990538891}.\u001b[0m\n",
      "\u001b[32m[I 2019-09-14 11:47:00,657]\u001b[0m Finished trial#6 resulted in value: 65.49650067306818. Current best value is 0.13347988488778662 with parameters: {'x': 2.365348990538891}.\u001b[0m\n",
      "\u001b[32m[I 2019-09-14 11:47:00,702]\u001b[0m Finished trial#7 resulted in value: 83.60257905087649. Current best value is 0.13347988488778662 with parameters: {'x': 2.365348990538891}.\u001b[0m\n",
      "\u001b[32m[I 2019-09-14 11:47:00,746]\u001b[0m Finished trial#8 resulted in value: 59.51394048793167. Current best value is 0.13347988488778662 with parameters: {'x': 2.365348990538891}.\u001b[0m\n",
      "\u001b[32m[I 2019-09-14 11:47:00,795]\u001b[0m Finished trial#9 resulted in value: 20.559951267020338. Current best value is 0.13347988488778662 with parameters: {'x': 2.365348990538891}.\u001b[0m\n",
      "\u001b[32m[I 2019-09-14 11:47:00,864]\u001b[0m Finished trial#10 resulted in value: 4.086753705647053. Current best value is 0.13347988488778662 with parameters: {'x': 2.365348990538891}.\u001b[0m\n",
      "\u001b[32m[I 2019-09-14 11:47:00,910]\u001b[0m Finished trial#11 resulted in value: 5.025463750243237. Current best value is 0.13347988488778662 with parameters: {'x': 2.365348990538891}.\u001b[0m\n",
      "\u001b[32m[I 2019-09-14 11:47:00,960]\u001b[0m Finished trial#12 resulted in value: 3.583177696835294. Current best value is 0.13347988488778662 with parameters: {'x': 2.365348990538891}.\u001b[0m\n",
      "\u001b[32m[I 2019-09-14 11:47:01,018]\u001b[0m Finished trial#13 resulted in value: 0.279183901144512. Current best value is 0.13347988488778662 with parameters: {'x': 2.365348990538891}.\u001b[0m\n",
      "\u001b[32m[I 2019-09-14 11:47:01,063]\u001b[0m Finished trial#14 resulted in value: 1.224191428012866. Current best value is 0.13347988488778662 with parameters: {'x': 2.365348990538891}.\u001b[0m\n",
      "\u001b[32m[I 2019-09-14 11:47:01,119]\u001b[0m Finished trial#15 resulted in value: 19.900430958254276. Current best value is 0.13347988488778662 with parameters: {'x': 2.365348990538891}.\u001b[0m\n",
      "\u001b[32m[I 2019-09-14 11:47:01,162]\u001b[0m Finished trial#16 resulted in value: 0.10407018024739965. Current best value is 0.10407018024739965 with parameters: {'x': 2.322599101436132}.\u001b[0m\n",
      "\u001b[32m[I 2019-09-14 11:47:01,207]\u001b[0m Finished trial#17 resulted in value: 53.22114113636827. Current best value is 0.10407018024739965 with parameters: {'x': 2.322599101436132}.\u001b[0m\n",
      "\u001b[32m[I 2019-09-14 11:47:01,258]\u001b[0m Finished trial#18 resulted in value: 0.01813836743760083. Current best value is 0.01813836743760083 with parameters: {'x': 1.8653212435548916}.\u001b[0m\n",
      "\u001b[32m[I 2019-09-14 11:47:01,306]\u001b[0m Finished trial#19 resulted in value: 19.811958080415632. Current best value is 0.01813836743760083 with parameters: {'x': 1.8653212435548916}.\u001b[0m\n",
      "\u001b[32m[I 2019-09-14 11:47:01,366]\u001b[0m Finished trial#20 resulted in value: 26.376234498616064. Current best value is 0.01813836743760083 with parameters: {'x': 1.8653212435548916}.\u001b[0m\n",
      "\u001b[32m[I 2019-09-14 11:47:01,432]\u001b[0m Finished trial#21 resulted in value: 0.010075242703728438. Current best value is 0.010075242703728438 with parameters: {'x': 1.8996244915144713}.\u001b[0m\n",
      "\u001b[32m[I 2019-09-14 11:47:01,494]\u001b[0m Finished trial#22 resulted in value: 0.3755402861759325. Current best value is 0.010075242703728438 with parameters: {'x': 1.8996244915144713}.\u001b[0m\n",
      "\u001b[32m[I 2019-09-14 11:47:01,554]\u001b[0m Finished trial#23 resulted in value: 6.534364080924503. Current best value is 0.010075242703728438 with parameters: {'x': 1.8996244915144713}.\u001b[0m\n",
      "\u001b[32m[I 2019-09-14 11:47:01,651]\u001b[0m Finished trial#24 resulted in value: 18.308197347459735. Current best value is 0.010075242703728438 with parameters: {'x': 1.8996244915144713}.\u001b[0m\n",
      "\u001b[32m[I 2019-09-14 11:47:01,715]\u001b[0m Finished trial#25 resulted in value: 1.1281037729075434. Current best value is 0.010075242703728438 with parameters: {'x': 1.8996244915144713}.\u001b[0m\n",
      "\u001b[32m[I 2019-09-14 11:47:01,764]\u001b[0m Finished trial#26 resulted in value: 11.503706789356354. Current best value is 0.010075242703728438 with parameters: {'x': 1.8996244915144713}.\u001b[0m\n",
      "\u001b[32m[I 2019-09-14 11:47:01,821]\u001b[0m Finished trial#27 resulted in value: 3.1107236364548463. Current best value is 0.010075242703728438 with parameters: {'x': 1.8996244915144713}.\u001b[0m\n",
      "\u001b[32m[I 2019-09-14 11:47:01,878]\u001b[0m Finished trial#28 resulted in value: 12.180328152195987. Current best value is 0.010075242703728438 with parameters: {'x': 1.8996244915144713}.\u001b[0m\n",
      "\u001b[32m[I 2019-09-14 11:47:01,920]\u001b[0m Finished trial#29 resulted in value: 35.394166709901945. Current best value is 0.010075242703728438 with parameters: {'x': 1.8996244915144713}.\u001b[0m\n",
      "\u001b[32m[I 2019-09-14 11:47:01,987]\u001b[0m Finished trial#30 resulted in value: 0.08833355020516044. Current best value is 0.010075242703728438 with parameters: {'x': 1.8996244915144713}.\u001b[0m\n",
      "\u001b[32m[I 2019-09-14 11:47:02,053]\u001b[0m Finished trial#31 resulted in value: 0.09949647987110383. Current best value is 0.010075242703728438 with parameters: {'x': 1.8996244915144713}.\u001b[0m\n",
      "\u001b[32m[I 2019-09-14 11:47:02,113]\u001b[0m Finished trial#32 resulted in value: 0.33941927474310285. Current best value is 0.010075242703728438 with parameters: {'x': 1.8996244915144713}.\u001b[0m\n",
      "\u001b[32m[I 2019-09-14 11:47:02,174]\u001b[0m Finished trial#33 resulted in value: 9.205050564292952. Current best value is 0.010075242703728438 with parameters: {'x': 1.8996244915144713}.\u001b[0m\n",
      "\u001b[32m[I 2019-09-14 11:47:02,232]\u001b[0m Finished trial#34 resulted in value: 5.9582969612730095. Current best value is 0.010075242703728438 with parameters: {'x': 1.8996244915144713}.\u001b[0m\n",
      "\u001b[32m[I 2019-09-14 11:47:02,293]\u001b[0m Finished trial#35 resulted in value: 0.36371069260381156. Current best value is 0.010075242703728438 with parameters: {'x': 1.8996244915144713}.\u001b[0m\n",
      "\u001b[32m[I 2019-09-14 11:47:02,348]\u001b[0m Finished trial#36 resulted in value: 2.2328203321353706. Current best value is 0.010075242703728438 with parameters: {'x': 1.8996244915144713}.\u001b[0m\n",
      "\u001b[32m[I 2019-09-14 11:47:02,400]\u001b[0m Finished trial#37 resulted in value: 9.696029709528068. Current best value is 0.010075242703728438 with parameters: {'x': 1.8996244915144713}.\u001b[0m\n",
      "\u001b[32m[I 2019-09-14 11:47:02,449]\u001b[0m Finished trial#38 resulted in value: 29.25019176752348. Current best value is 0.010075242703728438 with parameters: {'x': 1.8996244915144713}.\u001b[0m\n",
      "\u001b[32m[I 2019-09-14 11:47:02,494]\u001b[0m Finished trial#39 resulted in value: 0.12944068580055054. Current best value is 0.010075242703728438 with parameters: {'x': 1.8996244915144713}.\u001b[0m\n",
      "\u001b[32m[I 2019-09-14 11:47:02,543]\u001b[0m Finished trial#40 resulted in value: 2.1652395737285772. Current best value is 0.010075242703728438 with parameters: {'x': 1.8996244915144713}.\u001b[0m\n",
      "\u001b[32m[I 2019-09-14 11:47:02,593]\u001b[0m Finished trial#41 resulted in value: 0.08398825159121423. Current best value is 0.010075242703728438 with parameters: {'x': 1.8996244915144713}.\u001b[0m\n",
      "\u001b[32m[I 2019-09-14 11:47:02,637]\u001b[0m Finished trial#42 resulted in value: 9.070253853184813. Current best value is 0.010075242703728438 with parameters: {'x': 1.8996244915144713}.\u001b[0m\n",
      "\u001b[32m[I 2019-09-14 11:47:02,690]\u001b[0m Finished trial#43 resulted in value: 0.0013228167250985857. Current best value is 0.0013228167250985857 with parameters: {'x': 1.9636294525048277}.\u001b[0m\n",
      "\u001b[32m[I 2019-09-14 11:47:02,734]\u001b[0m Finished trial#44 resulted in value: 1.436418838092294. Current best value is 0.0013228167250985857 with parameters: {'x': 1.9636294525048277}.\u001b[0m\n"
     ]
    },
    {
     "name": "stderr",
     "output_type": "stream",
     "text": [
      "\u001b[32m[I 2019-09-14 11:47:02,773]\u001b[0m Finished trial#45 resulted in value: 5.108984127137377. Current best value is 0.0013228167250985857 with parameters: {'x': 1.9636294525048277}.\u001b[0m\n",
      "\u001b[32m[I 2019-09-14 11:47:02,815]\u001b[0m Finished trial#46 resulted in value: 4.074790696570761. Current best value is 0.0013228167250985857 with parameters: {'x': 1.9636294525048277}.\u001b[0m\n",
      "\u001b[32m[I 2019-09-14 11:47:02,866]\u001b[0m Finished trial#47 resulted in value: 19.573673495597916. Current best value is 0.0013228167250985857 with parameters: {'x': 1.9636294525048277}.\u001b[0m\n",
      "\u001b[32m[I 2019-09-14 11:47:02,917]\u001b[0m Finished trial#48 resulted in value: 0.27049436102235597. Current best value is 0.0013228167250985857 with parameters: {'x': 1.9636294525048277}.\u001b[0m\n",
      "\u001b[32m[I 2019-09-14 11:47:02,958]\u001b[0m Finished trial#49 resulted in value: 2.341221591463495. Current best value is 0.0013228167250985857 with parameters: {'x': 1.9636294525048277}.\u001b[0m\n",
      "\u001b[32m[I 2019-09-14 11:47:03,003]\u001b[0m Finished trial#50 resulted in value: 0.01397438104165248. Current best value is 0.0013228167250985857 with parameters: {'x': 1.9636294525048277}.\u001b[0m\n",
      "\u001b[32m[I 2019-09-14 11:47:03,055]\u001b[0m Finished trial#51 resulted in value: 0.01381701915375083. Current best value is 0.0013228167250985857 with parameters: {'x': 1.9636294525048277}.\u001b[0m\n",
      "\u001b[32m[I 2019-09-14 11:47:03,105]\u001b[0m Finished trial#52 resulted in value: 0.36742477916235405. Current best value is 0.0013228167250985857 with parameters: {'x': 1.9636294525048277}.\u001b[0m\n",
      "\u001b[32m[I 2019-09-14 11:47:03,151]\u001b[0m Finished trial#53 resulted in value: 5.760354838512301. Current best value is 0.0013228167250985857 with parameters: {'x': 1.9636294525048277}.\u001b[0m\n",
      "\u001b[32m[I 2019-09-14 11:47:03,221]\u001b[0m Finished trial#54 resulted in value: 1.432055024485831. Current best value is 0.0013228167250985857 with parameters: {'x': 1.9636294525048277}.\u001b[0m\n",
      "\u001b[32m[I 2019-09-14 11:47:03,283]\u001b[0m Finished trial#55 resulted in value: 8.098832928736938. Current best value is 0.0013228167250985857 with parameters: {'x': 1.9636294525048277}.\u001b[0m\n",
      "\u001b[32m[I 2019-09-14 11:47:03,328]\u001b[0m Finished trial#56 resulted in value: 1.2808277029786772. Current best value is 0.0013228167250985857 with parameters: {'x': 1.9636294525048277}.\u001b[0m\n",
      "\u001b[32m[I 2019-09-14 11:47:03,380]\u001b[0m Finished trial#57 resulted in value: 0.09460312050503085. Current best value is 0.0013228167250985857 with parameters: {'x': 1.9636294525048277}.\u001b[0m\n",
      "\u001b[32m[I 2019-09-14 11:47:03,424]\u001b[0m Finished trial#58 resulted in value: 4.210349691829898. Current best value is 0.0013228167250985857 with parameters: {'x': 1.9636294525048277}.\u001b[0m\n",
      "\u001b[32m[I 2019-09-14 11:47:03,475]\u001b[0m Finished trial#59 resulted in value: 15.78592441378264. Current best value is 0.0013228167250985857 with parameters: {'x': 1.9636294525048277}.\u001b[0m\n",
      "\u001b[32m[I 2019-09-14 11:47:03,517]\u001b[0m Finished trial#60 resulted in value: 0.047178368030035354. Current best value is 0.0013228167250985857 with parameters: {'x': 1.9636294525048277}.\u001b[0m\n",
      "\u001b[32m[I 2019-09-14 11:47:03,562]\u001b[0m Finished trial#61 resulted in value: 0.027575203985818825. Current best value is 0.0013228167250985857 with parameters: {'x': 1.9636294525048277}.\u001b[0m\n",
      "\u001b[32m[I 2019-09-14 11:47:03,609]\u001b[0m Finished trial#62 resulted in value: 1.531874506560703. Current best value is 0.0013228167250985857 with parameters: {'x': 1.9636294525048277}.\u001b[0m\n",
      "\u001b[32m[I 2019-09-14 11:47:03,662]\u001b[0m Finished trial#63 resulted in value: 0.0017322935129128701. Current best value is 0.0013228167250985857 with parameters: {'x': 1.9636294525048277}.\u001b[0m\n",
      "\u001b[32m[I 2019-09-14 11:47:03,709]\u001b[0m Finished trial#64 resulted in value: 1.3001005690959861. Current best value is 0.0013228167250985857 with parameters: {'x': 1.9636294525048277}.\u001b[0m\n",
      "\u001b[32m[I 2019-09-14 11:47:03,759]\u001b[0m Finished trial#65 resulted in value: 3.75932453427575. Current best value is 0.0013228167250985857 with parameters: {'x': 1.9636294525048277}.\u001b[0m\n",
      "\u001b[32m[I 2019-09-14 11:47:03,802]\u001b[0m Finished trial#66 resulted in value: 14.817587619227622. Current best value is 0.0013228167250985857 with parameters: {'x': 1.9636294525048277}.\u001b[0m\n",
      "\u001b[32m[I 2019-09-14 11:47:03,845]\u001b[0m Finished trial#67 resulted in value: 6.64705732665547. Current best value is 0.0013228167250985857 with parameters: {'x': 1.9636294525048277}.\u001b[0m\n",
      "\u001b[32m[I 2019-09-14 11:47:03,889]\u001b[0m Finished trial#68 resulted in value: 0.7140070353508058. Current best value is 0.0013228167250985857 with parameters: {'x': 1.9636294525048277}.\u001b[0m\n",
      "\u001b[32m[I 2019-09-14 11:47:03,936]\u001b[0m Finished trial#69 resulted in value: 0.013586276969496392. Current best value is 0.0013228167250985857 with parameters: {'x': 1.9636294525048277}.\u001b[0m\n",
      "\u001b[32m[I 2019-09-14 11:47:03,984]\u001b[0m Finished trial#70 resulted in value: 2.5756950232432936. Current best value is 0.0013228167250985857 with parameters: {'x': 1.9636294525048277}.\u001b[0m\n",
      "\u001b[32m[I 2019-09-14 11:47:04,029]\u001b[0m Finished trial#71 resulted in value: 0.01910185530312273. Current best value is 0.0013228167250985857 with parameters: {'x': 1.9636294525048277}.\u001b[0m\n",
      "\u001b[32m[I 2019-09-14 11:47:04,075]\u001b[0m Finished trial#72 resulted in value: 0.026502726096444978. Current best value is 0.0013228167250985857 with parameters: {'x': 1.9636294525048277}.\u001b[0m\n",
      "\u001b[32m[I 2019-09-14 11:47:04,119]\u001b[0m Finished trial#73 resulted in value: 0.8641310975948769. Current best value is 0.0013228167250985857 with parameters: {'x': 1.9636294525048277}.\u001b[0m\n",
      "\u001b[32m[I 2019-09-14 11:47:04,163]\u001b[0m Finished trial#74 resulted in value: 0.7218828918473246. Current best value is 0.0013228167250985857 with parameters: {'x': 1.9636294525048277}.\u001b[0m\n",
      "\u001b[32m[I 2019-09-14 11:47:04,211]\u001b[0m Finished trial#75 resulted in value: 3.1617894099004156. Current best value is 0.0013228167250985857 with parameters: {'x': 1.9636294525048277}.\u001b[0m\n",
      "\u001b[32m[I 2019-09-14 11:47:04,258]\u001b[0m Finished trial#76 resulted in value: 8.032006551434529e-06. Current best value is 8.032006551434529e-06 with parameters: {'x': 1.9971659205107417}.\u001b[0m\n",
      "\u001b[32m[I 2019-09-14 11:47:04,302]\u001b[0m Finished trial#77 resulted in value: 5.541700864569851. Current best value is 8.032006551434529e-06 with parameters: {'x': 1.9971659205107417}.\u001b[0m\n",
      "\u001b[32m[I 2019-09-14 11:47:04,345]\u001b[0m Finished trial#78 resulted in value: 0.6799927811223346. Current best value is 8.032006551434529e-06 with parameters: {'x': 1.9971659205107417}.\u001b[0m\n",
      "\u001b[32m[I 2019-09-14 11:47:04,390]\u001b[0m Finished trial#79 resulted in value: 3.1381603716011672. Current best value is 8.032006551434529e-06 with parameters: {'x': 1.9971659205107417}.\u001b[0m\n",
      "\u001b[32m[I 2019-09-14 11:47:04,441]\u001b[0m Finished trial#80 resulted in value: 0.6467514909204886. Current best value is 8.032006551434529e-06 with parameters: {'x': 1.9971659205107417}.\u001b[0m\n",
      "\u001b[32m[I 2019-09-14 11:47:04,488]\u001b[0m Finished trial#81 resulted in value: 0.0024473584291373443. Current best value is 8.032006551434529e-06 with parameters: {'x': 1.9971659205107417}.\u001b[0m\n",
      "\u001b[32m[I 2019-09-14 11:47:04,537]\u001b[0m Finished trial#82 resulted in value: 2.2352326207894384. Current best value is 8.032006551434529e-06 with parameters: {'x': 1.9971659205107417}.\u001b[0m\n",
      "\u001b[32m[I 2019-09-14 11:47:04,608]\u001b[0m Finished trial#83 resulted in value: 0.0975961400339038. Current best value is 8.032006551434529e-06 with parameters: {'x': 1.9971659205107417}.\u001b[0m\n",
      "\u001b[32m[I 2019-09-14 11:47:04,681]\u001b[0m Finished trial#84 resulted in value: 139.9343659669706. Current best value is 8.032006551434529e-06 with parameters: {'x': 1.9971659205107417}.\u001b[0m\n",
      "\u001b[32m[I 2019-09-14 11:47:04,742]\u001b[0m Finished trial#85 resulted in value: 0.7238706771335062. Current best value is 8.032006551434529e-06 with parameters: {'x': 1.9971659205107417}.\u001b[0m\n",
      "\u001b[32m[I 2019-09-14 11:47:04,810]\u001b[0m Finished trial#86 resulted in value: 0.024324494222972188. Current best value is 8.032006551434529e-06 with parameters: {'x': 1.9971659205107417}.\u001b[0m\n",
      "\u001b[32m[I 2019-09-14 11:47:04,874]\u001b[0m Finished trial#87 resulted in value: 2.2442170566851782. Current best value is 8.032006551434529e-06 with parameters: {'x': 1.9971659205107417}.\u001b[0m\n",
      "\u001b[32m[I 2019-09-14 11:47:04,937]\u001b[0m Finished trial#88 resulted in value: 8.183406841427704. Current best value is 8.032006551434529e-06 with parameters: {'x': 1.9971659205107417}.\u001b[0m\n"
     ]
    },
    {
     "name": "stderr",
     "output_type": "stream",
     "text": [
      "\u001b[32m[I 2019-09-14 11:47:04,993]\u001b[0m Finished trial#89 resulted in value: 0.4892020097686339. Current best value is 8.032006551434529e-06 with parameters: {'x': 1.9971659205107417}.\u001b[0m\n",
      "\u001b[32m[I 2019-09-14 11:47:05,054]\u001b[0m Finished trial#90 resulted in value: 3.7694651521979368. Current best value is 8.032006551434529e-06 with parameters: {'x': 1.9971659205107417}.\u001b[0m\n",
      "\u001b[32m[I 2019-09-14 11:47:05,106]\u001b[0m Finished trial#91 resulted in value: 0.026421887734468654. Current best value is 8.032006551434529e-06 with parameters: {'x': 1.9971659205107417}.\u001b[0m\n",
      "\u001b[32m[I 2019-09-14 11:47:05,157]\u001b[0m Finished trial#92 resulted in value: 1.6896914657562156. Current best value is 8.032006551434529e-06 with parameters: {'x': 1.9971659205107417}.\u001b[0m\n",
      "\u001b[32m[I 2019-09-14 11:47:05,214]\u001b[0m Finished trial#93 resulted in value: 0.006353527151206182. Current best value is 8.032006551434529e-06 with parameters: {'x': 1.9971659205107417}.\u001b[0m\n",
      "\u001b[32m[I 2019-09-14 11:47:05,273]\u001b[0m Finished trial#94 resulted in value: 0.40978494748159006. Current best value is 8.032006551434529e-06 with parameters: {'x': 1.9971659205107417}.\u001b[0m\n",
      "\u001b[32m[I 2019-09-14 11:47:05,326]\u001b[0m Finished trial#95 resulted in value: 1.4760341516045639. Current best value is 8.032006551434529e-06 with parameters: {'x': 1.9971659205107417}.\u001b[0m\n",
      "\u001b[32m[I 2019-09-14 11:47:05,377]\u001b[0m Finished trial#96 resulted in value: 0.32446208680068955. Current best value is 8.032006551434529e-06 with parameters: {'x': 1.9971659205107417}.\u001b[0m\n",
      "\u001b[32m[I 2019-09-14 11:47:05,435]\u001b[0m Finished trial#97 resulted in value: 0.1159680064128148. Current best value is 8.032006551434529e-06 with parameters: {'x': 1.9971659205107417}.\u001b[0m\n",
      "\u001b[32m[I 2019-09-14 11:47:05,491]\u001b[0m Finished trial#98 resulted in value: 0.001664287218803411. Current best value is 8.032006551434529e-06 with parameters: {'x': 1.9971659205107417}.\u001b[0m\n",
      "\u001b[32m[I 2019-09-14 11:47:05,550]\u001b[0m Finished trial#99 resulted in value: 1.1896143515065136. Current best value is 8.032006551434529e-06 with parameters: {'x': 1.9971659205107417}.\u001b[0m\n"
     ]
    }
   ],
   "source": [
    "study = optuna.create_study()\n",
    "study.optimize(objective, n_trials=100)"
   ]
  },
  {
   "cell_type": "code",
   "execution_count": 32,
   "metadata": {},
   "outputs": [
    {
     "data": {
      "text/plain": [
       "{'x': 1.9971659205107417}"
      ]
     },
     "execution_count": 32,
     "metadata": {},
     "output_type": "execute_result"
    }
   ],
   "source": [
    "study.best_params"
   ]
  },
  {
   "cell_type": "code",
   "execution_count": 31,
   "metadata": {},
   "outputs": [
    {
     "data": {
      "text/plain": [
       "FrozenTrial(number=76, state=<TrialState.COMPLETE: 1>, value=8.032006551434529e-06, datetime_start=datetime.datetime(2019, 9, 14, 11, 47, 4, 212443), datetime_complete=datetime.datetime(2019, 9, 14, 11, 47, 4, 253105), params={'x': 1.9971659205107417}, distributions={'x': UniformDistribution(low=-10, high=10)}, user_attrs={}, system_attrs={'_number': 76}, intermediate_values={}, trial_id=76)"
      ]
     },
     "execution_count": 31,
     "metadata": {},
     "output_type": "execute_result"
    }
   ],
   "source": [
    "study.best_trial"
   ]
  },
  {
   "cell_type": "code",
   "execution_count": 33,
   "metadata": {},
   "outputs": [
    {
     "data": {
      "text/plain": [
       "8.032006551434529e-06"
      ]
     },
     "execution_count": 33,
     "metadata": {},
     "output_type": "execute_result"
    }
   ],
   "source": [
    "study.best_value"
   ]
  },
  {
   "cell_type": "code",
   "execution_count": 34,
   "metadata": {},
   "outputs": [
    {
     "data": {
      "text/plain": [
       "[FrozenTrial(number=0, state=<TrialState.COMPLETE: 1>, value=49.97137009386838, datetime_start=datetime.datetime(2019, 9, 14, 11, 47, 0, 367800), datetime_complete=datetime.datetime(2019, 9, 14, 11, 47, 0, 411917), params={'x': 9.06904308190779}, distributions={'x': UniformDistribution(low=-10, high=10)}, user_attrs={}, system_attrs={'_number': 0}, intermediate_values={}, trial_id=0),\n",
       " FrozenTrial(number=1, state=<TrialState.COMPLETE: 1>, value=5.346256426659397, datetime_start=datetime.datetime(2019, 9, 14, 11, 47, 0, 413919), datetime_complete=datetime.datetime(2019, 9, 14, 11, 47, 0, 450677), params={'x': 4.312197315684671}, distributions={'x': UniformDistribution(low=-10, high=10)}, user_attrs={}, system_attrs={'_number': 1}, intermediate_values={}, trial_id=1),\n",
       " FrozenTrial(number=2, state=<TrialState.COMPLETE: 1>, value=114.64178788861167, datetime_start=datetime.datetime(2019, 9, 14, 11, 47, 0, 453854), datetime_complete=datetime.datetime(2019, 9, 14, 11, 47, 0, 506236), params={'x': -8.707090542654978}, distributions={'x': UniformDistribution(low=-10, high=10)}, user_attrs={}, system_attrs={'_number': 2}, intermediate_values={}, trial_id=2),\n",
       " FrozenTrial(number=3, state=<TrialState.COMPLETE: 1>, value=13.418920345214278, datetime_start=datetime.datetime(2019, 9, 14, 11, 47, 0, 508061), datetime_complete=datetime.datetime(2019, 9, 14, 11, 47, 0, 541468), params={'x': 5.6631844541620175}, distributions={'x': UniformDistribution(low=-10, high=10)}, user_attrs={}, system_attrs={'_number': 3}, intermediate_values={}, trial_id=3),\n",
       " FrozenTrial(number=4, state=<TrialState.COMPLETE: 1>, value=0.13347988488778662, datetime_start=datetime.datetime(2019, 9, 14, 11, 47, 0, 542579), datetime_complete=datetime.datetime(2019, 9, 14, 11, 47, 0, 576095), params={'x': 2.365348990538891}, distributions={'x': UniformDistribution(low=-10, high=10)}, user_attrs={}, system_attrs={'_number': 4}, intermediate_values={}, trial_id=4),\n",
       " FrozenTrial(number=5, state=<TrialState.COMPLETE: 1>, value=42.75327312264046, datetime_start=datetime.datetime(2019, 9, 14, 11, 47, 0, 578388), datetime_complete=datetime.datetime(2019, 9, 14, 11, 47, 0, 624641), params={'x': -4.53859871246435}, distributions={'x': UniformDistribution(low=-10, high=10)}, user_attrs={}, system_attrs={'_number': 5}, intermediate_values={}, trial_id=5),\n",
       " FrozenTrial(number=6, state=<TrialState.COMPLETE: 1>, value=65.49650067306818, datetime_start=datetime.datetime(2019, 9, 14, 11, 47, 0, 625829), datetime_complete=datetime.datetime(2019, 9, 14, 11, 47, 0, 656574), params={'x': -6.0929908360919445}, distributions={'x': UniformDistribution(low=-10, high=10)}, user_attrs={}, system_attrs={'_number': 6}, intermediate_values={}, trial_id=6),\n",
       " FrozenTrial(number=7, state=<TrialState.COMPLETE: 1>, value=83.60257905087649, datetime_start=datetime.datetime(2019, 9, 14, 11, 47, 0, 657940), datetime_complete=datetime.datetime(2019, 9, 14, 11, 47, 0, 701608), params={'x': -7.14344459440076}, distributions={'x': UniformDistribution(low=-10, high=10)}, user_attrs={}, system_attrs={'_number': 7}, intermediate_values={}, trial_id=7),\n",
       " FrozenTrial(number=8, state=<TrialState.COMPLETE: 1>, value=59.51394048793167, datetime_start=datetime.datetime(2019, 9, 14, 11, 47, 0, 702899), datetime_complete=datetime.datetime(2019, 9, 14, 11, 47, 0, 745459), params={'x': -5.714527884966887}, distributions={'x': UniformDistribution(low=-10, high=10)}, user_attrs={}, system_attrs={'_number': 8}, intermediate_values={}, trial_id=8),\n",
       " FrozenTrial(number=9, state=<TrialState.COMPLETE: 1>, value=20.559951267020338, datetime_start=datetime.datetime(2019, 9, 14, 11, 47, 0, 748096), datetime_complete=datetime.datetime(2019, 9, 14, 11, 47, 0, 794712), params={'x': 6.534308245699705}, distributions={'x': UniformDistribution(low=-10, high=10)}, user_attrs={}, system_attrs={'_number': 9}, intermediate_values={}, trial_id=9),\n",
       " FrozenTrial(number=10, state=<TrialState.COMPLETE: 1>, value=4.086753705647053, datetime_start=datetime.datetime(2019, 9, 14, 11, 47, 0, 796173), datetime_complete=datetime.datetime(2019, 9, 14, 11, 47, 0, 862979), params={'x': -0.021572087670150963}, distributions={'x': UniformDistribution(low=-10, high=10)}, user_attrs={}, system_attrs={'_number': 10}, intermediate_values={}, trial_id=10),\n",
       " FrozenTrial(number=11, state=<TrialState.COMPLETE: 1>, value=5.025463750243237, datetime_start=datetime.datetime(2019, 9, 14, 11, 47, 0, 865250), datetime_complete=datetime.datetime(2019, 9, 14, 11, 47, 0, 908898), params={'x': -0.24175461419024116}, distributions={'x': UniformDistribution(low=-10, high=10)}, user_attrs={}, system_attrs={'_number': 11}, intermediate_values={}, trial_id=11),\n",
       " FrozenTrial(number=12, state=<TrialState.COMPLETE: 1>, value=3.583177696835294, datetime_start=datetime.datetime(2019, 9, 14, 11, 47, 0, 911039), datetime_complete=datetime.datetime(2019, 9, 14, 11, 47, 0, 959474), params={'x': 0.10707166093502267}, distributions={'x': UniformDistribution(low=-10, high=10)}, user_attrs={}, system_attrs={'_number': 12}, intermediate_values={}, trial_id=12),\n",
       " FrozenTrial(number=13, state=<TrialState.COMPLETE: 1>, value=0.279183901144512, datetime_start=datetime.datetime(2019, 9, 14, 11, 47, 0, 963329), datetime_complete=datetime.datetime(2019, 9, 14, 11, 47, 1, 17218), params={'x': 2.5283785585586456}, distributions={'x': UniformDistribution(low=-10, high=10)}, user_attrs={}, system_attrs={'_number': 13}, intermediate_values={}, trial_id=13),\n",
       " FrozenTrial(number=14, state=<TrialState.COMPLETE: 1>, value=1.224191428012866, datetime_start=datetime.datetime(2019, 9, 14, 11, 47, 1, 19995), datetime_complete=datetime.datetime(2019, 9, 14, 11, 47, 1, 59689), params={'x': 3.1064318451729713}, distributions={'x': UniformDistribution(low=-10, high=10)}, user_attrs={}, system_attrs={'_number': 14}, intermediate_values={}, trial_id=14),\n",
       " FrozenTrial(number=15, state=<TrialState.COMPLETE: 1>, value=19.900430958254276, datetime_start=datetime.datetime(2019, 9, 14, 11, 47, 1, 64876), datetime_complete=datetime.datetime(2019, 9, 14, 11, 47, 1, 117777), params={'x': -2.460989907885275}, distributions={'x': UniformDistribution(low=-10, high=10)}, user_attrs={}, system_attrs={'_number': 15}, intermediate_values={}, trial_id=15),\n",
       " FrozenTrial(number=16, state=<TrialState.COMPLETE: 1>, value=0.10407018024739965, datetime_start=datetime.datetime(2019, 9, 14, 11, 47, 1, 121033), datetime_complete=datetime.datetime(2019, 9, 14, 11, 47, 1, 161142), params={'x': 2.322599101436132}, distributions={'x': UniformDistribution(low=-10, high=10)}, user_attrs={}, system_attrs={'_number': 16}, intermediate_values={}, trial_id=16),\n",
       " FrozenTrial(number=17, state=<TrialState.COMPLETE: 1>, value=53.22114113636827, datetime_start=datetime.datetime(2019, 9, 14, 11, 47, 1, 163116), datetime_complete=datetime.datetime(2019, 9, 14, 11, 47, 1, 204752), params={'x': 9.295282114926623}, distributions={'x': UniformDistribution(low=-10, high=10)}, user_attrs={}, system_attrs={'_number': 17}, intermediate_values={}, trial_id=17),\n",
       " FrozenTrial(number=18, state=<TrialState.COMPLETE: 1>, value=0.01813836743760083, datetime_start=datetime.datetime(2019, 9, 14, 11, 47, 1, 208452), datetime_complete=datetime.datetime(2019, 9, 14, 11, 47, 1, 256754), params={'x': 1.8653212435548916}, distributions={'x': UniformDistribution(low=-10, high=10)}, user_attrs={}, system_attrs={'_number': 18}, intermediate_values={}, trial_id=18),\n",
       " FrozenTrial(number=19, state=<TrialState.COMPLETE: 1>, value=19.811958080415632, datetime_start=datetime.datetime(2019, 9, 14, 11, 47, 1, 259024), datetime_complete=datetime.datetime(2019, 9, 14, 11, 47, 1, 304751), params={'x': -2.451062578802463}, distributions={'x': UniformDistribution(low=-10, high=10)}, user_attrs={}, system_attrs={'_number': 19}, intermediate_values={}, trial_id=19),\n",
       " FrozenTrial(number=20, state=<TrialState.COMPLETE: 1>, value=26.376234498616064, datetime_start=datetime.datetime(2019, 9, 14, 11, 47, 1, 307022), datetime_complete=datetime.datetime(2019, 9, 14, 11, 47, 1, 364578), params={'x': 7.135779833541939}, distributions={'x': UniformDistribution(low=-10, high=10)}, user_attrs={}, system_attrs={'_number': 20}, intermediate_values={}, trial_id=20),\n",
       " FrozenTrial(number=21, state=<TrialState.COMPLETE: 1>, value=0.010075242703728438, datetime_start=datetime.datetime(2019, 9, 14, 11, 47, 1, 367286), datetime_complete=datetime.datetime(2019, 9, 14, 11, 47, 1, 430425), params={'x': 1.8996244915144713}, distributions={'x': UniformDistribution(low=-10, high=10)}, user_attrs={}, system_attrs={'_number': 21}, intermediate_values={}, trial_id=21),\n",
       " FrozenTrial(number=22, state=<TrialState.COMPLETE: 1>, value=0.3755402861759325, datetime_start=datetime.datetime(2019, 9, 14, 11, 47, 1, 433468), datetime_complete=datetime.datetime(2019, 9, 14, 11, 47, 1, 491359), params={'x': 1.3871865812696882}, distributions={'x': UniformDistribution(low=-10, high=10)}, user_attrs={}, system_attrs={'_number': 22}, intermediate_values={}, trial_id=22),\n",
       " FrozenTrial(number=23, state=<TrialState.COMPLETE: 1>, value=6.534364080924503, datetime_start=datetime.datetime(2019, 9, 14, 11, 47, 1, 495053), datetime_complete=datetime.datetime(2019, 9, 14, 11, 47, 1, 550319), params={'x': 4.55624022363402}, distributions={'x': UniformDistribution(low=-10, high=10)}, user_attrs={}, system_attrs={'_number': 23}, intermediate_values={}, trial_id=23),\n",
       " FrozenTrial(number=24, state=<TrialState.COMPLETE: 1>, value=18.308197347459735, datetime_start=datetime.datetime(2019, 9, 14, 11, 47, 1, 557132), datetime_complete=datetime.datetime(2019, 9, 14, 11, 47, 1, 649570), params={'x': -2.278807935331958}, distributions={'x': UniformDistribution(low=-10, high=10)}, user_attrs={}, system_attrs={'_number': 24}, intermediate_values={}, trial_id=24),\n",
       " FrozenTrial(number=25, state=<TrialState.COMPLETE: 1>, value=1.1281037729075434, datetime_start=datetime.datetime(2019, 9, 14, 11, 47, 1, 653212), datetime_complete=datetime.datetime(2019, 9, 14, 11, 47, 1, 713058), params={'x': 0.9378777034128587}, distributions={'x': UniformDistribution(low=-10, high=10)}, user_attrs={}, system_attrs={'_number': 25}, intermediate_values={}, trial_id=25),\n",
       " FrozenTrial(number=26, state=<TrialState.COMPLETE: 1>, value=11.503706789356354, datetime_start=datetime.datetime(2019, 9, 14, 11, 47, 1, 715899), datetime_complete=datetime.datetime(2019, 9, 14, 11, 47, 1, 761179), params={'x': -1.3917114838022935}, distributions={'x': UniformDistribution(low=-10, high=10)}, user_attrs={}, system_attrs={'_number': 26}, intermediate_values={}, trial_id=26),\n",
       " FrozenTrial(number=27, state=<TrialState.COMPLETE: 1>, value=3.1107236364548463, datetime_start=datetime.datetime(2019, 9, 14, 11, 47, 1, 765053), datetime_complete=datetime.datetime(2019, 9, 14, 11, 47, 1, 818335), params={'x': 3.763724365215508}, distributions={'x': UniformDistribution(low=-10, high=10)}, user_attrs={}, system_attrs={'_number': 27}, intermediate_values={}, trial_id=27),\n",
       " FrozenTrial(number=28, state=<TrialState.COMPLETE: 1>, value=12.180328152195987, datetime_start=datetime.datetime(2019, 9, 14, 11, 47, 1, 822422), datetime_complete=datetime.datetime(2019, 9, 14, 11, 47, 1, 875998), params={'x': 5.490032686407964}, distributions={'x': UniformDistribution(low=-10, high=10)}, user_attrs={}, system_attrs={'_number': 28}, intermediate_values={}, trial_id=28),\n",
       " FrozenTrial(number=29, state=<TrialState.COMPLETE: 1>, value=35.394166709901945, datetime_start=datetime.datetime(2019, 9, 14, 11, 47, 1, 879680), datetime_complete=datetime.datetime(2019, 9, 14, 11, 47, 1, 918004), params={'x': 7.949299682307317}, distributions={'x': UniformDistribution(low=-10, high=10)}, user_attrs={}, system_attrs={'_number': 29}, intermediate_values={}, trial_id=29),\n",
       " FrozenTrial(number=30, state=<TrialState.COMPLETE: 1>, value=0.08833355020516044, datetime_start=datetime.datetime(2019, 9, 14, 11, 47, 1, 924190), datetime_complete=datetime.datetime(2019, 9, 14, 11, 47, 1, 980877), params={'x': 1.7027903934843955}, distributions={'x': UniformDistribution(low=-10, high=10)}, user_attrs={}, system_attrs={'_number': 30}, intermediate_values={}, trial_id=30),\n",
       " FrozenTrial(number=31, state=<TrialState.COMPLETE: 1>, value=0.09949647987110383, datetime_start=datetime.datetime(2019, 9, 14, 11, 47, 1, 989198), datetime_complete=datetime.datetime(2019, 9, 14, 11, 47, 2, 47384), params={'x': 1.6845693739170151}, distributions={'x': UniformDistribution(low=-10, high=10)}, user_attrs={}, system_attrs={'_number': 31}, intermediate_values={}, trial_id=31),\n",
       " FrozenTrial(number=32, state=<TrialState.COMPLETE: 1>, value=0.33941927474310285, datetime_start=datetime.datetime(2019, 9, 14, 11, 47, 2, 54317), datetime_complete=datetime.datetime(2019, 9, 14, 11, 47, 2, 110714), params={'x': 1.4174029911310024}, distributions={'x': UniformDistribution(low=-10, high=10)}, user_attrs={}, system_attrs={'_number': 32}, intermediate_values={}, trial_id=32),\n",
       " FrozenTrial(number=33, state=<TrialState.COMPLETE: 1>, value=9.205050564292952, datetime_start=datetime.datetime(2019, 9, 14, 11, 47, 2, 114699), datetime_complete=datetime.datetime(2019, 9, 14, 11, 47, 2, 171049), params={'x': -1.0339826242569274}, distributions={'x': UniformDistribution(low=-10, high=10)}, user_attrs={}, system_attrs={'_number': 33}, intermediate_values={}, trial_id=33),\n",
       " FrozenTrial(number=34, state=<TrialState.COMPLETE: 1>, value=5.9582969612730095, datetime_start=datetime.datetime(2019, 9, 14, 11, 47, 2, 178701), datetime_complete=datetime.datetime(2019, 9, 14, 11, 47, 2, 229524), params={'x': 4.440962302304771}, distributions={'x': UniformDistribution(low=-10, high=10)}, user_attrs={}, system_attrs={'_number': 34}, intermediate_values={}, trial_id=34),\n",
       " FrozenTrial(number=35, state=<TrialState.COMPLETE: 1>, value=0.36371069260381156, datetime_start=datetime.datetime(2019, 9, 14, 11, 47, 2, 233411), datetime_complete=datetime.datetime(2019, 9, 14, 11, 47, 2, 290654), params={'x': 1.3969156836695125}, distributions={'x': UniformDistribution(low=-10, high=10)}, user_attrs={}, system_attrs={'_number': 35}, intermediate_values={}, trial_id=35),\n",
       " FrozenTrial(number=36, state=<TrialState.COMPLETE: 1>, value=2.2328203321353706, datetime_start=datetime.datetime(2019, 9, 14, 11, 47, 2, 294251), datetime_complete=datetime.datetime(2019, 9, 14, 11, 47, 2, 342413), params={'x': 3.4942624709653156}, distributions={'x': UniformDistribution(low=-10, high=10)}, user_attrs={}, system_attrs={'_number': 36}, intermediate_values={}, trial_id=36),\n",
       " FrozenTrial(number=37, state=<TrialState.COMPLETE: 1>, value=9.696029709528068, datetime_start=datetime.datetime(2019, 9, 14, 11, 47, 2, 349724), datetime_complete=datetime.datetime(2019, 9, 14, 11, 47, 2, 397384), params={'x': 5.113844843521923}, distributions={'x': UniformDistribution(low=-10, high=10)}, user_attrs={}, system_attrs={'_number': 37}, intermediate_values={}, trial_id=37),\n",
       " FrozenTrial(number=38, state=<TrialState.COMPLETE: 1>, value=29.25019176752348, datetime_start=datetime.datetime(2019, 9, 14, 11, 47, 2, 401105), datetime_complete=datetime.datetime(2019, 9, 14, 11, 47, 2, 446267), params={'x': -3.408344642080743}, distributions={'x': UniformDistribution(low=-10, high=10)}, user_attrs={}, system_attrs={'_number': 38}, intermediate_values={}, trial_id=38),\n",
       " FrozenTrial(number=39, state=<TrialState.COMPLETE: 1>, value=0.12944068580055054, datetime_start=datetime.datetime(2019, 9, 14, 11, 47, 2, 449907), datetime_complete=datetime.datetime(2019, 9, 14, 11, 47, 2, 489927), params={'x': 2.3597786622363124}, distributions={'x': UniformDistribution(low=-10, high=10)}, user_attrs={}, system_attrs={'_number': 39}, intermediate_values={}, trial_id=39),\n",
       " FrozenTrial(number=40, state=<TrialState.COMPLETE: 1>, value=2.1652395737285772, datetime_start=datetime.datetime(2019, 9, 14, 11, 47, 2, 495426), datetime_complete=datetime.datetime(2019, 9, 14, 11, 47, 2, 539153), params={'x': 0.5285246948288336}, distributions={'x': UniformDistribution(low=-10, high=10)}, user_attrs={}, system_attrs={'_number': 40}, intermediate_values={}, trial_id=40),\n",
       " FrozenTrial(number=41, state=<TrialState.COMPLETE: 1>, value=0.08398825159121423, datetime_start=datetime.datetime(2019, 9, 14, 11, 47, 2, 544410), datetime_complete=datetime.datetime(2019, 9, 14, 11, 47, 2, 590306), params={'x': 2.2898072662843605}, distributions={'x': UniformDistribution(low=-10, high=10)}, user_attrs={}, system_attrs={'_number': 41}, intermediate_values={}, trial_id=41),\n",
       " FrozenTrial(number=42, state=<TrialState.COMPLETE: 1>, value=9.070253853184813, datetime_start=datetime.datetime(2019, 9, 14, 11, 47, 2, 594036), datetime_complete=datetime.datetime(2019, 9, 14, 11, 47, 2, 633206), params={'x': -1.0116862142635}, distributions={'x': UniformDistribution(low=-10, high=10)}, user_attrs={}, system_attrs={'_number': 42}, intermediate_values={}, trial_id=42),\n",
       " FrozenTrial(number=43, state=<TrialState.COMPLETE: 1>, value=0.0013228167250985857, datetime_start=datetime.datetime(2019, 9, 14, 11, 47, 2, 638859), datetime_complete=datetime.datetime(2019, 9, 14, 11, 47, 2, 687329), params={'x': 1.9636294525048277}, distributions={'x': UniformDistribution(low=-10, high=10)}, user_attrs={}, system_attrs={'_number': 43}, intermediate_values={}, trial_id=43),\n",
       " FrozenTrial(number=44, state=<TrialState.COMPLETE: 1>, value=1.436418838092294, datetime_start=datetime.datetime(2019, 9, 14, 11, 47, 2, 691360), datetime_complete=datetime.datetime(2019, 9, 14, 11, 47, 2, 728032), params={'x': 3.1985069203355874}, distributions={'x': UniformDistribution(low=-10, high=10)}, user_attrs={}, system_attrs={'_number': 44}, intermediate_values={}, trial_id=44),\n",
       " FrozenTrial(number=45, state=<TrialState.COMPLETE: 1>, value=5.108984127137377, datetime_start=datetime.datetime(2019, 9, 14, 11, 47, 2, 735222), datetime_complete=datetime.datetime(2019, 9, 14, 11, 47, 2, 770560), params={'x': -0.2603062020747049}, distributions={'x': UniformDistribution(low=-10, high=10)}, user_attrs={}, system_attrs={'_number': 45}, intermediate_values={}, trial_id=45),\n",
       " FrozenTrial(number=46, state=<TrialState.COMPLETE: 1>, value=4.074790696570761, datetime_start=datetime.datetime(2019, 9, 14, 11, 47, 2, 774656), datetime_complete=datetime.datetime(2019, 9, 14, 11, 47, 2, 807387), params={'x': 4.018611081058152}, distributions={'x': UniformDistribution(low=-10, high=10)}, user_attrs={}, system_attrs={'_number': 46}, intermediate_values={}, trial_id=46),\n",
       " FrozenTrial(number=47, state=<TrialState.COMPLETE: 1>, value=19.573673495597916, datetime_start=datetime.datetime(2019, 9, 14, 11, 47, 2, 818552), datetime_complete=datetime.datetime(2019, 9, 14, 11, 47, 2, 860851), params={'x': 6.424214449548972}, distributions={'x': UniformDistribution(low=-10, high=10)}, user_attrs={}, system_attrs={'_number': 47}, intermediate_values={}, trial_id=47),\n",
       " FrozenTrial(number=48, state=<TrialState.COMPLETE: 1>, value=0.27049436102235597, datetime_start=datetime.datetime(2019, 9, 14, 11, 47, 2, 868216), datetime_complete=datetime.datetime(2019, 9, 14, 11, 47, 2, 912581), params={'x': 2.5200907238380204}, distributions={'x': UniformDistribution(low=-10, high=10)}, user_attrs={}, system_attrs={'_number': 48}, intermediate_values={}, trial_id=48),\n",
       " FrozenTrial(number=49, state=<TrialState.COMPLETE: 1>, value=2.341221591463495, datetime_start=datetime.datetime(2019, 9, 14, 11, 47, 2, 918572), datetime_complete=datetime.datetime(2019, 9, 14, 11, 47, 2, 952754), params={'x': 0.4698949083597248}, distributions={'x': UniformDistribution(low=-10, high=10)}, user_attrs={}, system_attrs={'_number': 49}, intermediate_values={}, trial_id=49),\n",
       " FrozenTrial(number=50, state=<TrialState.COMPLETE: 1>, value=0.01397438104165248, datetime_start=datetime.datetime(2019, 9, 14, 11, 47, 2, 959785), datetime_complete=datetime.datetime(2019, 9, 14, 11, 47, 2, 999707), params={'x': 1.8817867137684918}, distributions={'x': UniformDistribution(low=-10, high=10)}, user_attrs={}, system_attrs={'_number': 50}, intermediate_values={}, trial_id=50),\n",
       " FrozenTrial(number=51, state=<TrialState.COMPLETE: 1>, value=0.01381701915375083, datetime_start=datetime.datetime(2019, 9, 14, 11, 47, 3, 4256), datetime_complete=datetime.datetime(2019, 9, 14, 11, 47, 3, 51741), params={'x': 1.8824541827466803}, distributions={'x': UniformDistribution(low=-10, high=10)}, user_attrs={}, system_attrs={'_number': 51}, intermediate_values={}, trial_id=51),\n",
       " FrozenTrial(number=52, state=<TrialState.COMPLETE: 1>, value=0.36742477916235405, datetime_start=datetime.datetime(2019, 9, 14, 11, 47, 3, 56142), datetime_complete=datetime.datetime(2019, 9, 14, 11, 47, 3, 100991), params={'x': 2.6061557383728657}, distributions={'x': UniformDistribution(low=-10, high=10)}, user_attrs={}, system_attrs={'_number': 52}, intermediate_values={}, trial_id=52),\n",
       " FrozenTrial(number=53, state=<TrialState.COMPLETE: 1>, value=5.760354838512301, datetime_start=datetime.datetime(2019, 9, 14, 11, 47, 3, 105990), datetime_complete=datetime.datetime(2019, 9, 14, 11, 47, 3, 144339), params={'x': -0.40007392355158533}, distributions={'x': UniformDistribution(low=-10, high=10)}, user_attrs={}, system_attrs={'_number': 53}, intermediate_values={}, trial_id=53),\n",
       " FrozenTrial(number=54, state=<TrialState.COMPLETE: 1>, value=1.432055024485831, datetime_start=datetime.datetime(2019, 9, 14, 11, 47, 3, 151857), datetime_complete=datetime.datetime(2019, 9, 14, 11, 47, 3, 213809), params={'x': 3.196685014732712}, distributions={'x': UniformDistribution(low=-10, high=10)}, user_attrs={}, system_attrs={'_number': 54}, intermediate_values={}, trial_id=54),\n",
       " FrozenTrial(number=55, state=<TrialState.COMPLETE: 1>, value=8.098832928736938, datetime_start=datetime.datetime(2019, 9, 14, 11, 47, 3, 222122), datetime_complete=datetime.datetime(2019, 9, 14, 11, 47, 3, 277426), params={'x': 4.845844853244277}, distributions={'x': UniformDistribution(low=-10, high=10)}, user_attrs={}, system_attrs={'_number': 55}, intermediate_values={}, trial_id=55),\n",
       " FrozenTrial(number=56, state=<TrialState.COMPLETE: 1>, value=1.2808277029786772, datetime_start=datetime.datetime(2019, 9, 14, 11, 47, 3, 284358), datetime_complete=datetime.datetime(2019, 9, 14, 11, 47, 3, 324770), params={'x': 0.8682634127241988}, distributions={'x': UniformDistribution(low=-10, high=10)}, user_attrs={}, system_attrs={'_number': 56}, intermediate_values={}, trial_id=56),\n",
       " FrozenTrial(number=57, state=<TrialState.COMPLETE: 1>, value=0.09460312050503085, datetime_start=datetime.datetime(2019, 9, 14, 11, 47, 3, 329636), datetime_complete=datetime.datetime(2019, 9, 14, 11, 47, 3, 375883), params={'x': 1.692423797238748}, distributions={'x': UniformDistribution(low=-10, high=10)}, user_attrs={}, system_attrs={'_number': 57}, intermediate_values={}, trial_id=57),\n",
       " FrozenTrial(number=58, state=<TrialState.COMPLETE: 1>, value=4.210349691829898, datetime_start=datetime.datetime(2019, 9, 14, 11, 47, 3, 381722), datetime_complete=datetime.datetime(2019, 9, 14, 11, 47, 3, 419198), params={'x': 4.051913665783699}, distributions={'x': UniformDistribution(low=-10, high=10)}, user_attrs={}, system_attrs={'_number': 58}, intermediate_values={}, trial_id=58),\n",
       " FrozenTrial(number=59, state=<TrialState.COMPLETE: 1>, value=15.78592441378264, datetime_start=datetime.datetime(2019, 9, 14, 11, 47, 3, 424725), datetime_complete=datetime.datetime(2019, 9, 14, 11, 47, 3, 471214), params={'x': 5.9731504393595065}, distributions={'x': UniformDistribution(low=-10, high=10)}, user_attrs={}, system_attrs={'_number': 59}, intermediate_values={}, trial_id=59),\n",
       " FrozenTrial(number=60, state=<TrialState.COMPLETE: 1>, value=0.047178368030035354, datetime_start=datetime.datetime(2019, 9, 14, 11, 47, 3, 476157), datetime_complete=datetime.datetime(2019, 9, 14, 11, 47, 3, 510546), params={'x': 2.2172058195123587}, distributions={'x': UniformDistribution(low=-10, high=10)}, user_attrs={}, system_attrs={'_number': 60}, intermediate_values={}, trial_id=60),\n",
       " FrozenTrial(number=61, state=<TrialState.COMPLETE: 1>, value=0.027575203985818825, datetime_start=datetime.datetime(2019, 9, 14, 11, 47, 3, 517972), datetime_complete=datetime.datetime(2019, 9, 14, 11, 47, 3, 558077), params={'x': 2.1660578332564255}, distributions={'x': UniformDistribution(low=-10, high=10)}, user_attrs={}, system_attrs={'_number': 61}, intermediate_values={}, trial_id=61),\n",
       " FrozenTrial(number=62, state=<TrialState.COMPLETE: 1>, value=1.531874506560703, datetime_start=datetime.datetime(2019, 9, 14, 11, 47, 3, 565403), datetime_complete=datetime.datetime(2019, 9, 14, 11, 47, 3, 604357), params={'x': 0.762310819890267}, distributions={'x': UniformDistribution(low=-10, high=10)}, user_attrs={}, system_attrs={'_number': 62}, intermediate_values={}, trial_id=62),\n",
       " FrozenTrial(number=63, state=<TrialState.COMPLETE: 1>, value=0.0017322935129128701, datetime_start=datetime.datetime(2019, 9, 14, 11, 47, 3, 610622), datetime_complete=datetime.datetime(2019, 9, 14, 11, 47, 3, 657488), params={'x': 2.041620830276592}, distributions={'x': UniformDistribution(low=-10, high=10)}, user_attrs={}, system_attrs={'_number': 63}, intermediate_values={}, trial_id=63),\n",
       " FrozenTrial(number=64, state=<TrialState.COMPLETE: 1>, value=1.3001005690959861, datetime_start=datetime.datetime(2019, 9, 14, 11, 47, 3, 663155), datetime_complete=datetime.datetime(2019, 9, 14, 11, 47, 3, 705217), params={'x': 3.1402195267122845}, distributions={'x': UniformDistribution(low=-10, high=10)}, user_attrs={}, system_attrs={'_number': 64}, intermediate_values={}, trial_id=64),\n",
       " FrozenTrial(number=65, state=<TrialState.COMPLETE: 1>, value=3.75932453427575, datetime_start=datetime.datetime(2019, 9, 14, 11, 47, 3, 710718), datetime_complete=datetime.datetime(2019, 9, 14, 11, 47, 3, 754206), params={'x': 0.06110223728125619}, distributions={'x': UniformDistribution(low=-10, high=10)}, user_attrs={}, system_attrs={'_number': 65}, intermediate_values={}, trial_id=65),\n",
       " FrozenTrial(number=66, state=<TrialState.COMPLETE: 1>, value=14.817587619227622, datetime_start=datetime.datetime(2019, 9, 14, 11, 47, 3, 759851), datetime_complete=datetime.datetime(2019, 9, 14, 11, 47, 3, 795663), params={'x': -1.8493619756042199}, distributions={'x': UniformDistribution(low=-10, high=10)}, user_attrs={}, system_attrs={'_number': 66}, intermediate_values={}, trial_id=66),\n",
       " FrozenTrial(number=67, state=<TrialState.COMPLETE: 1>, value=6.64705732665547, datetime_start=datetime.datetime(2019, 9, 14, 11, 47, 3, 803502), datetime_complete=datetime.datetime(2019, 9, 14, 11, 47, 3, 840096), params={'x': -0.5781887686233276}, distributions={'x': UniformDistribution(low=-10, high=10)}, user_attrs={}, system_attrs={'_number': 67}, intermediate_values={}, trial_id=67),\n",
       " FrozenTrial(number=68, state=<TrialState.COMPLETE: 1>, value=0.7140070353508058, datetime_start=datetime.datetime(2019, 9, 14, 11, 47, 3, 845794), datetime_complete=datetime.datetime(2019, 9, 14, 11, 47, 3, 884328), params={'x': 1.1550106300368}, distributions={'x': UniformDistribution(low=-10, high=10)}, user_attrs={}, system_attrs={'_number': 68}, intermediate_values={}, trial_id=68),\n",
       " FrozenTrial(number=69, state=<TrialState.COMPLETE: 1>, value=0.013586276969496392, datetime_start=datetime.datetime(2019, 9, 14, 11, 47, 3, 890217), datetime_complete=datetime.datetime(2019, 9, 14, 11, 47, 3, 928647), params={'x': 1.883439813960785}, distributions={'x': UniformDistribution(low=-10, high=10)}, user_attrs={}, system_attrs={'_number': 69}, intermediate_values={}, trial_id=69),\n",
       " FrozenTrial(number=70, state=<TrialState.COMPLETE: 1>, value=2.5756950232432936, datetime_start=datetime.datetime(2019, 9, 14, 11, 47, 3, 937322), datetime_complete=datetime.datetime(2019, 9, 14, 11, 47, 3, 978003), params={'x': 3.604897200210435}, distributions={'x': UniformDistribution(low=-10, high=10)}, user_attrs={}, system_attrs={'_number': 70}, intermediate_values={}, trial_id=70),\n",
       " FrozenTrial(number=71, state=<TrialState.COMPLETE: 1>, value=0.01910185530312273, datetime_start=datetime.datetime(2019, 9, 14, 11, 47, 3, 985389), datetime_complete=datetime.datetime(2019, 9, 14, 11, 47, 4, 24632), params={'x': 1.8617905383010167}, distributions={'x': UniformDistribution(low=-10, high=10)}, user_attrs={}, system_attrs={'_number': 71}, intermediate_values={}, trial_id=71),\n",
       " FrozenTrial(number=72, state=<TrialState.COMPLETE: 1>, value=0.026502726096444978, datetime_start=datetime.datetime(2019, 9, 14, 11, 47, 4, 30458), datetime_complete=datetime.datetime(2019, 9, 14, 11, 47, 4, 70742), params={'x': 1.8372034211156605}, distributions={'x': UniformDistribution(low=-10, high=10)}, user_attrs={}, system_attrs={'_number': 72}, intermediate_values={}, trial_id=72),\n",
       " FrozenTrial(number=73, state=<TrialState.COMPLETE: 1>, value=0.8641310975948769, datetime_start=datetime.datetime(2019, 9, 14, 11, 47, 4, 76558), datetime_complete=datetime.datetime(2019, 9, 14, 11, 47, 4, 112451), params={'x': 1.0704134803070362}, distributions={'x': UniformDistribution(low=-10, high=10)}, user_attrs={}, system_attrs={'_number': 73}, intermediate_values={}, trial_id=73),\n",
       " FrozenTrial(number=74, state=<TrialState.COMPLETE: 1>, value=0.7218828918473246, datetime_start=datetime.datetime(2019, 9, 14, 11, 47, 4, 120110), datetime_complete=datetime.datetime(2019, 9, 14, 11, 47, 4, 158530), params={'x': 2.8496369176579632}, distributions={'x': UniformDistribution(low=-10, high=10)}, user_attrs={}, system_attrs={'_number': 74}, intermediate_values={}, trial_id=74),\n",
       " FrozenTrial(number=75, state=<TrialState.COMPLETE: 1>, value=3.1617894099004156, datetime_start=datetime.datetime(2019, 9, 14, 11, 47, 4, 166415), datetime_complete=datetime.datetime(2019, 9, 14, 11, 47, 4, 205565), params={'x': 0.2218578769118551}, distributions={'x': UniformDistribution(low=-10, high=10)}, user_attrs={}, system_attrs={'_number': 75}, intermediate_values={}, trial_id=75),\n",
       " FrozenTrial(number=76, state=<TrialState.COMPLETE: 1>, value=8.032006551434529e-06, datetime_start=datetime.datetime(2019, 9, 14, 11, 47, 4, 212443), datetime_complete=datetime.datetime(2019, 9, 14, 11, 47, 4, 253105), params={'x': 1.9971659205107417}, distributions={'x': UniformDistribution(low=-10, high=10)}, user_attrs={}, system_attrs={'_number': 76}, intermediate_values={}, trial_id=76),\n",
       " FrozenTrial(number=77, state=<TrialState.COMPLETE: 1>, value=5.541700864569851, datetime_start=datetime.datetime(2019, 9, 14, 11, 47, 4, 259497), datetime_complete=datetime.datetime(2019, 9, 14, 11, 47, 4, 295347), params={'x': 4.354081745515616}, distributions={'x': UniformDistribution(low=-10, high=10)}, user_attrs={}, system_attrs={'_number': 77}, intermediate_values={}, trial_id=77),\n",
       " FrozenTrial(number=78, state=<TrialState.COMPLETE: 1>, value=0.6799927811223346, datetime_start=datetime.datetime(2019, 9, 14, 11, 47, 4, 303543), datetime_complete=datetime.datetime(2019, 9, 14, 11, 47, 4, 340062), params={'x': 2.8246167480243987}, distributions={'x': UniformDistribution(low=-10, high=10)}, user_attrs={}, system_attrs={'_number': 78}, intermediate_values={}, trial_id=78),\n",
       " FrozenTrial(number=79, state=<TrialState.COMPLETE: 1>, value=3.1381603716011672, datetime_start=datetime.datetime(2019, 9, 14, 11, 47, 4, 346472), datetime_complete=datetime.datetime(2019, 9, 14, 11, 47, 4, 385449), params={'x': 3.771485357433464}, distributions={'x': UniformDistribution(low=-10, high=10)}, user_attrs={}, system_attrs={'_number': 79}, intermediate_values={}, trial_id=79),\n",
       " FrozenTrial(number=80, state=<TrialState.COMPLETE: 1>, value=0.6467514909204886, datetime_start=datetime.datetime(2019, 9, 14, 11, 47, 4, 392157), datetime_complete=datetime.datetime(2019, 9, 14, 11, 47, 4, 435547), params={'x': 1.1957913884317772}, distributions={'x': UniformDistribution(low=-10, high=10)}, user_attrs={}, system_attrs={'_number': 80}, intermediate_values={}, trial_id=80),\n",
       " FrozenTrial(number=81, state=<TrialState.COMPLETE: 1>, value=0.0024473584291373443, datetime_start=datetime.datetime(2019, 9, 14, 11, 47, 4, 442097), datetime_complete=datetime.datetime(2019, 9, 14, 11, 47, 4, 481042), params={'x': 1.950529216408699}, distributions={'x': UniformDistribution(low=-10, high=10)}, user_attrs={}, system_attrs={'_number': 81}, intermediate_values={}, trial_id=81),\n",
       " FrozenTrial(number=82, state=<TrialState.COMPLETE: 1>, value=2.2352326207894384, datetime_start=datetime.datetime(2019, 9, 14, 11, 47, 4, 488784), datetime_complete=datetime.datetime(2019, 9, 14, 11, 47, 4, 528461), params={'x': 0.504930563221414}, distributions={'x': UniformDistribution(low=-10, high=10)}, user_attrs={}, system_attrs={'_number': 82}, intermediate_values={}, trial_id=82),\n",
       " FrozenTrial(number=83, state=<TrialState.COMPLETE: 1>, value=0.0975961400339038, datetime_start=datetime.datetime(2019, 9, 14, 11, 47, 4, 538026), datetime_complete=datetime.datetime(2019, 9, 14, 11, 47, 4, 595946), params={'x': 1.6875961907500105}, distributions={'x': UniformDistribution(low=-10, high=10)}, user_attrs={}, system_attrs={'_number': 83}, intermediate_values={}, trial_id=83),\n",
       " FrozenTrial(number=84, state=<TrialState.COMPLETE: 1>, value=139.9343659669706, datetime_start=datetime.datetime(2019, 9, 14, 11, 47, 4, 608809), datetime_complete=datetime.datetime(2019, 9, 14, 11, 47, 4, 673214), params={'x': -9.829385696940083}, distributions={'x': UniformDistribution(low=-10, high=10)}, user_attrs={}, system_attrs={'_number': 84}, intermediate_values={}, trial_id=84),\n",
       " FrozenTrial(number=85, state=<TrialState.COMPLETE: 1>, value=0.7238706771335062, datetime_start=datetime.datetime(2019, 9, 14, 11, 47, 4, 686552), datetime_complete=datetime.datetime(2019, 9, 14, 11, 47, 4, 734656), params={'x': 2.850805898624067}, distributions={'x': UniformDistribution(low=-10, high=10)}, user_attrs={}, system_attrs={'_number': 85}, intermediate_values={}, trial_id=85),\n",
       " FrozenTrial(number=86, state=<TrialState.COMPLETE: 1>, value=0.024324494222972188, datetime_start=datetime.datetime(2019, 9, 14, 11, 47, 4, 742932), datetime_complete=datetime.datetime(2019, 9, 14, 11, 47, 4, 796197), params={'x': 2.1559631181496837}, distributions={'x': UniformDistribution(low=-10, high=10)}, user_attrs={}, system_attrs={'_number': 86}, intermediate_values={}, trial_id=86),\n",
       " FrozenTrial(number=87, state=<TrialState.COMPLETE: 1>, value=2.2442170566851782, datetime_start=datetime.datetime(2019, 9, 14, 11, 47, 4, 811411), datetime_complete=datetime.datetime(2019, 9, 14, 11, 47, 4, 862182), params={'x': 3.4980711120254533}, distributions={'x': UniformDistribution(low=-10, high=10)}, user_attrs={}, system_attrs={'_number': 87}, intermediate_values={}, trial_id=87),\n",
       " FrozenTrial(number=88, state=<TrialState.COMPLETE: 1>, value=8.183406841427704, datetime_start=datetime.datetime(2019, 9, 14, 11, 47, 4, 874997), datetime_complete=datetime.datetime(2019, 9, 14, 11, 47, 4, 925122), params={'x': -0.8606654543003982}, distributions={'x': UniformDistribution(low=-10, high=10)}, user_attrs={}, system_attrs={'_number': 88}, intermediate_values={}, trial_id=88),\n",
       " FrozenTrial(number=89, state=<TrialState.COMPLETE: 1>, value=0.4892020097686339, datetime_start=datetime.datetime(2019, 9, 14, 11, 47, 4, 938101), datetime_complete=datetime.datetime(2019, 9, 14, 11, 47, 4, 985425), params={'x': 1.3005702252773093}, distributions={'x': UniformDistribution(low=-10, high=10)}, user_attrs={}, system_attrs={'_number': 89}, intermediate_values={}, trial_id=89),\n",
       " FrozenTrial(number=90, state=<TrialState.COMPLETE: 1>, value=3.7694651521979368, datetime_start=datetime.datetime(2019, 9, 14, 11, 47, 4, 993882), datetime_complete=datetime.datetime(2019, 9, 14, 11, 47, 5, 44280), params={'x': 0.0584889513067568}, distributions={'x': UniformDistribution(low=-10, high=10)}, user_attrs={}, system_attrs={'_number': 90}, intermediate_values={}, trial_id=90),\n",
       " FrozenTrial(number=91, state=<TrialState.COMPLETE: 1>, value=0.026421887734468654, datetime_start=datetime.datetime(2019, 9, 14, 11, 47, 5, 55055), datetime_complete=datetime.datetime(2019, 9, 14, 11, 47, 5, 98698), params={'x': 1.8374518910154023}, distributions={'x': UniformDistribution(low=-10, high=10)}, user_attrs={}, system_attrs={'_number': 91}, intermediate_values={}, trial_id=91),\n",
       " FrozenTrial(number=92, state=<TrialState.COMPLETE: 1>, value=1.6896914657562156, datetime_start=datetime.datetime(2019, 9, 14, 11, 47, 5, 107239), datetime_complete=datetime.datetime(2019, 9, 14, 11, 47, 5, 148140), params={'x': 0.700118672433435}, distributions={'x': UniformDistribution(low=-10, high=10)}, user_attrs={}, system_attrs={'_number': 92}, intermediate_values={}, trial_id=92),\n",
       " FrozenTrial(number=93, state=<TrialState.COMPLETE: 1>, value=0.006353527151206182, datetime_start=datetime.datetime(2019, 9, 14, 11, 47, 5, 158214), datetime_complete=datetime.datetime(2019, 9, 14, 11, 47, 5, 207603), params={'x': 2.0797090154951507}, distributions={'x': UniformDistribution(low=-10, high=10)}, user_attrs={}, system_attrs={'_number': 93}, intermediate_values={}, trial_id=93),\n",
       " FrozenTrial(number=94, state=<TrialState.COMPLETE: 1>, value=0.40978494748159006, datetime_start=datetime.datetime(2019, 9, 14, 11, 47, 5, 215562), datetime_complete=datetime.datetime(2019, 9, 14, 11, 47, 5, 263172), params={'x': 2.6401444739131863}, distributions={'x': UniformDistribution(low=-10, high=10)}, user_attrs={}, system_attrs={'_number': 94}, intermediate_values={}, trial_id=94),\n",
       " FrozenTrial(number=95, state=<TrialState.COMPLETE: 1>, value=1.4760341516045639, datetime_start=datetime.datetime(2019, 9, 14, 11, 47, 5, 274257), datetime_complete=datetime.datetime(2019, 9, 14, 11, 47, 5, 316908), params={'x': 3.214921459027111}, distributions={'x': UniformDistribution(low=-10, high=10)}, user_attrs={}, system_attrs={'_number': 95}, intermediate_values={}, trial_id=95),\n",
       " FrozenTrial(number=96, state=<TrialState.COMPLETE: 1>, value=0.32446208680068955, datetime_start=datetime.datetime(2019, 9, 14, 11, 47, 5, 327338), datetime_complete=datetime.datetime(2019, 9, 14, 11, 47, 5, 369419), params={'x': 1.430384263910582}, distributions={'x': UniformDistribution(low=-10, high=10)}, user_attrs={}, system_attrs={'_number': 96}, intermediate_values={}, trial_id=96),\n",
       " FrozenTrial(number=97, state=<TrialState.COMPLETE: 1>, value=0.1159680064128148, datetime_start=datetime.datetime(2019, 9, 14, 11, 47, 5, 378056), datetime_complete=datetime.datetime(2019, 9, 14, 11, 47, 5, 425656), params={'x': 2.340540755876319}, distributions={'x': UniformDistribution(low=-10, high=10)}, user_attrs={}, system_attrs={'_number': 97}, intermediate_values={}, trial_id=97),\n",
       " FrozenTrial(number=98, state=<TrialState.COMPLETE: 1>, value=0.001664287218803411, datetime_start=datetime.datetime(2019, 9, 14, 11, 47, 5, 436101), datetime_complete=datetime.datetime(2019, 9, 14, 11, 47, 5, 479983), params={'x': 2.0407956764719426}, distributions={'x': UniformDistribution(low=-10, high=10)}, user_attrs={}, system_attrs={'_number': 98}, intermediate_values={}, trial_id=98),\n",
       " FrozenTrial(number=99, state=<TrialState.COMPLETE: 1>, value=1.1896143515065136, datetime_start=datetime.datetime(2019, 9, 14, 11, 47, 5, 491837), datetime_complete=datetime.datetime(2019, 9, 14, 11, 47, 5, 541814), params={'x': 0.9093055645569132}, distributions={'x': UniformDistribution(low=-10, high=10)}, user_attrs={}, system_attrs={'_number': 99}, intermediate_values={}, trial_id=99)]"
      ]
     },
     "execution_count": 34,
     "metadata": {},
     "output_type": "execute_result"
    }
   ],
   "source": [
    "study.trials"
   ]
  },
  {
   "cell_type": "code",
   "execution_count": 35,
   "metadata": {},
   "outputs": [
    {
     "data": {
      "text/plain": [
       "100"
      ]
     },
     "execution_count": 35,
     "metadata": {},
     "output_type": "execute_result"
    }
   ],
   "source": [
    "len(study.trials)"
   ]
  },
  {
   "cell_type": "code",
   "execution_count": 36,
   "metadata": {},
   "outputs": [
    {
     "name": "stderr",
     "output_type": "stream",
     "text": [
      "\u001b[32m[I 2019-09-14 12:15:39,159]\u001b[0m Finished trial#100 resulted in value: 4.285673137034202. Current best value is 8.032006551434529e-06 with parameters: {'x': 1.9971659205107417}.\u001b[0m\n",
      "\u001b[32m[I 2019-09-14 12:15:39,210]\u001b[0m Finished trial#101 resulted in value: 5.267212419377092e-05. Current best value is 8.032006551434529e-06 with parameters: {'x': 1.9971659205107417}.\u001b[0m\n",
      "\u001b[32m[I 2019-09-14 12:15:39,286]\u001b[0m Finished trial#102 resulted in value: 0.005139142125157708. Current best value is 8.032006551434529e-06 with parameters: {'x': 1.9971659205107417}.\u001b[0m\n",
      "\u001b[32m[I 2019-09-14 12:15:39,334]\u001b[0m Finished trial#103 resulted in value: 0.5610868090332256. Current best value is 8.032006551434529e-06 with parameters: {'x': 1.9971659205107417}.\u001b[0m\n",
      "\u001b[32m[I 2019-09-14 12:15:39,387]\u001b[0m Finished trial#104 resulted in value: 0.014313255357668718. Current best value is 8.032006551434529e-06 with parameters: {'x': 1.9971659205107417}.\u001b[0m\n",
      "\u001b[32m[I 2019-09-14 12:15:39,447]\u001b[0m Finished trial#105 resulted in value: 1.2683948884272775. Current best value is 8.032006551434529e-06 with parameters: {'x': 1.9971659205107417}.\u001b[0m\n",
      "\u001b[32m[I 2019-09-14 12:15:39,499]\u001b[0m Finished trial#106 resulted in value: 7.7234502393202815. Current best value is 8.032006551434529e-06 with parameters: {'x': 1.9971659205107417}.\u001b[0m\n",
      "\u001b[32m[I 2019-09-14 12:15:39,548]\u001b[0m Finished trial#107 resulted in value: 0.21242242059496716. Current best value is 8.032006551434529e-06 with parameters: {'x': 1.9971659205107417}.\u001b[0m\n",
      "\u001b[32m[I 2019-09-14 12:15:39,597]\u001b[0m Finished trial#108 resulted in value: 2.8006458650040518. Current best value is 8.032006551434529e-06 with parameters: {'x': 1.9971659205107417}.\u001b[0m\n",
      "\u001b[32m[I 2019-09-14 12:15:39,647]\u001b[0m Finished trial#109 resulted in value: 0.9779549102729947. Current best value is 8.032006551434529e-06 with parameters: {'x': 1.9971659205107417}.\u001b[0m\n",
      "\u001b[32m[I 2019-09-14 12:15:39,700]\u001b[0m Finished trial#110 resulted in value: 2.027736067757802. Current best value is 8.032006551434529e-06 with parameters: {'x': 1.9971659205107417}.\u001b[0m\n",
      "\u001b[32m[I 2019-09-14 12:15:39,749]\u001b[0m Finished trial#111 resulted in value: 0.009017626898180949. Current best value is 8.032006551434529e-06 with parameters: {'x': 1.9971659205107417}.\u001b[0m\n",
      "\u001b[32m[I 2019-09-14 12:15:39,833]\u001b[0m Finished trial#112 resulted in value: 0.23799860687554494. Current best value is 8.032006551434529e-06 with parameters: {'x': 1.9971659205107417}.\u001b[0m\n",
      "\u001b[32m[I 2019-09-14 12:15:39,899]\u001b[0m Finished trial#113 resulted in value: 0.001442367586091127. Current best value is 8.032006551434529e-06 with parameters: {'x': 1.9971659205107417}.\u001b[0m\n",
      "\u001b[32m[I 2019-09-14 12:15:39,965]\u001b[0m Finished trial#114 resulted in value: 0.02568577086979572. Current best value is 8.032006551434529e-06 with parameters: {'x': 1.9971659205107417}.\u001b[0m\n",
      "\u001b[32m[I 2019-09-14 12:15:40,038]\u001b[0m Finished trial#115 resulted in value: 0.23528163898484838. Current best value is 8.032006551434529e-06 with parameters: {'x': 1.9971659205107417}.\u001b[0m\n",
      "\u001b[32m[I 2019-09-14 12:15:40,090]\u001b[0m Finished trial#116 resulted in value: 0.8682591310384914. Current best value is 8.032006551434529e-06 with parameters: {'x': 1.9971659205107417}.\u001b[0m\n",
      "\u001b[32m[I 2019-09-14 12:15:40,142]\u001b[0m Finished trial#117 resulted in value: 1.7079663231340938. Current best value is 8.032006551434529e-06 with parameters: {'x': 1.9971659205107417}.\u001b[0m\n",
      "\u001b[32m[I 2019-09-14 12:15:40,193]\u001b[0m Finished trial#118 resulted in value: 2.909409725627741. Current best value is 8.032006551434529e-06 with parameters: {'x': 1.9971659205107417}.\u001b[0m\n",
      "\u001b[32m[I 2019-09-14 12:15:40,259]\u001b[0m Finished trial#119 resulted in value: 0.27063608235180653. Current best value is 8.032006551434529e-06 with parameters: {'x': 1.9971659205107417}.\u001b[0m\n",
      "\u001b[32m[I 2019-09-14 12:15:40,342]\u001b[0m Finished trial#120 resulted in value: 0.008998421865532204. Current best value is 8.032006551434529e-06 with parameters: {'x': 1.9971659205107417}.\u001b[0m\n",
      "\u001b[32m[I 2019-09-14 12:15:40,407]\u001b[0m Finished trial#121 resulted in value: 0.004402636931777141. Current best value is 8.032006551434529e-06 with parameters: {'x': 1.9971659205107417}.\u001b[0m\n",
      "\u001b[32m[I 2019-09-14 12:15:40,467]\u001b[0m Finished trial#122 resulted in value: 0.5447727567875875. Current best value is 8.032006551434529e-06 with parameters: {'x': 1.9971659205107417}.\u001b[0m\n",
      "\u001b[32m[I 2019-09-14 12:15:40,523]\u001b[0m Finished trial#123 resulted in value: 0.0021078499200034503. Current best value is 8.032006551434529e-06 with parameters: {'x': 1.9971659205107417}.\u001b[0m\n",
      "\u001b[32m[I 2019-09-14 12:15:40,576]\u001b[0m Finished trial#124 resulted in value: 0.18062827786555838. Current best value is 8.032006551434529e-06 with parameters: {'x': 1.9971659205107417}.\u001b[0m\n",
      "\u001b[32m[I 2019-09-14 12:15:40,625]\u001b[0m Finished trial#125 resulted in value: 0.003565291942326164. Current best value is 8.032006551434529e-06 with parameters: {'x': 1.9971659205107417}.\u001b[0m\n",
      "\u001b[32m[I 2019-09-14 12:15:40,677]\u001b[0m Finished trial#126 resulted in value: 0.2778915626119242. Current best value is 8.032006551434529e-06 with parameters: {'x': 1.9971659205107417}.\u001b[0m\n",
      "\u001b[32m[I 2019-09-14 12:15:40,730]\u001b[0m Finished trial#127 resulted in value: 4.969454559257242. Current best value is 8.032006551434529e-06 with parameters: {'x': 1.9971659205107417}.\u001b[0m\n",
      "\u001b[32m[I 2019-09-14 12:15:40,791]\u001b[0m Finished trial#128 resulted in value: 2.0523026779492266. Current best value is 8.032006551434529e-06 with parameters: {'x': 1.9971659205107417}.\u001b[0m\n",
      "\u001b[32m[I 2019-09-14 12:15:40,845]\u001b[0m Finished trial#129 resulted in value: 0.9401695919588875. Current best value is 8.032006551434529e-06 with parameters: {'x': 1.9971659205107417}.\u001b[0m\n",
      "\u001b[32m[I 2019-09-14 12:15:40,900]\u001b[0m Finished trial#130 resulted in value: 1.6374266031679368. Current best value is 8.032006551434529e-06 with parameters: {'x': 1.9971659205107417}.\u001b[0m\n",
      "\u001b[32m[I 2019-09-14 12:15:40,955]\u001b[0m Finished trial#131 resulted in value: 0.062438322185317495. Current best value is 8.032006551434529e-06 with parameters: {'x': 1.9971659205107417}.\u001b[0m\n",
      "\u001b[32m[I 2019-09-14 12:15:41,009]\u001b[0m Finished trial#132 resulted in value: 0.0001022393635313935. Current best value is 8.032006551434529e-06 with parameters: {'x': 1.9971659205107417}.\u001b[0m\n",
      "\u001b[32m[I 2019-09-14 12:15:41,066]\u001b[0m Finished trial#133 resulted in value: 0.9232088361433626. Current best value is 8.032006551434529e-06 with parameters: {'x': 1.9971659205107417}.\u001b[0m\n",
      "\u001b[32m[I 2019-09-14 12:15:41,112]\u001b[0m Finished trial#134 resulted in value: 0.07348180666365065. Current best value is 8.032006551434529e-06 with parameters: {'x': 1.9971659205107417}.\u001b[0m\n",
      "\u001b[32m[I 2019-09-14 12:15:41,169]\u001b[0m Finished trial#135 resulted in value: 0.5312005068791319. Current best value is 8.032006551434529e-06 with parameters: {'x': 1.9971659205107417}.\u001b[0m\n",
      "\u001b[32m[I 2019-09-14 12:15:41,228]\u001b[0m Finished trial#136 resulted in value: 0.2927668566835097. Current best value is 8.032006551434529e-06 with parameters: {'x': 1.9971659205107417}.\u001b[0m\n",
      "\u001b[32m[I 2019-09-14 12:15:41,314]\u001b[0m Finished trial#137 resulted in value: 0.004606920494892216. Current best value is 8.032006551434529e-06 with parameters: {'x': 1.9971659205107417}.\u001b[0m\n",
      "\u001b[32m[I 2019-09-14 12:15:41,370]\u001b[0m Finished trial#138 resulted in value: 3.8108063986538325. Current best value is 8.032006551434529e-06 with parameters: {'x': 1.9971659205107417}.\u001b[0m\n",
      "\u001b[32m[I 2019-09-14 12:15:41,423]\u001b[0m Finished trial#139 resulted in value: 0.3171023676936674. Current best value is 8.032006551434529e-06 with parameters: {'x': 1.9971659205107417}.\u001b[0m\n",
      "\u001b[32m[I 2019-09-14 12:15:41,469]\u001b[0m Finished trial#140 resulted in value: 0.001948700971790258. Current best value is 8.032006551434529e-06 with parameters: {'x': 1.9971659205107417}.\u001b[0m\n",
      "\u001b[32m[I 2019-09-14 12:15:41,523]\u001b[0m Finished trial#141 resulted in value: 0.9995432521624431. Current best value is 8.032006551434529e-06 with parameters: {'x': 1.9971659205107417}.\u001b[0m\n",
      "\u001b[32m[I 2019-09-14 12:15:41,571]\u001b[0m Finished trial#142 resulted in value: 0.0026592071762430803. Current best value is 8.032006551434529e-06 with parameters: {'x': 1.9971659205107417}.\u001b[0m\n",
      "\u001b[32m[I 2019-09-14 12:15:41,626]\u001b[0m Finished trial#143 resulted in value: 0.126879787028801. Current best value is 8.032006551434529e-06 with parameters: {'x': 1.9971659205107417}.\u001b[0m\n"
     ]
    },
    {
     "name": "stderr",
     "output_type": "stream",
     "text": [
      "\u001b[32m[I 2019-09-14 12:15:41,677]\u001b[0m Finished trial#144 resulted in value: 0.1334131639494468. Current best value is 8.032006551434529e-06 with parameters: {'x': 1.9971659205107417}.\u001b[0m\n",
      "\u001b[32m[I 2019-09-14 12:15:41,729]\u001b[0m Finished trial#145 resulted in value: 0.6345487434306116. Current best value is 8.032006551434529e-06 with parameters: {'x': 1.9971659205107417}.\u001b[0m\n",
      "\u001b[32m[I 2019-09-14 12:15:41,779]\u001b[0m Finished trial#146 resulted in value: 1.095258916604082. Current best value is 8.032006551434529e-06 with parameters: {'x': 1.9971659205107417}.\u001b[0m\n",
      "\u001b[32m[I 2019-09-14 12:15:41,832]\u001b[0m Finished trial#147 resulted in value: 0.008133963555471595. Current best value is 8.032006551434529e-06 with parameters: {'x': 1.9971659205107417}.\u001b[0m\n",
      "\u001b[32m[I 2019-09-14 12:15:41,886]\u001b[0m Finished trial#148 resulted in value: 3.107221012301669. Current best value is 8.032006551434529e-06 with parameters: {'x': 1.9971659205107417}.\u001b[0m\n",
      "\u001b[32m[I 2019-09-14 12:15:41,938]\u001b[0m Finished trial#149 resulted in value: 0.5235851792937415. Current best value is 8.032006551434529e-06 with parameters: {'x': 1.9971659205107417}.\u001b[0m\n",
      "\u001b[32m[I 2019-09-14 12:15:41,988]\u001b[0m Finished trial#150 resulted in value: 2.1658993036622043. Current best value is 8.032006551434529e-06 with parameters: {'x': 1.9971659205107417}.\u001b[0m\n",
      "\u001b[32m[I 2019-09-14 12:15:42,042]\u001b[0m Finished trial#151 resulted in value: 0.006122007078679434. Current best value is 8.032006551434529e-06 with parameters: {'x': 1.9971659205107417}.\u001b[0m\n",
      "\u001b[32m[I 2019-09-14 12:15:42,093]\u001b[0m Finished trial#152 resulted in value: 0.0016411369323434608. Current best value is 8.032006551434529e-06 with parameters: {'x': 1.9971659205107417}.\u001b[0m\n",
      "\u001b[32m[I 2019-09-14 12:15:42,145]\u001b[0m Finished trial#153 resulted in value: 0.2693087594010827. Current best value is 8.032006551434529e-06 with parameters: {'x': 1.9971659205107417}.\u001b[0m\n",
      "\u001b[32m[I 2019-09-14 12:15:42,195]\u001b[0m Finished trial#154 resulted in value: 0.12196472452382304. Current best value is 8.032006551434529e-06 with parameters: {'x': 1.9971659205107417}.\u001b[0m\n",
      "\u001b[32m[I 2019-09-14 12:15:42,248]\u001b[0m Finished trial#155 resulted in value: 1.7195312597840449. Current best value is 8.032006551434529e-06 with parameters: {'x': 1.9971659205107417}.\u001b[0m\n",
      "\u001b[32m[I 2019-09-14 12:15:42,297]\u001b[0m Finished trial#156 resulted in value: 0.06167775058007053. Current best value is 8.032006551434529e-06 with parameters: {'x': 1.9971659205107417}.\u001b[0m\n",
      "\u001b[32m[I 2019-09-14 12:15:42,348]\u001b[0m Finished trial#157 resulted in value: 0.660209709187523. Current best value is 8.032006551434529e-06 with parameters: {'x': 1.9971659205107417}.\u001b[0m\n",
      "\u001b[32m[I 2019-09-14 12:15:42,404]\u001b[0m Finished trial#158 resulted in value: 0.610375736618296. Current best value is 8.032006551434529e-06 with parameters: {'x': 1.9971659205107417}.\u001b[0m\n",
      "\u001b[32m[I 2019-09-14 12:15:42,457]\u001b[0m Finished trial#159 resulted in value: 0.023309928160941216. Current best value is 8.032006551434529e-06 with parameters: {'x': 1.9971659205107417}.\u001b[0m\n",
      "\u001b[32m[I 2019-09-14 12:15:42,516]\u001b[0m Finished trial#160 resulted in value: 1.0615095534738415. Current best value is 8.032006551434529e-06 with parameters: {'x': 1.9971659205107417}.\u001b[0m\n",
      "\u001b[32m[I 2019-09-14 12:15:42,593]\u001b[0m Finished trial#161 resulted in value: 0.014592552703579804. Current best value is 8.032006551434529e-06 with parameters: {'x': 1.9971659205107417}.\u001b[0m\n",
      "\u001b[32m[I 2019-09-14 12:15:42,665]\u001b[0m Finished trial#162 resulted in value: 0.015302601361472318. Current best value is 8.032006551434529e-06 with parameters: {'x': 1.9971659205107417}.\u001b[0m\n",
      "\u001b[32m[I 2019-09-14 12:15:42,724]\u001b[0m Finished trial#163 resulted in value: 0.30711226752830767. Current best value is 8.032006551434529e-06 with parameters: {'x': 1.9971659205107417}.\u001b[0m\n",
      "\u001b[32m[I 2019-09-14 12:15:42,775]\u001b[0m Finished trial#164 resulted in value: 0.21286234952262034. Current best value is 8.032006551434529e-06 with parameters: {'x': 1.9971659205107417}.\u001b[0m\n",
      "\u001b[32m[I 2019-09-14 12:15:42,828]\u001b[0m Finished trial#165 resulted in value: 0.9617690337140093. Current best value is 8.032006551434529e-06 with parameters: {'x': 1.9971659205107417}.\u001b[0m\n",
      "\u001b[32m[I 2019-09-14 12:15:42,881]\u001b[0m Finished trial#166 resulted in value: 0.0003652862179142763. Current best value is 8.032006551434529e-06 with parameters: {'x': 1.9971659205107417}.\u001b[0m\n",
      "\u001b[32m[I 2019-09-14 12:15:42,935]\u001b[0m Finished trial#167 resulted in value: 0.25467582940798916. Current best value is 8.032006551434529e-06 with parameters: {'x': 1.9971659205107417}.\u001b[0m\n",
      "\u001b[32m[I 2019-09-14 12:15:42,986]\u001b[0m Finished trial#168 resulted in value: 0.3739311874878533. Current best value is 8.032006551434529e-06 with parameters: {'x': 1.9971659205107417}.\u001b[0m\n",
      "\u001b[32m[I 2019-09-14 12:15:43,042]\u001b[0m Finished trial#169 resulted in value: 0.051219748687657114. Current best value is 8.032006551434529e-06 with parameters: {'x': 1.9971659205107417}.\u001b[0m\n",
      "\u001b[32m[I 2019-09-14 12:15:43,094]\u001b[0m Finished trial#170 resulted in value: 1.7245676230014855. Current best value is 8.032006551434529e-06 with parameters: {'x': 1.9971659205107417}.\u001b[0m\n",
      "\u001b[32m[I 2019-09-14 12:15:43,151]\u001b[0m Finished trial#171 resulted in value: 0.0070567464909051004. Current best value is 8.032006551434529e-06 with parameters: {'x': 1.9971659205107417}.\u001b[0m\n",
      "\u001b[32m[I 2019-09-14 12:15:43,215]\u001b[0m Finished trial#172 resulted in value: 0.004525828313434875. Current best value is 8.032006551434529e-06 with parameters: {'x': 1.9971659205107417}.\u001b[0m\n",
      "\u001b[32m[I 2019-09-14 12:15:43,280]\u001b[0m Finished trial#173 resulted in value: 0.6332667658885699. Current best value is 8.032006551434529e-06 with parameters: {'x': 1.9971659205107417}.\u001b[0m\n",
      "\u001b[32m[I 2019-09-14 12:15:43,339]\u001b[0m Finished trial#174 resulted in value: 0.0911206077913955. Current best value is 8.032006551434529e-06 with parameters: {'x': 1.9971659205107417}.\u001b[0m\n",
      "\u001b[32m[I 2019-09-14 12:15:43,406]\u001b[0m Finished trial#175 resulted in value: 0.12066069268245669. Current best value is 8.032006551434529e-06 with parameters: {'x': 1.9971659205107417}.\u001b[0m\n",
      "\u001b[32m[I 2019-09-14 12:15:43,484]\u001b[0m Finished trial#176 resulted in value: 1.8084444014220824. Current best value is 8.032006551434529e-06 with parameters: {'x': 1.9971659205107417}.\u001b[0m\n",
      "\u001b[32m[I 2019-09-14 12:15:43,544]\u001b[0m Finished trial#177 resulted in value: 0.7487795381939667. Current best value is 8.032006551434529e-06 with parameters: {'x': 1.9971659205107417}.\u001b[0m\n",
      "\u001b[32m[I 2019-09-14 12:15:43,599]\u001b[0m Finished trial#178 resulted in value: 0.3220576084607934. Current best value is 8.032006551434529e-06 with parameters: {'x': 1.9971659205107417}.\u001b[0m\n",
      "\u001b[32m[I 2019-09-14 12:15:43,652]\u001b[0m Finished trial#179 resulted in value: 0.006615990683307441. Current best value is 8.032006551434529e-06 with parameters: {'x': 1.9971659205107417}.\u001b[0m\n",
      "\u001b[32m[I 2019-09-14 12:15:43,710]\u001b[0m Finished trial#180 resulted in value: 1.1668338852736815. Current best value is 8.032006551434529e-06 with parameters: {'x': 1.9971659205107417}.\u001b[0m\n",
      "\u001b[32m[I 2019-09-14 12:15:43,769]\u001b[0m Finished trial#181 resulted in value: 0.0010217834586031958. Current best value is 8.032006551434529e-06 with parameters: {'x': 1.9971659205107417}.\u001b[0m\n",
      "\u001b[32m[I 2019-09-14 12:15:43,826]\u001b[0m Finished trial#182 resulted in value: 0.28264858870633086. Current best value is 8.032006551434529e-06 with parameters: {'x': 1.9971659205107417}.\u001b[0m\n",
      "\u001b[32m[I 2019-09-14 12:15:43,891]\u001b[0m Finished trial#183 resulted in value: 0.008129800838389288. Current best value is 8.032006551434529e-06 with parameters: {'x': 1.9971659205107417}.\u001b[0m\n",
      "\u001b[32m[I 2019-09-14 12:15:43,948]\u001b[0m Finished trial#184 resulted in value: 0.22431574175416544. Current best value is 8.032006551434529e-06 with parameters: {'x': 1.9971659205107417}.\u001b[0m\n",
      "\u001b[32m[I 2019-09-14 12:15:44,012]\u001b[0m Finished trial#185 resulted in value: 0.09579589275917368. Current best value is 8.032006551434529e-06 with parameters: {'x': 1.9971659205107417}.\u001b[0m\n",
      "\u001b[32m[I 2019-09-14 12:15:44,065]\u001b[0m Finished trial#186 resulted in value: 0.5212485556017533. Current best value is 8.032006551434529e-06 with parameters: {'x': 1.9971659205107417}.\u001b[0m\n",
      "\u001b[32m[I 2019-09-14 12:15:44,115]\u001b[0m Finished trial#187 resulted in value: 0.023154560769010624. Current best value is 8.032006551434529e-06 with parameters: {'x': 1.9971659205107417}.\u001b[0m\n"
     ]
    },
    {
     "name": "stderr",
     "output_type": "stream",
     "text": [
      "\u001b[32m[I 2019-09-14 12:15:44,171]\u001b[0m Finished trial#188 resulted in value: 0.9131800808243553. Current best value is 8.032006551434529e-06 with parameters: {'x': 1.9971659205107417}.\u001b[0m\n",
      "\u001b[32m[I 2019-09-14 12:15:44,228]\u001b[0m Finished trial#189 resulted in value: 1.3175933704734624. Current best value is 8.032006551434529e-06 with parameters: {'x': 1.9971659205107417}.\u001b[0m\n",
      "\u001b[32m[I 2019-09-14 12:15:44,281]\u001b[0m Finished trial#190 resulted in value: 0.19059276332185782. Current best value is 8.032006551434529e-06 with parameters: {'x': 1.9971659205107417}.\u001b[0m\n",
      "\u001b[32m[I 2019-09-14 12:15:44,337]\u001b[0m Finished trial#191 resulted in value: 0.0019161225317212449. Current best value is 8.032006551434529e-06 with parameters: {'x': 1.9971659205107417}.\u001b[0m\n",
      "\u001b[32m[I 2019-09-14 12:15:44,396]\u001b[0m Finished trial#192 resulted in value: 0.030083506192511385. Current best value is 8.032006551434529e-06 with parameters: {'x': 1.9971659205107417}.\u001b[0m\n",
      "\u001b[32m[I 2019-09-14 12:15:44,451]\u001b[0m Finished trial#193 resulted in value: 0.3288684345521982. Current best value is 8.032006551434529e-06 with parameters: {'x': 1.9971659205107417}.\u001b[0m\n",
      "\u001b[32m[I 2019-09-14 12:15:44,523]\u001b[0m Finished trial#194 resulted in value: 0.0010363008444741108. Current best value is 8.032006551434529e-06 with parameters: {'x': 1.9971659205107417}.\u001b[0m\n",
      "\u001b[32m[I 2019-09-14 12:15:44,584]\u001b[0m Finished trial#195 resulted in value: 0.4663732384588663. Current best value is 8.032006551434529e-06 with parameters: {'x': 1.9971659205107417}.\u001b[0m\n",
      "\u001b[32m[I 2019-09-14 12:15:44,643]\u001b[0m Finished trial#196 resulted in value: 62.24034172662982. Current best value is 8.032006551434529e-06 with parameters: {'x': 1.9971659205107417}.\u001b[0m\n",
      "\u001b[32m[I 2019-09-14 12:15:44,702]\u001b[0m Finished trial#197 resulted in value: 0.0387386390069497. Current best value is 8.032006551434529e-06 with parameters: {'x': 1.9971659205107417}.\u001b[0m\n",
      "\u001b[32m[I 2019-09-14 12:15:44,760]\u001b[0m Finished trial#198 resulted in value: 0.07902848319163379. Current best value is 8.032006551434529e-06 with parameters: {'x': 1.9971659205107417}.\u001b[0m\n",
      "\u001b[32m[I 2019-09-14 12:15:44,818]\u001b[0m Finished trial#199 resulted in value: 0.5492431677657057. Current best value is 8.032006551434529e-06 with parameters: {'x': 1.9971659205107417}.\u001b[0m\n"
     ]
    }
   ],
   "source": [
    "study.optimize(objective, n_trials=100)"
   ]
  },
  {
   "cell_type": "code",
   "execution_count": 37,
   "metadata": {},
   "outputs": [
    {
     "data": {
      "text/plain": [
       "200"
      ]
     },
     "execution_count": 37,
     "metadata": {},
     "output_type": "execute_result"
    }
   ],
   "source": [
    "len(study.trials)"
   ]
  },
  {
   "cell_type": "code",
   "execution_count": 56,
   "metadata": {},
   "outputs": [],
   "source": [
    "def objective(trial):\n",
    "    iris = sklearn.datasets.load_iris()\n",
    "    x, y = iris.data, iris.target\n",
    "\n",
    "    classifier_name = trial.suggest_categorical('classifier', ['SVC', 'RandomForest'])\n",
    "    if classifier_name == 'SVC':\n",
    "        svc_c = trial.suggest_loguniform('svc_c', 1e-10, 1e10)\n",
    "        classifier_obj = sklearn.svm.SVC(C=svc_c, gamma='auto')\n",
    "    else:\n",
    "        rf_max_depth = int(trial.suggest_loguniform('rf_max_depth', 2, 32))\n",
    "        classifier_obj = sklearn.ensemble.RandomForestClassifier(\n",
    "            max_depth=rf_max_depth, n_estimators=10)\n",
    "\n",
    "    score = sklearn.model_selection.cross_val_score(classifier_obj, x, y, n_jobs=-1, cv=3)\n",
    "    accuracy = score.mean()\n",
    "    return accuracy"
   ]
  },
  {
   "cell_type": "code",
   "execution_count": 54,
   "metadata": {},
   "outputs": [],
   "source": [
    "def create_model(trial):\n",
    "    n_layers = trial.suggest_int('n_layers', 1, 3)\n",
    "\n",
    "    layers = []\n",
    "    for i in range(n_layers):\n",
    "        n_units = int(trial.suggest_loguniform('n_units_l{}'.format(i), 4, 128))\n",
    "        layers.append(L.Linear(None, n_units))\n",
    "        layers.append(F.relu)\n",
    "    layers.append(L.Linear(None, 10))\n",
    "\n",
    "    return chainer.Sequential(*layers)\n"
   ]
  },
  {
   "cell_type": "code",
   "execution_count": 57,
   "metadata": {},
   "outputs": [
    {
     "name": "stderr",
     "output_type": "stream",
     "text": [
      "\u001b[32m[I 2019-09-14 13:24:48,499]\u001b[0m Finished trial#0 resulted in value: 0.9342320261437909. Current best value is 0.9342320261437909 with parameters: {'classifier': 'SVC', 'svc_c': 3.3816444534596015e-06}.\u001b[0m\n",
      "\u001b[32m[I 2019-09-14 13:24:48,565]\u001b[0m Finished trial#1 resulted in value: 0.9342320261437909. Current best value is 0.9342320261437909 with parameters: {'classifier': 'SVC', 'svc_c': 3.3816444534596015e-06}.\u001b[0m\n",
      "\u001b[32m[I 2019-09-14 13:24:48,645]\u001b[0m Finished trial#2 resulted in value: 0.9599673202614379. Current best value is 0.9342320261437909 with parameters: {'classifier': 'SVC', 'svc_c': 3.3816444534596015e-06}.\u001b[0m\n",
      "\u001b[32m[I 2019-09-14 13:24:48,711]\u001b[0m Finished trial#3 resulted in value: 0.9738562091503268. Current best value is 0.9342320261437909 with parameters: {'classifier': 'SVC', 'svc_c': 3.3816444534596015e-06}.\u001b[0m\n",
      "\u001b[32m[I 2019-09-14 13:24:48,767]\u001b[0m Finished trial#4 resulted in value: 0.9669117647058824. Current best value is 0.9342320261437909 with parameters: {'classifier': 'SVC', 'svc_c': 3.3816444534596015e-06}.\u001b[0m\n",
      "\u001b[32m[I 2019-09-14 13:24:48,819]\u001b[0m Finished trial#5 resulted in value: 0.9342320261437909. Current best value is 0.9342320261437909 with parameters: {'classifier': 'SVC', 'svc_c': 3.3816444534596015e-06}.\u001b[0m\n",
      "\u001b[32m[I 2019-09-14 13:24:48,902]\u001b[0m Finished trial#6 resulted in value: 0.9534313725490197. Current best value is 0.9342320261437909 with parameters: {'classifier': 'SVC', 'svc_c': 3.3816444534596015e-06}.\u001b[0m\n",
      "\u001b[32m[I 2019-09-14 13:24:48,953]\u001b[0m Finished trial#7 resulted in value: 0.9399509803921569. Current best value is 0.9342320261437909 with parameters: {'classifier': 'SVC', 'svc_c': 3.3816444534596015e-06}.\u001b[0m\n",
      "\u001b[32m[I 2019-09-14 13:24:49,025]\u001b[0m Finished trial#8 resulted in value: 0.9538398692810457. Current best value is 0.9342320261437909 with parameters: {'classifier': 'SVC', 'svc_c': 3.3816444534596015e-06}.\u001b[0m\n",
      "\u001b[32m[I 2019-09-14 13:24:49,083]\u001b[0m Finished trial#9 resulted in value: 0.9342320261437909. Current best value is 0.9342320261437909 with parameters: {'classifier': 'SVC', 'svc_c': 3.3816444534596015e-06}.\u001b[0m\n",
      "\u001b[32m[I 2019-09-14 13:24:49,139]\u001b[0m Finished trial#10 resulted in value: 0.9342320261437909. Current best value is 0.9342320261437909 with parameters: {'classifier': 'SVC', 'svc_c': 3.3816444534596015e-06}.\u001b[0m\n",
      "\u001b[32m[I 2019-09-14 13:24:49,196]\u001b[0m Finished trial#11 resulted in value: 0.9342320261437909. Current best value is 0.9342320261437909 with parameters: {'classifier': 'SVC', 'svc_c': 3.3816444534596015e-06}.\u001b[0m\n",
      "\u001b[32m[I 2019-09-14 13:24:49,261]\u001b[0m Finished trial#12 resulted in value: 0.9342320261437909. Current best value is 0.9342320261437909 with parameters: {'classifier': 'SVC', 'svc_c': 3.3816444534596015e-06}.\u001b[0m\n",
      "\u001b[32m[I 2019-09-14 13:24:49,318]\u001b[0m Finished trial#13 resulted in value: 0.9342320261437909. Current best value is 0.9342320261437909 with parameters: {'classifier': 'SVC', 'svc_c': 3.3816444534596015e-06}.\u001b[0m\n",
      "\u001b[32m[I 2019-09-14 13:24:49,372]\u001b[0m Finished trial#14 resulted in value: 0.9399509803921569. Current best value is 0.9342320261437909 with parameters: {'classifier': 'SVC', 'svc_c': 3.3816444534596015e-06}.\u001b[0m\n",
      "\u001b[32m[I 2019-09-14 13:24:49,426]\u001b[0m Finished trial#15 resulted in value: 0.9342320261437909. Current best value is 0.9342320261437909 with parameters: {'classifier': 'SVC', 'svc_c': 3.3816444534596015e-06}.\u001b[0m\n",
      "\u001b[32m[I 2019-09-14 13:24:49,497]\u001b[0m Finished trial#16 resulted in value: 0.9342320261437909. Current best value is 0.9342320261437909 with parameters: {'classifier': 'SVC', 'svc_c': 3.3816444534596015e-06}.\u001b[0m\n",
      "\u001b[32m[I 2019-09-14 13:24:49,682]\u001b[0m Finished trial#17 resulted in value: 0.9669117647058822. Current best value is 0.9342320261437909 with parameters: {'classifier': 'SVC', 'svc_c': 3.3816444534596015e-06}.\u001b[0m\n",
      "\u001b[32m[I 2019-09-14 13:24:49,781]\u001b[0m Finished trial#18 resulted in value: 0.9399509803921569. Current best value is 0.9342320261437909 with parameters: {'classifier': 'SVC', 'svc_c': 3.3816444534596015e-06}.\u001b[0m\n",
      "\u001b[32m[I 2019-09-14 13:24:49,852]\u001b[0m Finished trial#19 resulted in value: 0.9342320261437909. Current best value is 0.9342320261437909 with parameters: {'classifier': 'SVC', 'svc_c': 3.3816444534596015e-06}.\u001b[0m\n",
      "\u001b[32m[I 2019-09-14 13:24:49,935]\u001b[0m Finished trial#20 resulted in value: 0.9342320261437909. Current best value is 0.9342320261437909 with parameters: {'classifier': 'SVC', 'svc_c': 3.3816444534596015e-06}.\u001b[0m\n",
      "\u001b[32m[I 2019-09-14 13:24:50,016]\u001b[0m Finished trial#21 resulted in value: 0.9342320261437909. Current best value is 0.9342320261437909 with parameters: {'classifier': 'SVC', 'svc_c': 3.3816444534596015e-06}.\u001b[0m\n",
      "\u001b[32m[I 2019-09-14 13:24:50,096]\u001b[0m Finished trial#22 resulted in value: 0.960375816993464. Current best value is 0.9342320261437909 with parameters: {'classifier': 'SVC', 'svc_c': 3.3816444534596015e-06}.\u001b[0m\n",
      "\u001b[32m[I 2019-09-14 13:24:50,165]\u001b[0m Finished trial#23 resulted in value: 0.9342320261437909. Current best value is 0.9342320261437909 with parameters: {'classifier': 'SVC', 'svc_c': 3.3816444534596015e-06}.\u001b[0m\n",
      "\u001b[32m[I 2019-09-14 13:24:50,239]\u001b[0m Finished trial#24 resulted in value: 0.9342320261437909. Current best value is 0.9342320261437909 with parameters: {'classifier': 'SVC', 'svc_c': 3.3816444534596015e-06}.\u001b[0m\n",
      "\u001b[32m[I 2019-09-14 13:24:50,320]\u001b[0m Finished trial#25 resulted in value: 0.9342320261437909. Current best value is 0.9342320261437909 with parameters: {'classifier': 'SVC', 'svc_c': 3.3816444534596015e-06}.\u001b[0m\n",
      "\u001b[32m[I 2019-09-14 13:24:50,426]\u001b[0m Finished trial#26 resulted in value: 0.9738562091503268. Current best value is 0.9342320261437909 with parameters: {'classifier': 'SVC', 'svc_c': 3.3816444534596015e-06}.\u001b[0m\n",
      "\u001b[32m[I 2019-09-14 13:24:50,503]\u001b[0m Finished trial#27 resulted in value: 0.9342320261437909. Current best value is 0.9342320261437909 with parameters: {'classifier': 'SVC', 'svc_c': 3.3816444534596015e-06}.\u001b[0m\n",
      "\u001b[32m[I 2019-09-14 13:24:50,583]\u001b[0m Finished trial#28 resulted in value: 0.9342320261437909. Current best value is 0.9342320261437909 with parameters: {'classifier': 'SVC', 'svc_c': 3.3816444534596015e-06}.\u001b[0m\n",
      "\u001b[32m[I 2019-09-14 13:24:50,652]\u001b[0m Finished trial#29 resulted in value: 0.9342320261437909. Current best value is 0.9342320261437909 with parameters: {'classifier': 'SVC', 'svc_c': 3.3816444534596015e-06}.\u001b[0m\n",
      "\u001b[32m[I 2019-09-14 13:24:50,745]\u001b[0m Finished trial#30 resulted in value: 0.9342320261437909. Current best value is 0.9342320261437909 with parameters: {'classifier': 'SVC', 'svc_c': 3.3816444534596015e-06}.\u001b[0m\n",
      "\u001b[32m[I 2019-09-14 13:24:50,839]\u001b[0m Finished trial#31 resulted in value: 0.9342320261437909. Current best value is 0.9342320261437909 with parameters: {'classifier': 'SVC', 'svc_c': 3.3816444534596015e-06}.\u001b[0m\n",
      "\u001b[32m[I 2019-09-14 13:24:50,909]\u001b[0m Finished trial#32 resulted in value: 0.9342320261437909. Current best value is 0.9342320261437909 with parameters: {'classifier': 'SVC', 'svc_c': 3.3816444534596015e-06}.\u001b[0m\n",
      "\u001b[32m[I 2019-09-14 13:24:50,980]\u001b[0m Finished trial#33 resulted in value: 0.9342320261437909. Current best value is 0.9342320261437909 with parameters: {'classifier': 'SVC', 'svc_c': 3.3816444534596015e-06}.\u001b[0m\n",
      "\u001b[32m[I 2019-09-14 13:24:51,054]\u001b[0m Finished trial#34 resulted in value: 0.9342320261437909. Current best value is 0.9342320261437909 with parameters: {'classifier': 'SVC', 'svc_c': 3.3816444534596015e-06}.\u001b[0m\n",
      "\u001b[32m[I 2019-09-14 13:24:51,118]\u001b[0m Finished trial#35 resulted in value: 0.9342320261437909. Current best value is 0.9342320261437909 with parameters: {'classifier': 'SVC', 'svc_c': 3.3816444534596015e-06}.\u001b[0m\n",
      "\u001b[32m[I 2019-09-14 13:24:51,207]\u001b[0m Finished trial#36 resulted in value: 0.9738562091503268. Current best value is 0.9342320261437909 with parameters: {'classifier': 'SVC', 'svc_c': 3.3816444534596015e-06}.\u001b[0m\n",
      "\u001b[32m[I 2019-09-14 13:24:51,266]\u001b[0m Finished trial#37 resulted in value: 0.9342320261437909. Current best value is 0.9342320261437909 with parameters: {'classifier': 'SVC', 'svc_c': 3.3816444534596015e-06}.\u001b[0m\n",
      "\u001b[32m[I 2019-09-14 13:24:51,322]\u001b[0m Finished trial#38 resulted in value: 0.960375816993464. Current best value is 0.9342320261437909 with parameters: {'classifier': 'SVC', 'svc_c': 3.3816444534596015e-06}.\u001b[0m\n"
     ]
    },
    {
     "name": "stderr",
     "output_type": "stream",
     "text": [
      "\u001b[32m[I 2019-09-14 13:24:51,380]\u001b[0m Finished trial#39 resulted in value: 0.9803921568627452. Current best value is 0.9342320261437909 with parameters: {'classifier': 'SVC', 'svc_c': 3.3816444534596015e-06}.\u001b[0m\n",
      "\u001b[32m[I 2019-09-14 13:24:51,467]\u001b[0m Finished trial#40 resulted in value: 0.9473039215686274. Current best value is 0.9342320261437909 with parameters: {'classifier': 'SVC', 'svc_c': 3.3816444534596015e-06}.\u001b[0m\n",
      "\u001b[32m[I 2019-09-14 13:24:51,528]\u001b[0m Finished trial#41 resulted in value: 0.9342320261437909. Current best value is 0.9342320261437909 with parameters: {'classifier': 'SVC', 'svc_c': 3.3816444534596015e-06}.\u001b[0m\n",
      "\u001b[32m[I 2019-09-14 13:24:51,592]\u001b[0m Finished trial#42 resulted in value: 0.9342320261437909. Current best value is 0.9342320261437909 with parameters: {'classifier': 'SVC', 'svc_c': 3.3816444534596015e-06}.\u001b[0m\n",
      "\u001b[32m[I 2019-09-14 13:24:51,650]\u001b[0m Finished trial#43 resulted in value: 0.9342320261437909. Current best value is 0.9342320261437909 with parameters: {'classifier': 'SVC', 'svc_c': 3.3816444534596015e-06}.\u001b[0m\n",
      "\u001b[32m[I 2019-09-14 13:24:51,709]\u001b[0m Finished trial#44 resulted in value: 0.9342320261437909. Current best value is 0.9342320261437909 with parameters: {'classifier': 'SVC', 'svc_c': 3.3816444534596015e-06}.\u001b[0m\n",
      "\u001b[32m[I 2019-09-14 13:24:51,767]\u001b[0m Finished trial#45 resulted in value: 0.9342320261437909. Current best value is 0.9342320261437909 with parameters: {'classifier': 'SVC', 'svc_c': 3.3816444534596015e-06}.\u001b[0m\n",
      "\u001b[32m[I 2019-09-14 13:24:51,827]\u001b[0m Finished trial#46 resulted in value: 0.9399509803921569. Current best value is 0.9342320261437909 with parameters: {'classifier': 'SVC', 'svc_c': 3.3816444534596015e-06}.\u001b[0m\n",
      "\u001b[32m[I 2019-09-14 13:24:51,892]\u001b[0m Finished trial#47 resulted in value: 0.9342320261437909. Current best value is 0.9342320261437909 with parameters: {'classifier': 'SVC', 'svc_c': 3.3816444534596015e-06}.\u001b[0m\n",
      "\u001b[32m[I 2019-09-14 13:24:51,956]\u001b[0m Finished trial#48 resulted in value: 0.9342320261437909. Current best value is 0.9342320261437909 with parameters: {'classifier': 'SVC', 'svc_c': 3.3816444534596015e-06}.\u001b[0m\n",
      "\u001b[32m[I 2019-09-14 13:24:52,024]\u001b[0m Finished trial#49 resulted in value: 0.9342320261437909. Current best value is 0.9342320261437909 with parameters: {'classifier': 'SVC', 'svc_c': 3.3816444534596015e-06}.\u001b[0m\n",
      "\u001b[32m[I 2019-09-14 13:24:52,082]\u001b[0m Finished trial#50 resulted in value: 0.9342320261437909. Current best value is 0.9342320261437909 with parameters: {'classifier': 'SVC', 'svc_c': 3.3816444534596015e-06}.\u001b[0m\n",
      "\u001b[32m[I 2019-09-14 13:24:52,147]\u001b[0m Finished trial#51 resulted in value: 0.9342320261437909. Current best value is 0.9342320261437909 with parameters: {'classifier': 'SVC', 'svc_c': 3.3816444534596015e-06}.\u001b[0m\n",
      "\u001b[32m[I 2019-09-14 13:24:52,231]\u001b[0m Finished trial#52 resulted in value: 0.9399509803921569. Current best value is 0.9342320261437909 with parameters: {'classifier': 'SVC', 'svc_c': 3.3816444534596015e-06}.\u001b[0m\n",
      "\u001b[32m[I 2019-09-14 13:24:52,313]\u001b[0m Finished trial#53 resulted in value: 0.9342320261437909. Current best value is 0.9342320261437909 with parameters: {'classifier': 'SVC', 'svc_c': 3.3816444534596015e-06}.\u001b[0m\n",
      "\u001b[32m[I 2019-09-14 13:24:52,419]\u001b[0m Finished trial#54 resulted in value: 0.9342320261437909. Current best value is 0.9342320261437909 with parameters: {'classifier': 'SVC', 'svc_c': 3.3816444534596015e-06}.\u001b[0m\n",
      "\u001b[32m[I 2019-09-14 13:24:52,513]\u001b[0m Finished trial#55 resulted in value: 0.9342320261437909. Current best value is 0.9342320261437909 with parameters: {'classifier': 'SVC', 'svc_c': 3.3816444534596015e-06}.\u001b[0m\n",
      "\u001b[32m[I 2019-09-14 13:24:52,605]\u001b[0m Finished trial#56 resulted in value: 0.9342320261437909. Current best value is 0.9342320261437909 with parameters: {'classifier': 'SVC', 'svc_c': 3.3816444534596015e-06}.\u001b[0m\n",
      "\u001b[32m[I 2019-09-14 13:24:52,715]\u001b[0m Finished trial#57 resulted in value: 0.9342320261437909. Current best value is 0.9342320261437909 with parameters: {'classifier': 'SVC', 'svc_c': 3.3816444534596015e-06}.\u001b[0m\n",
      "\u001b[32m[I 2019-09-14 13:24:52,805]\u001b[0m Finished trial#58 resulted in value: 0.9342320261437909. Current best value is 0.9342320261437909 with parameters: {'classifier': 'SVC', 'svc_c': 3.3816444534596015e-06}.\u001b[0m\n",
      "\u001b[32m[I 2019-09-14 13:24:52,889]\u001b[0m Finished trial#59 resulted in value: 0.9538398692810457. Current best value is 0.9342320261437909 with parameters: {'classifier': 'SVC', 'svc_c': 3.3816444534596015e-06}.\u001b[0m\n",
      "\u001b[32m[I 2019-09-14 13:24:52,957]\u001b[0m Finished trial#60 resulted in value: 0.9734477124183006. Current best value is 0.9342320261437909 with parameters: {'classifier': 'SVC', 'svc_c': 3.3816444534596015e-06}.\u001b[0m\n",
      "\u001b[32m[I 2019-09-14 13:24:53,021]\u001b[0m Finished trial#61 resulted in value: 0.9342320261437909. Current best value is 0.9342320261437909 with parameters: {'classifier': 'SVC', 'svc_c': 3.3816444534596015e-06}.\u001b[0m\n",
      "\u001b[32m[I 2019-09-14 13:24:53,086]\u001b[0m Finished trial#62 resulted in value: 0.9342320261437909. Current best value is 0.9342320261437909 with parameters: {'classifier': 'SVC', 'svc_c': 3.3816444534596015e-06}.\u001b[0m\n",
      "\u001b[32m[I 2019-09-14 13:24:53,159]\u001b[0m Finished trial#63 resulted in value: 0.9342320261437909. Current best value is 0.9342320261437909 with parameters: {'classifier': 'SVC', 'svc_c': 3.3816444534596015e-06}.\u001b[0m\n",
      "\u001b[32m[I 2019-09-14 13:24:53,234]\u001b[0m Finished trial#64 resulted in value: 0.9342320261437909. Current best value is 0.9342320261437909 with parameters: {'classifier': 'SVC', 'svc_c': 3.3816444534596015e-06}.\u001b[0m\n",
      "\u001b[32m[I 2019-09-14 13:24:53,318]\u001b[0m Finished trial#65 resulted in value: 0.9342320261437909. Current best value is 0.9342320261437909 with parameters: {'classifier': 'SVC', 'svc_c': 3.3816444534596015e-06}.\u001b[0m\n",
      "\u001b[32m[I 2019-09-14 13:24:53,395]\u001b[0m Finished trial#66 resulted in value: 0.9342320261437909. Current best value is 0.9342320261437909 with parameters: {'classifier': 'SVC', 'svc_c': 3.3816444534596015e-06}.\u001b[0m\n",
      "\u001b[32m[I 2019-09-14 13:24:53,486]\u001b[0m Finished trial#67 resulted in value: 0.9342320261437909. Current best value is 0.9342320261437909 with parameters: {'classifier': 'SVC', 'svc_c': 3.3816444534596015e-06}.\u001b[0m\n",
      "\u001b[32m[I 2019-09-14 13:24:53,576]\u001b[0m Finished trial#68 resulted in value: 0.9342320261437909. Current best value is 0.9342320261437909 with parameters: {'classifier': 'SVC', 'svc_c': 3.3816444534596015e-06}.\u001b[0m\n",
      "\u001b[32m[I 2019-09-14 13:24:53,659]\u001b[0m Finished trial#69 resulted in value: 0.9342320261437909. Current best value is 0.9342320261437909 with parameters: {'classifier': 'SVC', 'svc_c': 3.3816444534596015e-06}.\u001b[0m\n",
      "\u001b[32m[I 2019-09-14 13:24:53,737]\u001b[0m Finished trial#70 resulted in value: 0.9342320261437909. Current best value is 0.9342320261437909 with parameters: {'classifier': 'SVC', 'svc_c': 3.3816444534596015e-06}.\u001b[0m\n",
      "\u001b[32m[I 2019-09-14 13:24:53,844]\u001b[0m Finished trial#71 resulted in value: 0.9342320261437909. Current best value is 0.9342320261437909 with parameters: {'classifier': 'SVC', 'svc_c': 3.3816444534596015e-06}.\u001b[0m\n",
      "\u001b[32m[I 2019-09-14 13:24:53,920]\u001b[0m Finished trial#72 resulted in value: 0.9342320261437909. Current best value is 0.9342320261437909 with parameters: {'classifier': 'SVC', 'svc_c': 3.3816444534596015e-06}.\u001b[0m\n",
      "\u001b[32m[I 2019-09-14 13:24:54,001]\u001b[0m Finished trial#73 resulted in value: 0.9342320261437909. Current best value is 0.9342320261437909 with parameters: {'classifier': 'SVC', 'svc_c': 3.3816444534596015e-06}.\u001b[0m\n",
      "\u001b[32m[I 2019-09-14 13:24:54,086]\u001b[0m Finished trial#74 resulted in value: 0.9342320261437909. Current best value is 0.9342320261437909 with parameters: {'classifier': 'SVC', 'svc_c': 3.3816444534596015e-06}.\u001b[0m\n",
      "\u001b[32m[I 2019-09-14 13:24:54,164]\u001b[0m Finished trial#75 resulted in value: 0.9342320261437909. Current best value is 0.9342320261437909 with parameters: {'classifier': 'SVC', 'svc_c': 3.3816444534596015e-06}.\u001b[0m\n",
      "\u001b[32m[I 2019-09-14 13:24:54,239]\u001b[0m Finished trial#76 resulted in value: 0.9342320261437909. Current best value is 0.9342320261437909 with parameters: {'classifier': 'SVC', 'svc_c': 3.3816444534596015e-06}.\u001b[0m\n",
      "\u001b[32m[I 2019-09-14 13:24:54,314]\u001b[0m Finished trial#77 resulted in value: 0.9342320261437909. Current best value is 0.9342320261437909 with parameters: {'classifier': 'SVC', 'svc_c': 3.3816444534596015e-06}.\u001b[0m\n"
     ]
    },
    {
     "name": "stderr",
     "output_type": "stream",
     "text": [
      "\u001b[32m[I 2019-09-14 13:24:54,430]\u001b[0m Finished trial#78 resulted in value: 0.960375816993464. Current best value is 0.9342320261437909 with parameters: {'classifier': 'SVC', 'svc_c': 3.3816444534596015e-06}.\u001b[0m\n",
      "\u001b[32m[I 2019-09-14 13:24:54,531]\u001b[0m Finished trial#79 resulted in value: 0.9342320261437909. Current best value is 0.9342320261437909 with parameters: {'classifier': 'SVC', 'svc_c': 3.3816444534596015e-06}.\u001b[0m\n",
      "\u001b[32m[I 2019-09-14 13:24:54,613]\u001b[0m Finished trial#80 resulted in value: 0.9342320261437909. Current best value is 0.9342320261437909 with parameters: {'classifier': 'SVC', 'svc_c': 3.3816444534596015e-06}.\u001b[0m\n",
      "\u001b[32m[I 2019-09-14 13:24:54,694]\u001b[0m Finished trial#81 resulted in value: 0.9342320261437909. Current best value is 0.9342320261437909 with parameters: {'classifier': 'SVC', 'svc_c': 3.3816444534596015e-06}.\u001b[0m\n",
      "\u001b[32m[I 2019-09-14 13:24:54,771]\u001b[0m Finished trial#82 resulted in value: 0.9342320261437909. Current best value is 0.9342320261437909 with parameters: {'classifier': 'SVC', 'svc_c': 3.3816444534596015e-06}.\u001b[0m\n",
      "\u001b[32m[I 2019-09-14 13:24:54,854]\u001b[0m Finished trial#83 resulted in value: 0.9669117647058824. Current best value is 0.9342320261437909 with parameters: {'classifier': 'SVC', 'svc_c': 3.3816444534596015e-06}.\u001b[0m\n",
      "\u001b[32m[I 2019-09-14 13:24:54,941]\u001b[0m Finished trial#84 resulted in value: 0.9342320261437909. Current best value is 0.9342320261437909 with parameters: {'classifier': 'SVC', 'svc_c': 3.3816444534596015e-06}.\u001b[0m\n",
      "\u001b[32m[I 2019-09-14 13:24:55,021]\u001b[0m Finished trial#85 resulted in value: 0.9342320261437909. Current best value is 0.9342320261437909 with parameters: {'classifier': 'SVC', 'svc_c': 3.3816444534596015e-06}.\u001b[0m\n",
      "\u001b[32m[I 2019-09-14 13:24:55,100]\u001b[0m Finished trial#86 resulted in value: 0.960375816993464. Current best value is 0.9342320261437909 with parameters: {'classifier': 'SVC', 'svc_c': 3.3816444534596015e-06}.\u001b[0m\n",
      "\u001b[32m[I 2019-09-14 13:24:55,177]\u001b[0m Finished trial#87 resulted in value: 0.9342320261437909. Current best value is 0.9342320261437909 with parameters: {'classifier': 'SVC', 'svc_c': 3.3816444534596015e-06}.\u001b[0m\n",
      "\u001b[32m[I 2019-09-14 13:24:55,254]\u001b[0m Finished trial#88 resulted in value: 0.9734477124183006. Current best value is 0.9342320261437909 with parameters: {'classifier': 'SVC', 'svc_c': 3.3816444534596015e-06}.\u001b[0m\n",
      "\u001b[32m[I 2019-09-14 13:24:55,337]\u001b[0m Finished trial#89 resulted in value: 0.9342320261437909. Current best value is 0.9342320261437909 with parameters: {'classifier': 'SVC', 'svc_c': 3.3816444534596015e-06}.\u001b[0m\n",
      "\u001b[32m[I 2019-09-14 13:24:55,431]\u001b[0m Finished trial#90 resulted in value: 0.9342320261437909. Current best value is 0.9342320261437909 with parameters: {'classifier': 'SVC', 'svc_c': 3.3816444534596015e-06}.\u001b[0m\n",
      "\u001b[32m[I 2019-09-14 13:24:55,518]\u001b[0m Finished trial#91 resulted in value: 0.9342320261437909. Current best value is 0.9342320261437909 with parameters: {'classifier': 'SVC', 'svc_c': 3.3816444534596015e-06}.\u001b[0m\n",
      "\u001b[32m[I 2019-09-14 13:24:55,612]\u001b[0m Finished trial#92 resulted in value: 0.9407679738562091. Current best value is 0.9342320261437909 with parameters: {'classifier': 'SVC', 'svc_c': 3.3816444534596015e-06}.\u001b[0m\n",
      "\u001b[32m[I 2019-09-14 13:24:55,695]\u001b[0m Finished trial#93 resulted in value: 0.9342320261437909. Current best value is 0.9342320261437909 with parameters: {'classifier': 'SVC', 'svc_c': 3.3816444534596015e-06}.\u001b[0m\n",
      "\u001b[32m[I 2019-09-14 13:24:55,772]\u001b[0m Finished trial#94 resulted in value: 0.9342320261437909. Current best value is 0.9342320261437909 with parameters: {'classifier': 'SVC', 'svc_c': 3.3816444534596015e-06}.\u001b[0m\n",
      "\u001b[32m[I 2019-09-14 13:24:55,846]\u001b[0m Finished trial#95 resulted in value: 0.9342320261437909. Current best value is 0.9342320261437909 with parameters: {'classifier': 'SVC', 'svc_c': 3.3816444534596015e-06}.\u001b[0m\n",
      "\u001b[32m[I 2019-09-14 13:24:55,922]\u001b[0m Finished trial#96 resulted in value: 0.9342320261437909. Current best value is 0.9342320261437909 with parameters: {'classifier': 'SVC', 'svc_c': 3.3816444534596015e-06}.\u001b[0m\n",
      "\u001b[32m[I 2019-09-14 13:24:56,008]\u001b[0m Finished trial#97 resulted in value: 0.9342320261437909. Current best value is 0.9342320261437909 with parameters: {'classifier': 'SVC', 'svc_c': 3.3816444534596015e-06}.\u001b[0m\n",
      "\u001b[32m[I 2019-09-14 13:24:56,097]\u001b[0m Finished trial#98 resulted in value: 0.9342320261437909. Current best value is 0.9342320261437909 with parameters: {'classifier': 'SVC', 'svc_c': 3.3816444534596015e-06}.\u001b[0m\n",
      "\u001b[32m[I 2019-09-14 13:24:56,192]\u001b[0m Finished trial#99 resulted in value: 0.9342320261437909. Current best value is 0.9342320261437909 with parameters: {'classifier': 'SVC', 'svc_c': 3.3816444534596015e-06}.\u001b[0m\n"
     ]
    }
   ],
   "source": [
    "study = optuna.create_study()\n",
    "study.optimize(objective, n_trials=100)"
   ]
  },
  {
   "cell_type": "code",
   "execution_count": 51,
   "metadata": {},
   "outputs": [],
   "source": [
    "import sklearn\n",
    "import sklearn.svm \n",
    "import sklearn.ensemble\n",
    "\n",
    "import sklearn.datasets\n",
    "import sklearn.ensemble\n",
    "import sklearn.model_selection\n",
    "import sklearn.svm\n"
   ]
  },
  {
   "cell_type": "code",
   "execution_count": 44,
   "metadata": {
    "scrolled": true
   },
   "outputs": [
    {
     "name": "stdout",
     "output_type": "stream",
     "text": [
      "Collecting scikit-learn\n",
      "\u001b[?25l  Downloading https://files.pythonhosted.org/packages/e9/57/8a9889d49d0d77905af5a7524fb2b468d2ef5fc723684f51f5ca63efed0d/scikit_learn-0.21.3-cp37-cp37m-macosx_10_6_intel.macosx_10_9_intel.macosx_10_9_x86_64.macosx_10_10_intel.macosx_10_10_x86_64.whl (10.5MB)\n",
      "\u001b[K     |████████████████████████████████| 10.5MB 4.4MB/s eta 0:00:01\n",
      "\u001b[?25hRequirement already satisfied: scipy>=0.17.0 in /Library/Frameworks/Python.framework/Versions/3.7/lib/python3.7/site-packages (from scikit-learn) (1.3.1)\n",
      "Collecting joblib>=0.11 (from scikit-learn)\n",
      "\u001b[?25l  Downloading https://files.pythonhosted.org/packages/cd/c1/50a758e8247561e58cb87305b1e90b171b8c767b15b12a1734001f41d356/joblib-0.13.2-py2.py3-none-any.whl (278kB)\n",
      "\u001b[K     |████████████████████████████████| 286kB 8.1MB/s eta 0:00:01\n",
      "\u001b[?25hRequirement already satisfied: numpy>=1.11.0 in /Library/Frameworks/Python.framework/Versions/3.7/lib/python3.7/site-packages (from scikit-learn) (1.17.2)\n",
      "Installing collected packages: joblib, scikit-learn\n",
      "Successfully installed joblib-0.13.2 scikit-learn-0.21.3\n"
     ]
    }
   ],
   "source": [
    "!pip install scikit-learn"
   ]
  },
  {
   "cell_type": "code",
   "execution_count": 58,
   "metadata": {},
   "outputs": [
    {
     "name": "stderr",
     "output_type": "stream",
     "text": [
      "\u001b[32m[I 2019-09-14 13:25:17,547]\u001b[0m A new study created with name: example-study\u001b[0m\n"
     ]
    }
   ],
   "source": [
    "import optuna\n",
    "study_name = 'example-study'  # Unique identifier of the study.\n",
    "study = optuna.create_study(study_name=study_name, storage='sqlite:///example.db')"
   ]
  },
  {
   "cell_type": "code",
   "execution_count": 59,
   "metadata": {},
   "outputs": [
    {
     "name": "stderr",
     "output_type": "stream",
     "text": [
      "\u001b[32m[I 2019-09-14 13:26:10,108]\u001b[0m Finished trial#0 resulted in value: 8.589575356617427. Current best value is 8.589575356617427 with parameters: {'x': 4.9307977338290385}.\u001b[0m\n",
      "\u001b[32m[I 2019-09-14 13:26:10,213]\u001b[0m Finished trial#1 resulted in value: 5.472429605326358. Current best value is 5.472429605326358 with parameters: {'x': 4.339322467152906}.\u001b[0m\n",
      "\u001b[32m[I 2019-09-14 13:26:10,328]\u001b[0m Finished trial#2 resulted in value: 141.7935508491882. Current best value is 5.472429605326358 with parameters: {'x': 4.339322467152906}.\u001b[0m\n"
     ]
    }
   ],
   "source": [
    "def objective(trial):\n",
    "    x = trial.suggest_uniform('x', -10, 10)\n",
    "    return (x - 2) ** 2\n",
    "\n",
    "study.optimize(objective, n_trials=3)"
   ]
  },
  {
   "cell_type": "code",
   "execution_count": 60,
   "metadata": {},
   "outputs": [
    {
     "name": "stderr",
     "output_type": "stream",
     "text": [
      "\u001b[32m[I 2019-09-14 13:30:49,913]\u001b[0m Using an existing study with name 'example-study' instead of creating a new one.\u001b[0m\n",
      "\u001b[32m[I 2019-09-14 13:30:50,059]\u001b[0m Finished trial#3 resulted in value: 1.304492271317267. Current best value is 1.304492271317267 with parameters: {'x': 0.8578562825470399}.\u001b[0m\n",
      "\u001b[32m[I 2019-09-14 13:30:50,182]\u001b[0m Finished trial#4 resulted in value: 8.018245825357756. Current best value is 1.304492271317267 with parameters: {'x': 0.8578562825470399}.\u001b[0m\n",
      "\u001b[32m[I 2019-09-14 13:30:50,287]\u001b[0m Finished trial#5 resulted in value: 45.48895581171928. Current best value is 1.304492271317267 with parameters: {'x': 0.8578562825470399}.\u001b[0m\n"
     ]
    }
   ],
   "source": [
    "study = optuna.create_study(study_name='example-study', storage='sqlite:///example.db', load_if_exists=True)\n",
    "study.optimize(objective, n_trials=3)"
   ]
  },
  {
   "cell_type": "code",
   "execution_count": 61,
   "metadata": {},
   "outputs": [
    {
     "name": "stderr",
     "output_type": "stream",
     "text": [
      "\u001b[32m[I 2019-09-14 13:35:42,444]\u001b[0m Using an existing study with name 'example-study' instead of creating a new one.\u001b[0m\n"
     ]
    }
   ],
   "source": [
    "import optuna\n",
    "study = optuna.create_study(study_name='example-study', storage='sqlite:///example.db', load_if_exists=True)\n",
    "df = study.trials_dataframe()"
   ]
  },
  {
   "cell_type": "code",
   "execution_count": 62,
   "metadata": {},
   "outputs": [
    {
     "data": {
      "text/plain": [
       "[FrozenTrial(number=0, state=<TrialState.COMPLETE: 1>, value=8.589575356617427, datetime_start=datetime.datetime(2019, 9, 14, 13, 26, 9, 990777), datetime_complete=datetime.datetime(2019, 9, 14, 13, 26, 10, 94780), params={'x': 4.9307977338290385}, distributions={'x': UniformDistribution(low=-10, high=10)}, user_attrs={}, system_attrs={'_number': 0}, intermediate_values={}, trial_id=1),\n",
       " FrozenTrial(number=1, state=<TrialState.COMPLETE: 1>, value=5.472429605326358, datetime_start=datetime.datetime(2019, 9, 14, 13, 26, 10, 110063), datetime_complete=datetime.datetime(2019, 9, 14, 13, 26, 10, 197684), params={'x': 4.339322467152906}, distributions={'x': UniformDistribution(low=-10, high=10)}, user_attrs={}, system_attrs={'_number': 1}, intermediate_values={}, trial_id=2),\n",
       " FrozenTrial(number=2, state=<TrialState.COMPLETE: 1>, value=141.7935508491882, datetime_start=datetime.datetime(2019, 9, 14, 13, 26, 10, 214366), datetime_complete=datetime.datetime(2019, 9, 14, 13, 26, 10, 312118), params={'x': -9.907709723082277}, distributions={'x': UniformDistribution(low=-10, high=10)}, user_attrs={}, system_attrs={'_number': 2}, intermediate_values={}, trial_id=3),\n",
       " FrozenTrial(number=3, state=<TrialState.COMPLETE: 1>, value=1.304492271317267, datetime_start=datetime.datetime(2019, 9, 14, 13, 30, 49, 925413), datetime_complete=datetime.datetime(2019, 9, 14, 13, 30, 50, 42409), params={'x': 0.8578562825470399}, distributions={'x': UniformDistribution(low=-10, high=10)}, user_attrs={}, system_attrs={'_number': 3}, intermediate_values={}, trial_id=4),\n",
       " FrozenTrial(number=4, state=<TrialState.COMPLETE: 1>, value=8.018245825357756, datetime_start=datetime.datetime(2019, 9, 14, 13, 30, 50, 60878), datetime_complete=datetime.datetime(2019, 9, 14, 13, 30, 50, 168386), params={'x': -0.8316507244640459}, distributions={'x': UniformDistribution(low=-10, high=10)}, user_attrs={}, system_attrs={'_number': 4}, intermediate_values={}, trial_id=5),\n",
       " FrozenTrial(number=5, state=<TrialState.COMPLETE: 1>, value=45.48895581171928, datetime_start=datetime.datetime(2019, 9, 14, 13, 30, 50, 183973), datetime_complete=datetime.datetime(2019, 9, 14, 13, 30, 50, 274246), params={'x': 8.744550082230784}, distributions={'x': UniformDistribution(low=-10, high=10)}, user_attrs={}, system_attrs={'_number': 5}, intermediate_values={}, trial_id=6)]"
      ]
     },
     "execution_count": 62,
     "metadata": {},
     "output_type": "execute_result"
    }
   ],
   "source": [
    "study.best_params  # Get best parameters for the objective function.\n",
    "study.best_value  # Get best objective value.\n",
    "study.best_trial  # Get best trial's information.\n",
    "study.trials  # Get all trials' information."
   ]
  },
  {
   "cell_type": "code",
   "execution_count": 68,
   "metadata": {},
   "outputs": [
    {
     "name": "stderr",
     "output_type": "stream",
     "text": [
      "\u001b[32m[I 2019-09-14 13:59:33,133]\u001b[0m A new study created with name: no-name-7ecf77ad-046a-464b-ad75-6b193c5722d7\u001b[0m\n"
     ]
    }
   ],
   "source": [
    "import optuna\n",
    "study = optuna.create_study(storage='sqlite:///example.db')\n",
    "study.set_user_attr('contributors', ['Akiba', 'Sano'])\n",
    "study.set_user_attr('dataset', 'MNIST')\n"
   ]
  },
  {
   "cell_type": "code",
   "execution_count": 69,
   "metadata": {},
   "outputs": [
    {
     "data": {
      "text/plain": [
       "{'contributors': ['Akiba', 'Sano'], 'dataset': 'MNIST'}"
      ]
     },
     "execution_count": 69,
     "metadata": {},
     "output_type": "execute_result"
    }
   ],
   "source": [
    "study.user_attrs  # {'contributors': ['Akiba', 'Sano'], 'dataset': 'MNIST'}"
   ]
  },
  {
   "cell_type": "code",
   "execution_count": 73,
   "metadata": {},
   "outputs": [
    {
     "data": {
      "text/plain": [
       "{}"
      ]
     },
     "execution_count": 73,
     "metadata": {},
     "output_type": "execute_result"
    }
   ],
   "source": [
    "study_summaries = optuna.get_all_study_summaries('sqlite:///example.db')\n",
    "study_summaries[0].user_attrs  # {'contributors': ['Akiba', 'Sano'], 'dataset': 'MNIST'}"
   ]
  },
  {
   "cell_type": "code",
   "execution_count": 79,
   "metadata": {},
   "outputs": [],
   "source": [
    "def objective(trial):\n",
    "    iris = sklearn.datasets.load_iris()\n",
    "    x, y = iris.data, iris.target\n",
    "\n",
    "    svc_c = trial.suggest_loguniform('svc_c', 1e-10, 1e10)\n",
    "    clf = sklearn.svm.SVC(C=svc_c)\n",
    "    accuracy = sklearn.model_selection.cross_val_score(clf, x, y).mean()\n",
    "\n",
    "    trial.set_user_attr('accuracy', accuracy)\n",
    "\n",
    "    return 1.0 - accuracy  # return error for minimization"
   ]
  },
  {
   "cell_type": "code",
   "execution_count": 80,
   "metadata": {},
   "outputs": [
    {
     "name": "stderr",
     "output_type": "stream",
     "text": [
      "/Library/Frameworks/Python.framework/Versions/3.7/lib/python3.7/site-packages/sklearn/model_selection/_split.py:1978: FutureWarning: The default value of cv will change from 3 to 5 in version 0.22. Specify it explicitly to silence this warning.\n",
      "  warnings.warn(CV_WARNING, FutureWarning)\n",
      "/Library/Frameworks/Python.framework/Versions/3.7/lib/python3.7/site-packages/sklearn/svm/base.py:193: FutureWarning: The default value of gamma will change from 'auto' to 'scale' in version 0.22 to account better for unscaled features. Set gamma explicitly to 'auto' or 'scale' to avoid this warning.\n",
      "  \"avoid this warning.\", FutureWarning)\n",
      "/Library/Frameworks/Python.framework/Versions/3.7/lib/python3.7/site-packages/sklearn/svm/base.py:193: FutureWarning: The default value of gamma will change from 'auto' to 'scale' in version 0.22 to account better for unscaled features. Set gamma explicitly to 'auto' or 'scale' to avoid this warning.\n",
      "  \"avoid this warning.\", FutureWarning)\n",
      "/Library/Frameworks/Python.framework/Versions/3.7/lib/python3.7/site-packages/sklearn/svm/base.py:193: FutureWarning: The default value of gamma will change from 'auto' to 'scale' in version 0.22 to account better for unscaled features. Set gamma explicitly to 'auto' or 'scale' to avoid this warning.\n",
      "  \"avoid this warning.\", FutureWarning)\n",
      "\u001b[32m[I 2019-09-14 14:41:38,294]\u001b[0m Finished trial#0 resulted in value: 0.06576797385620914. Current best value is 0.06576797385620914 with parameters: {'svc_c': 4.577123707636912e-08}.\u001b[0m\n",
      "/Library/Frameworks/Python.framework/Versions/3.7/lib/python3.7/site-packages/sklearn/model_selection/_split.py:1978: FutureWarning: The default value of cv will change from 3 to 5 in version 0.22. Specify it explicitly to silence this warning.\n",
      "  warnings.warn(CV_WARNING, FutureWarning)\n",
      "/Library/Frameworks/Python.framework/Versions/3.7/lib/python3.7/site-packages/sklearn/svm/base.py:193: FutureWarning: The default value of gamma will change from 'auto' to 'scale' in version 0.22 to account better for unscaled features. Set gamma explicitly to 'auto' or 'scale' to avoid this warning.\n",
      "  \"avoid this warning.\", FutureWarning)\n",
      "/Library/Frameworks/Python.framework/Versions/3.7/lib/python3.7/site-packages/sklearn/svm/base.py:193: FutureWarning: The default value of gamma will change from 'auto' to 'scale' in version 0.22 to account better for unscaled features. Set gamma explicitly to 'auto' or 'scale' to avoid this warning.\n",
      "  \"avoid this warning.\", FutureWarning)\n",
      "/Library/Frameworks/Python.framework/Versions/3.7/lib/python3.7/site-packages/sklearn/svm/base.py:193: FutureWarning: The default value of gamma will change from 'auto' to 'scale' in version 0.22 to account better for unscaled features. Set gamma explicitly to 'auto' or 'scale' to avoid this warning.\n",
      "  \"avoid this warning.\", FutureWarning)\n",
      "\u001b[32m[I 2019-09-14 14:41:38,360]\u001b[0m Finished trial#1 resulted in value: 0.060049019607843146. Current best value is 0.060049019607843146 with parameters: {'svc_c': 298887830.4345923}.\u001b[0m\n",
      "/Library/Frameworks/Python.framework/Versions/3.7/lib/python3.7/site-packages/sklearn/model_selection/_split.py:1978: FutureWarning: The default value of cv will change from 3 to 5 in version 0.22. Specify it explicitly to silence this warning.\n",
      "  warnings.warn(CV_WARNING, FutureWarning)\n",
      "/Library/Frameworks/Python.framework/Versions/3.7/lib/python3.7/site-packages/sklearn/svm/base.py:193: FutureWarning: The default value of gamma will change from 'auto' to 'scale' in version 0.22 to account better for unscaled features. Set gamma explicitly to 'auto' or 'scale' to avoid this warning.\n",
      "  \"avoid this warning.\", FutureWarning)\n",
      "/Library/Frameworks/Python.framework/Versions/3.7/lib/python3.7/site-packages/sklearn/svm/base.py:193: FutureWarning: The default value of gamma will change from 'auto' to 'scale' in version 0.22 to account better for unscaled features. Set gamma explicitly to 'auto' or 'scale' to avoid this warning.\n",
      "  \"avoid this warning.\", FutureWarning)\n",
      "/Library/Frameworks/Python.framework/Versions/3.7/lib/python3.7/site-packages/sklearn/svm/base.py:193: FutureWarning: The default value of gamma will change from 'auto' to 'scale' in version 0.22 to account better for unscaled features. Set gamma explicitly to 'auto' or 'scale' to avoid this warning.\n",
      "  \"avoid this warning.\", FutureWarning)\n",
      "\u001b[32m[I 2019-09-14 14:41:38,407]\u001b[0m Finished trial#2 resulted in value: 0.060049019607843146. Current best value is 0.060049019607843146 with parameters: {'svc_c': 298887830.4345923}.\u001b[0m\n"
     ]
    }
   ],
   "source": [
    "study = optuna.create_study()\n",
    "study.optimize(objective, n_trials=3)"
   ]
  },
  {
   "cell_type": "code",
   "execution_count": 81,
   "metadata": {},
   "outputs": [
    {
     "data": {
      "text/plain": [
       "{'accuracy': 0.9342320261437909}"
      ]
     },
     "execution_count": 81,
     "metadata": {},
     "output_type": "execute_result"
    }
   ],
   "source": [
    "study.trials[0].user_attrs  # {'accuracy': 0.83}"
   ]
  },
  {
   "cell_type": "code",
   "execution_count": 76,
   "metadata": {},
   "outputs": [
    {
     "name": "stderr",
     "output_type": "stream",
     "text": [
      "\u001b[32m[I 2019-09-14 14:19:46,639]\u001b[0m Finished trial#0 resulted in value: 0.3157894736842105. Current best value is 0.3157894736842105 with parameters: {'alpha': 2.755203193311207e-05}.\u001b[0m\n",
      "\u001b[32m[I 2019-09-14 14:19:46,993]\u001b[0m Finished trial#1 resulted in value: 0.42105263157894735. Current best value is 0.3157894736842105 with parameters: {'alpha': 2.755203193311207e-05}.\u001b[0m\n",
      "\u001b[32m[I 2019-09-14 14:19:47,399]\u001b[0m Finished trial#2 resulted in value: 0.39473684210526316. Current best value is 0.3157894736842105 with parameters: {'alpha': 2.755203193311207e-05}.\u001b[0m\n",
      "\u001b[32m[I 2019-09-14 14:19:47,980]\u001b[0m Finished trial#3 resulted in value: 0.3157894736842105. Current best value is 0.3157894736842105 with parameters: {'alpha': 2.755203193311207e-05}.\u001b[0m\n",
      "\u001b[32m[I 2019-09-14 14:19:48,466]\u001b[0m Finished trial#4 resulted in value: 0.052631578947368474. Current best value is 0.052631578947368474 with parameters: {'alpha': 0.003675654726037151}.\u001b[0m\n",
      "\u001b[32m[I 2019-09-14 14:19:48,485]\u001b[0m Setting status of trial#5 as TrialState.PRUNED. \u001b[0m\n",
      "\u001b[32m[I 2019-09-14 14:19:48,547]\u001b[0m Setting status of trial#6 as TrialState.PRUNED. \u001b[0m\n",
      "\u001b[32m[I 2019-09-14 14:19:48,610]\u001b[0m Setting status of trial#7 as TrialState.PRUNED. \u001b[0m\n",
      "\u001b[32m[I 2019-09-14 14:19:48,714]\u001b[0m Setting status of trial#8 as TrialState.PRUNED. \u001b[0m\n",
      "\u001b[32m[I 2019-09-14 14:19:49,295]\u001b[0m Finished trial#9 resulted in value: 0.02631578947368418. Current best value is 0.02631578947368418 with parameters: {'alpha': 0.0028384089552154186}.\u001b[0m\n",
      "\u001b[32m[I 2019-09-14 14:19:49,994]\u001b[0m Finished trial#10 resulted in value: 0.02631578947368418. Current best value is 0.02631578947368418 with parameters: {'alpha': 0.0028384089552154186}.\u001b[0m\n",
      "\u001b[32m[I 2019-09-14 14:19:50,822]\u001b[0m Finished trial#11 resulted in value: 0.3157894736842105. Current best value is 0.02631578947368418 with parameters: {'alpha': 0.0028384089552154186}.\u001b[0m\n",
      "\u001b[32m[I 2019-09-14 14:19:50,842]\u001b[0m Setting status of trial#12 as TrialState.PRUNED. \u001b[0m\n",
      "\u001b[32m[I 2019-09-14 14:19:51,681]\u001b[0m Finished trial#13 resulted in value: 0.368421052631579. Current best value is 0.02631578947368418 with parameters: {'alpha': 0.0028384089552154186}.\u001b[0m\n",
      "\u001b[32m[I 2019-09-14 14:19:51,701]\u001b[0m Setting status of trial#14 as TrialState.PRUNED. \u001b[0m\n",
      "\u001b[32m[I 2019-09-14 14:19:51,843]\u001b[0m Setting status of trial#15 as TrialState.PRUNED. \u001b[0m\n",
      "\u001b[32m[I 2019-09-14 14:19:52,741]\u001b[0m Finished trial#16 resulted in value: 0.23684210526315785. Current best value is 0.02631578947368418 with parameters: {'alpha': 0.0028384089552154186}.\u001b[0m\n",
      "\u001b[32m[I 2019-09-14 14:19:53,634]\u001b[0m Finished trial#17 resulted in value: 0.23684210526315785. Current best value is 0.02631578947368418 with parameters: {'alpha': 0.0028384089552154186}.\u001b[0m\n",
      "\u001b[32m[I 2019-09-14 14:19:54,428]\u001b[0m Finished trial#18 resulted in value: 0.02631578947368418. Current best value is 0.02631578947368418 with parameters: {'alpha': 0.0028384089552154186}.\u001b[0m\n",
      "\u001b[32m[I 2019-09-14 14:19:54,453]\u001b[0m Setting status of trial#19 as TrialState.PRUNED. \u001b[0m\n"
     ]
    }
   ],
   "source": [
    "\n",
    "import sklearn.datasets\n",
    "import sklearn.linear_model\n",
    "import sklearn.model_selection\n",
    "\n",
    "import optuna\n",
    "\n",
    "def objective(trial):\n",
    "    iris = sklearn.datasets.load_iris()\n",
    "    classes = list(set(iris.target))\n",
    "    train_x, test_x, train_y, test_y = \\\n",
    "        sklearn.model_selection.train_test_split(iris.data, iris.target, test_size=0.25, random_state=0)\n",
    "\n",
    "    alpha = trial.suggest_loguniform('alpha', 1e-5, 1e-1)\n",
    "    clf = sklearn.linear_model.SGDClassifier(alpha=alpha)\n",
    "\n",
    "    for step in range(100):\n",
    "        clf.partial_fit(train_x, train_y, classes=classes)\n",
    "\n",
    "        # Report intermediate objective value.\n",
    "        intermediate_value = 1.0 - clf.score(test_x, test_y)\n",
    "        trial.report(intermediate_value, step)\n",
    "\n",
    "        # Handle pruning based on the intermediate value.\n",
    "        if trial.should_prune():\n",
    "            raise optuna.structs.TrialPruned()\n",
    "\n",
    "    return 1.0 - clf.score(test_x, test_y)\n",
    "\n",
    "# Set up the median stopping rule as the pruning condition.\n",
    "study = optuna.create_study(pruner=optuna.pruners.MedianPruner())\n",
    "study.optimize(objective, n_trials=20)"
   ]
  },
  {
   "cell_type": "code",
   "execution_count": 82,
   "metadata": {},
   "outputs": [
    {
     "ename": "NameError",
     "evalue": "name 'trial' is not defined",
     "output_type": "error",
     "traceback": [
      "\u001b[0;31m---------------------------------------------------------------------------\u001b[0m",
      "\u001b[0;31mNameError\u001b[0m                                 Traceback (most recent call last)",
      "\u001b[0;32m<ipython-input-82-1f4220dd724d>\u001b[0m in \u001b[0;36m<module>\u001b[0;34m\u001b[0m\n\u001b[0;32m----> 1\u001b[0;31m \u001b[0mpruning_callback\u001b[0m \u001b[0;34m=\u001b[0m \u001b[0moptuna\u001b[0m\u001b[0;34m.\u001b[0m\u001b[0mintegration\u001b[0m\u001b[0;34m.\u001b[0m\u001b[0mXGBoostPruningCallback\u001b[0m\u001b[0;34m(\u001b[0m\u001b[0mtrial\u001b[0m\u001b[0;34m,\u001b[0m \u001b[0;34m'validation-error'\u001b[0m\u001b[0;34m)\u001b[0m\u001b[0;34m\u001b[0m\u001b[0;34m\u001b[0m\u001b[0m\n\u001b[0m\u001b[1;32m      2\u001b[0m \u001b[0mbst\u001b[0m \u001b[0;34m=\u001b[0m \u001b[0mxgb\u001b[0m\u001b[0;34m.\u001b[0m\u001b[0mtrain\u001b[0m\u001b[0;34m(\u001b[0m\u001b[0mparam\u001b[0m\u001b[0;34m,\u001b[0m \u001b[0mdtrain\u001b[0m\u001b[0;34m,\u001b[0m \u001b[0mevals\u001b[0m\u001b[0;34m=\u001b[0m\u001b[0;34m[\u001b[0m\u001b[0;34m(\u001b[0m\u001b[0mdtest\u001b[0m\u001b[0;34m,\u001b[0m \u001b[0;34m'validation'\u001b[0m\u001b[0;34m)\u001b[0m\u001b[0;34m]\u001b[0m\u001b[0;34m,\u001b[0m \u001b[0mcallbacks\u001b[0m\u001b[0;34m=\u001b[0m\u001b[0;34m[\u001b[0m\u001b[0mpruning_callback\u001b[0m\u001b[0;34m]\u001b[0m\u001b[0;34m)\u001b[0m\u001b[0;34m\u001b[0m\u001b[0;34m\u001b[0m\u001b[0m\n",
      "\u001b[0;31mNameError\u001b[0m: name 'trial' is not defined"
     ]
    }
   ],
   "source": [
    "pruning_callback = optuna.integration.XGBoostPruningCallback(trial, 'validation-error')\n",
    "bst = xgb.train(param, dtrain, evals=[(dtest, 'validation')], callbacks=[pruning_callback])"
   ]
  },
  {
   "cell_type": "code",
   "execution_count": 173,
   "metadata": {},
   "outputs": [
    {
     "ename": "AttributeError",
     "evalue": "module 'backports.ssl' has no attribute 'SSLContext'",
     "output_type": "error",
     "traceback": [
      "\u001b[0;31m---------------------------------------------------------------------------\u001b[0m",
      "\u001b[0;31mAttributeError\u001b[0m                            Traceback (most recent call last)",
      "\u001b[0;32m<ipython-input-173-f2c3daf1babc>\u001b[0m in \u001b[0;36m<module>\u001b[0;34m\u001b[0m\n\u001b[1;32m      2\u001b[0m \u001b[0;32mfrom\u001b[0m \u001b[0mbackports\u001b[0m \u001b[0;32mimport\u001b[0m \u001b[0mssl\u001b[0m\u001b[0;34m\u001b[0m\u001b[0;34m\u001b[0m\u001b[0m\n\u001b[1;32m      3\u001b[0m \u001b[0;31m# context = ssl.SSLContext(ssl.PROTOCOL_TLSv1_2)\u001b[0m\u001b[0;34m\u001b[0m\u001b[0;34m\u001b[0m\u001b[0;34m\u001b[0m\u001b[0m\n\u001b[0;32m----> 4\u001b[0;31m \u001b[0mcontext\u001b[0m \u001b[0;34m=\u001b[0m \u001b[0mssl\u001b[0m\u001b[0;34m.\u001b[0m\u001b[0mSSLContext\u001b[0m\u001b[0;34m\u001b[0m\u001b[0;34m\u001b[0m\u001b[0m\n\u001b[0m\u001b[1;32m      5\u001b[0m \u001b[0mimap_obj\u001b[0m \u001b[0;34m=\u001b[0m \u001b[0mimapclient\u001b[0m\u001b[0;34m.\u001b[0m\u001b[0mIMAPClient\u001b[0m\u001b[0;34m(\u001b[0m\u001b[0;34m'imap.gmail.com'\u001b[0m\u001b[0;34m,\u001b[0m \u001b[0mssl\u001b[0m\u001b[0;34m=\u001b[0m\u001b[0;32mTrue\u001b[0m\u001b[0;34m,\u001b[0m \u001b[0mssl_context\u001b[0m\u001b[0;34m=\u001b[0m\u001b[0mcontext\u001b[0m\u001b[0;34m)\u001b[0m\u001b[0;34m\u001b[0m\u001b[0;34m\u001b[0m\u001b[0m\n\u001b[1;32m      6\u001b[0m \u001b[0mimap_obj\u001b[0m\u001b[0;34m.\u001b[0m\u001b[0mlogin\u001b[0m\u001b[0;34m(\u001b[0m\u001b[0;34m'oha4107@gmail.com'\u001b[0m\u001b[0;34m,\u001b[0m\u001b[0;34m'ytohaK3641'\u001b[0m\u001b[0;34m)\u001b[0m\u001b[0;34m\u001b[0m\u001b[0;34m\u001b[0m\u001b[0m\n",
      "\u001b[0;31mAttributeError\u001b[0m: module 'backports.ssl' has no attribute 'SSLContext'"
     ]
    }
   ],
   "source": [
    "import imapclient\n",
    "from backports import ssl\n",
    "# context = ssl.SSLContext(ssl.PROTOCOL_TLSv1_2)\n",
    "context = ssl.SSLContext\n",
    "imap_obj = imapclient.IMAPClient('imap.gmail.com', ssl=True, ssl_context=context)\n",
    "imap_obj.login('oha4107@gmail.com','ytohaK3641')"
   ]
  },
  {
   "cell_type": "code",
   "execution_count": 155,
   "metadata": {},
   "outputs": [
    {
     "ename": "NameError",
     "evalue": "name 'imap_obj' is not defined",
     "output_type": "error",
     "traceback": [
      "\u001b[0;31m---------------------------------------------------------------------------\u001b[0m",
      "\u001b[0;31mNameError\u001b[0m                                 Traceback (most recent call last)",
      "\u001b[0;32m<ipython-input-155-94c6706478b0>\u001b[0m in \u001b[0;36m<module>\u001b[0;34m\u001b[0m\n\u001b[1;32m      1\u001b[0m \u001b[0;32mimport\u001b[0m \u001b[0mpprint\u001b[0m\u001b[0;34m\u001b[0m\u001b[0;34m\u001b[0m\u001b[0m\n\u001b[0;32m----> 2\u001b[0;31m \u001b[0mpprint\u001b[0m\u001b[0;34m.\u001b[0m\u001b[0mpprint\u001b[0m\u001b[0;34m(\u001b[0m\u001b[0mimap_obj\u001b[0m\u001b[0;34m.\u001b[0m\u001b[0mlist_folders\u001b[0m\u001b[0;34m(\u001b[0m\u001b[0;34m)\u001b[0m\u001b[0;34m)\u001b[0m\u001b[0;34m\u001b[0m\u001b[0;34m\u001b[0m\u001b[0m\n\u001b[0m",
      "\u001b[0;31mNameError\u001b[0m: name 'imap_obj' is not defined"
     ]
    }
   ],
   "source": [
    "import pprint\n",
    "pprint.pprint(imap_obj.list_folders())"
   ]
  },
  {
   "cell_type": "code",
   "execution_count": 93,
   "metadata": {},
   "outputs": [
    {
     "name": "stdout",
     "output_type": "stream",
     "text": [
      "Requirement already up-to-date: pip in /Library/Frameworks/Python.framework/Versions/3.7/lib/python3.7/site-packages (19.2.3)\r\n"
     ]
    }
   ],
   "source": [
    "!pip install --upgrade pip"
   ]
  },
  {
   "cell_type": "code",
   "execution_count": 87,
   "metadata": {},
   "outputs": [
    {
     "name": "stdout",
     "output_type": "stream",
     "text": [
      "Requirement already satisfied: backports.ssl in /Library/Frameworks/Python.framework/Versions/3.7/lib/python3.7/site-packages (0.0.9)\r\n"
     ]
    }
   ],
   "source": [
    "!pip  install backports.ssl"
   ]
  },
  {
   "cell_type": "code",
   "execution_count": 94,
   "metadata": {},
   "outputs": [
    {
     "name": "stdout",
     "output_type": "stream",
     "text": [
      "Collecting selenium\n",
      "\u001b[?25l  Downloading https://files.pythonhosted.org/packages/80/d6/4294f0b4bce4de0abf13e17190289f9d0613b0a44e5dd6a7f5ca98459853/selenium-3.141.0-py2.py3-none-any.whl (904kB)\n",
      "\u001b[K     |████████████████████████████████| 911kB 3.7MB/s eta 0:00:01     |█████████████▍                  | 378kB 3.7MB/s eta 0:00:01     |████████████████████████████▋   | 808kB 3.7MB/s eta 0:00:01\n",
      "\u001b[?25hRequirement already satisfied: urllib3 in /Library/Frameworks/Python.framework/Versions/3.7/lib/python3.7/site-packages (from selenium) (1.25.3)\n",
      "Installing collected packages: selenium\n",
      "Successfully installed selenium-3.141.0\n",
      "Note: you may need to restart the kernel to use updated packages.\n"
     ]
    }
   ],
   "source": [
    "pip install selenium"
   ]
  },
  {
   "cell_type": "code",
   "execution_count": 95,
   "metadata": {},
   "outputs": [
    {
     "data": {
      "text/plain": [
       "'/Users/kojimayuuta/work'"
      ]
     },
     "execution_count": 95,
     "metadata": {},
     "output_type": "execute_result"
    }
   ],
   "source": [
    "pwd"
   ]
  },
  {
   "cell_type": "code",
   "execution_count": 98,
   "metadata": {},
   "outputs": [
    {
     "ename": "WebDriverException",
     "evalue": "Message: 'chromedriver2' executable needs to be in PATH. Please see https://sites.google.com/a/chromium.org/chromedriver/home\n",
     "output_type": "error",
     "traceback": [
      "\u001b[0;31m---------------------------------------------------------------------------\u001b[0m",
      "\u001b[0;31mFileNotFoundError\u001b[0m                         Traceback (most recent call last)",
      "\u001b[0;32m/Library/Frameworks/Python.framework/Versions/3.7/lib/python3.7/site-packages/selenium/webdriver/common/service.py\u001b[0m in \u001b[0;36mstart\u001b[0;34m(self)\u001b[0m\n\u001b[1;32m     75\u001b[0m                                             \u001b[0mstderr\u001b[0m\u001b[0;34m=\u001b[0m\u001b[0mself\u001b[0m\u001b[0;34m.\u001b[0m\u001b[0mlog_file\u001b[0m\u001b[0;34m,\u001b[0m\u001b[0;34m\u001b[0m\u001b[0;34m\u001b[0m\u001b[0m\n\u001b[0;32m---> 76\u001b[0;31m                                             stdin=PIPE)\n\u001b[0m\u001b[1;32m     77\u001b[0m         \u001b[0;32mexcept\u001b[0m \u001b[0mTypeError\u001b[0m\u001b[0;34m:\u001b[0m\u001b[0;34m\u001b[0m\u001b[0;34m\u001b[0m\u001b[0m\n",
      "\u001b[0;32m/Library/Frameworks/Python.framework/Versions/3.7/lib/python3.7/subprocess.py\u001b[0m in \u001b[0;36m__init__\u001b[0;34m(self, args, bufsize, executable, stdin, stdout, stderr, preexec_fn, close_fds, shell, cwd, env, universal_newlines, startupinfo, creationflags, restore_signals, start_new_session, pass_fds, encoding, errors, text)\u001b[0m\n\u001b[1;32m    774\u001b[0m                                 \u001b[0merrread\u001b[0m\u001b[0;34m,\u001b[0m \u001b[0merrwrite\u001b[0m\u001b[0;34m,\u001b[0m\u001b[0;34m\u001b[0m\u001b[0;34m\u001b[0m\u001b[0m\n\u001b[0;32m--> 775\u001b[0;31m                                 restore_signals, start_new_session)\n\u001b[0m\u001b[1;32m    776\u001b[0m         \u001b[0;32mexcept\u001b[0m\u001b[0;34m:\u001b[0m\u001b[0;34m\u001b[0m\u001b[0;34m\u001b[0m\u001b[0m\n",
      "\u001b[0;32m/Library/Frameworks/Python.framework/Versions/3.7/lib/python3.7/subprocess.py\u001b[0m in \u001b[0;36m_execute_child\u001b[0;34m(self, args, executable, preexec_fn, close_fds, pass_fds, cwd, env, startupinfo, creationflags, shell, p2cread, p2cwrite, c2pread, c2pwrite, errread, errwrite, restore_signals, start_new_session)\u001b[0m\n\u001b[1;32m   1521\u001b[0m                             \u001b[0merr_msg\u001b[0m \u001b[0;34m+=\u001b[0m \u001b[0;34m': '\u001b[0m \u001b[0;34m+\u001b[0m \u001b[0mrepr\u001b[0m\u001b[0;34m(\u001b[0m\u001b[0merr_filename\u001b[0m\u001b[0;34m)\u001b[0m\u001b[0;34m\u001b[0m\u001b[0;34m\u001b[0m\u001b[0m\n\u001b[0;32m-> 1522\u001b[0;31m                     \u001b[0;32mraise\u001b[0m \u001b[0mchild_exception_type\u001b[0m\u001b[0;34m(\u001b[0m\u001b[0merrno_num\u001b[0m\u001b[0;34m,\u001b[0m \u001b[0merr_msg\u001b[0m\u001b[0;34m,\u001b[0m \u001b[0merr_filename\u001b[0m\u001b[0;34m)\u001b[0m\u001b[0;34m\u001b[0m\u001b[0;34m\u001b[0m\u001b[0m\n\u001b[0m\u001b[1;32m   1523\u001b[0m                 \u001b[0;32mraise\u001b[0m \u001b[0mchild_exception_type\u001b[0m\u001b[0;34m(\u001b[0m\u001b[0merr_msg\u001b[0m\u001b[0;34m)\u001b[0m\u001b[0;34m\u001b[0m\u001b[0;34m\u001b[0m\u001b[0m\n",
      "\u001b[0;31mFileNotFoundError\u001b[0m: [Errno 2] No such file or directory: './driver/chromedriver2': './driver/chromedriver2'",
      "\nDuring handling of the above exception, another exception occurred:\n",
      "\u001b[0;31mWebDriverException\u001b[0m                        Traceback (most recent call last)",
      "\u001b[0;32m<ipython-input-98-fb5e4edf27aa>\u001b[0m in \u001b[0;36m<module>\u001b[0;34m\u001b[0m\n\u001b[1;32m      1\u001b[0m \u001b[0;32mimport\u001b[0m \u001b[0mtime\u001b[0m\u001b[0;34m\u001b[0m\u001b[0;34m\u001b[0m\u001b[0m\n\u001b[1;32m      2\u001b[0m \u001b[0;32mfrom\u001b[0m \u001b[0mselenium\u001b[0m \u001b[0;32mimport\u001b[0m \u001b[0mwebdriver\u001b[0m\u001b[0;34m\u001b[0m\u001b[0;34m\u001b[0m\u001b[0m\n\u001b[0;32m----> 3\u001b[0;31m \u001b[0mdriver\u001b[0m \u001b[0;34m=\u001b[0m \u001b[0mwebdriver\u001b[0m\u001b[0;34m.\u001b[0m\u001b[0mChrome\u001b[0m\u001b[0;34m(\u001b[0m\u001b[0;34m'./driver/chromedriver2'\u001b[0m\u001b[0;34m)\u001b[0m\u001b[0;34m\u001b[0m\u001b[0;34m\u001b[0m\u001b[0m\n\u001b[0m\u001b[1;32m      4\u001b[0m \u001b[0mtime\u001b[0m\u001b[0;34m.\u001b[0m\u001b[0msleep\u001b[0m\u001b[0;34m(\u001b[0m\u001b[0;36m5\u001b[0m\u001b[0;34m)\u001b[0m\u001b[0;34m\u001b[0m\u001b[0;34m\u001b[0m\u001b[0m\n\u001b[1;32m      5\u001b[0m \u001b[0mdriver\u001b[0m\u001b[0;34m.\u001b[0m\u001b[0mclose\u001b[0m\u001b[0;34m(\u001b[0m\u001b[0;34m)\u001b[0m\u001b[0;34m\u001b[0m\u001b[0;34m\u001b[0m\u001b[0m\n",
      "\u001b[0;32m/Library/Frameworks/Python.framework/Versions/3.7/lib/python3.7/site-packages/selenium/webdriver/chrome/webdriver.py\u001b[0m in \u001b[0;36m__init__\u001b[0;34m(self, executable_path, port, options, service_args, desired_capabilities, service_log_path, chrome_options, keep_alive)\u001b[0m\n\u001b[1;32m     71\u001b[0m             \u001b[0mservice_args\u001b[0m\u001b[0;34m=\u001b[0m\u001b[0mservice_args\u001b[0m\u001b[0;34m,\u001b[0m\u001b[0;34m\u001b[0m\u001b[0;34m\u001b[0m\u001b[0m\n\u001b[1;32m     72\u001b[0m             log_path=service_log_path)\n\u001b[0;32m---> 73\u001b[0;31m         \u001b[0mself\u001b[0m\u001b[0;34m.\u001b[0m\u001b[0mservice\u001b[0m\u001b[0;34m.\u001b[0m\u001b[0mstart\u001b[0m\u001b[0;34m(\u001b[0m\u001b[0;34m)\u001b[0m\u001b[0;34m\u001b[0m\u001b[0;34m\u001b[0m\u001b[0m\n\u001b[0m\u001b[1;32m     74\u001b[0m \u001b[0;34m\u001b[0m\u001b[0m\n\u001b[1;32m     75\u001b[0m         \u001b[0;32mtry\u001b[0m\u001b[0;34m:\u001b[0m\u001b[0;34m\u001b[0m\u001b[0;34m\u001b[0m\u001b[0m\n",
      "\u001b[0;32m/Library/Frameworks/Python.framework/Versions/3.7/lib/python3.7/site-packages/selenium/webdriver/common/service.py\u001b[0m in \u001b[0;36mstart\u001b[0;34m(self)\u001b[0m\n\u001b[1;32m     81\u001b[0m                 raise WebDriverException(\n\u001b[1;32m     82\u001b[0m                     \"'%s' executable needs to be in PATH. %s\" % (\n\u001b[0;32m---> 83\u001b[0;31m                         os.path.basename(self.path), self.start_error_message)\n\u001b[0m\u001b[1;32m     84\u001b[0m                 )\n\u001b[1;32m     85\u001b[0m             \u001b[0;32melif\u001b[0m \u001b[0merr\u001b[0m\u001b[0;34m.\u001b[0m\u001b[0merrno\u001b[0m \u001b[0;34m==\u001b[0m \u001b[0merrno\u001b[0m\u001b[0;34m.\u001b[0m\u001b[0mEACCES\u001b[0m\u001b[0;34m:\u001b[0m\u001b[0;34m\u001b[0m\u001b[0;34m\u001b[0m\u001b[0m\n",
      "\u001b[0;31mWebDriverException\u001b[0m: Message: 'chromedriver2' executable needs to be in PATH. Please see https://sites.google.com/a/chromium.org/chromedriver/home\n"
     ]
    }
   ],
   "source": [
    "import time\n",
    "from selenium import webdriver\n",
    "driver = webdriver.Chrome('./driver/chromedriver 2')\n",
    "time.sleep(5)\n",
    "driver.close()\n",
    "driver.quit()"
   ]
  },
  {
   "cell_type": "code",
   "execution_count": 132,
   "metadata": {},
   "outputs": [
    {
     "ename": "ImportError",
     "evalue": "cannot import name 'keys' from 'selenium.webdriver.common.keys' (/Library/Frameworks/Python.framework/Versions/3.7/lib/python3.7/site-packages/selenium/webdriver/common/keys.py)",
     "output_type": "error",
     "traceback": [
      "\u001b[0;31m---------------------------------------------------------------------------\u001b[0m",
      "\u001b[0;31mImportError\u001b[0m                               Traceback (most recent call last)",
      "\u001b[0;32m<ipython-input-132-1496137aee7e>\u001b[0m in \u001b[0;36m<module>\u001b[0;34m\u001b[0m\n\u001b[1;32m      1\u001b[0m \u001b[0;32mimport\u001b[0m \u001b[0mtime\u001b[0m\u001b[0;34m\u001b[0m\u001b[0;34m\u001b[0m\u001b[0m\n\u001b[1;32m      2\u001b[0m \u001b[0;32mfrom\u001b[0m \u001b[0mselenium\u001b[0m \u001b[0;32mimport\u001b[0m \u001b[0mwebdriver\u001b[0m\u001b[0;34m\u001b[0m\u001b[0;34m\u001b[0m\u001b[0m\n\u001b[0;32m----> 3\u001b[0;31m \u001b[0;32mfrom\u001b[0m \u001b[0mselenium\u001b[0m\u001b[0;34m.\u001b[0m\u001b[0mwebdriver\u001b[0m\u001b[0;34m.\u001b[0m\u001b[0mcommon\u001b[0m\u001b[0;34m.\u001b[0m\u001b[0mkeys\u001b[0m \u001b[0;32mimport\u001b[0m \u001b[0mkeys\u001b[0m\u001b[0;34m\u001b[0m\u001b[0;34m\u001b[0m\u001b[0m\n\u001b[0m\u001b[1;32m      4\u001b[0m \u001b[0;34m\u001b[0m\u001b[0m\n\u001b[1;32m      5\u001b[0m \u001b[0mdriver\u001b[0m \u001b[0;34m=\u001b[0m \u001b[0mwebdriver\u001b[0m\u001b[0;34m.\u001b[0m\u001b[0mChrome\u001b[0m\u001b[0;34m(\u001b[0m\u001b[0;34m'./driver/chromedriver 2'\u001b[0m\u001b[0;34m)\u001b[0m  \u001b[0;31m# Optional argument, if not specified will search path.\u001b[0m\u001b[0;34m\u001b[0m\u001b[0;34m\u001b[0m\u001b[0m\n",
      "\u001b[0;31mImportError\u001b[0m: cannot import name 'keys' from 'selenium.webdriver.common.keys' (/Library/Frameworks/Python.framework/Versions/3.7/lib/python3.7/site-packages/selenium/webdriver/common/keys.py)"
     ]
    }
   ],
   "source": [
    "import time\n",
    "from selenium import webdriver\n",
    "from selenium.webdriver.common.keys import keys\n",
    "\n",
    "driver = webdriver.Chrome('./driver/chromedriver 2')  # Optional argument, if not specified will search path.\n",
    "driver.get('https://www.thcot13.com/');\n",
    "time.sleep(5) # Let the user actually see something!\n",
    "search_box = driver.find_element_by_name('html')\n",
    "search_box.send_keys('Keys.END')\n",
    "# search_box.send_keys('Keys.HOME')\n",
    "# search_box.submit()\n",
    "time.sleep(5) # Let the user actually see something!\n",
    "driver.quit()"
   ]
  },
  {
   "cell_type": "code",
   "execution_count": 143,
   "metadata": {},
   "outputs": [],
   "source": []
  },
  {
   "cell_type": "code",
   "execution_count": 151,
   "metadata": {},
   "outputs": [
    {
     "ename": "SyntaxError",
     "evalue": "invalid syntax (<ipython-input-151-05a9bfe4f05e>, line 1)",
     "output_type": "error",
     "traceback": [
      "\u001b[0;36m  File \u001b[0;32m\"<ipython-input-151-05a9bfe4f05e>\"\u001b[0;36m, line \u001b[0;32m1\u001b[0m\n\u001b[0;31m    open screenshot.png\u001b[0m\n\u001b[0m                  ^\u001b[0m\n\u001b[0;31mSyntaxError\u001b[0m\u001b[0;31m:\u001b[0m invalid syntax\n"
     ]
    }
   ],
   "source": [
    "open screenshot.png"
   ]
  },
  {
   "cell_type": "code",
   "execution_count": 198,
   "metadata": {},
   "outputs": [
    {
     "ename": "ModuleNotFoundError",
     "evalue": "No module named 'pokemon.csv'; 'pokemon' is not a package",
     "output_type": "error",
     "traceback": [
      "\u001b[0;31m---------------------------------------------------------------------------\u001b[0m",
      "\u001b[0;31mModuleNotFoundError\u001b[0m                       Traceback (most recent call last)",
      "\u001b[0;32m<ipython-input-198-bf2d269008d8>\u001b[0m in \u001b[0;36m<module>\u001b[0;34m\u001b[0m\n\u001b[1;32m      2\u001b[0m \u001b[0;32mfrom\u001b[0m \u001b[0memail\u001b[0m\u001b[0;34m.\u001b[0m\u001b[0mmime\u001b[0m\u001b[0;34m.\u001b[0m\u001b[0mtext\u001b[0m \u001b[0;32mimport\u001b[0m \u001b[0mMIMEText\u001b[0m\u001b[0;34m\u001b[0m\u001b[0;34m\u001b[0m\u001b[0m\n\u001b[1;32m      3\u001b[0m \u001b[0;32mfrom\u001b[0m \u001b[0memail\u001b[0m\u001b[0;34m.\u001b[0m\u001b[0mheader\u001b[0m \u001b[0;32mimport\u001b[0m \u001b[0mHeader\u001b[0m\u001b[0;34m\u001b[0m\u001b[0;34m\u001b[0m\u001b[0m\n\u001b[0;32m----> 4\u001b[0;31m \u001b[0;32mimport\u001b[0m \u001b[0mpokemon\u001b[0m\u001b[0;34m.\u001b[0m\u001b[0mcsv\u001b[0m\u001b[0;34m\u001b[0m\u001b[0;34m\u001b[0m\u001b[0m\n\u001b[0m\u001b[1;32m      5\u001b[0m \u001b[0;34m\u001b[0m\u001b[0m\n\u001b[1;32m      6\u001b[0m \u001b[0mcharset\u001b[0m \u001b[0;34m=\u001b[0m \u001b[0;34m'iso-2022-jp'\u001b[0m\u001b[0;34m\u001b[0m\u001b[0;34m\u001b[0m\u001b[0m\n",
      "\u001b[0;31mModuleNotFoundError\u001b[0m: No module named 'pokemon.csv'; 'pokemon' is not a package"
     ]
    }
   ],
   "source": [
    "import smtplib\n",
    "from email.mime.text import MIMEText\n",
    "from email.header import Header\n",
    "\n",
    "\n",
    "charset = 'iso-2022-jp'\n",
    "\n",
    "msg = MIMEText('こんにちは','plain',charset)\n",
    "msg['Subject'] = Header('挨拶'.encode(charset),charset)\n",
    "\n",
    "smtp_obj = smtplib.SMTP('smtp.gmail.com',587)\n",
    "smtp_obj.ehlo()\n",
    "smtp_obj.starttls()\n",
    "smtp_obj.login('oha4107@gmail.com','ytohaK3641')\n",
    "smtp_obj.sendmail('oha4107@gmail.com','kojima2891@gmail.com',msg.as_string())\n",
    "smtp_obj.quit()\n",
    "    \n",
    "    "
   ]
  },
  {
   "cell_type": "code",
   "execution_count": null,
   "metadata": {},
   "outputs": [],
   "source": [
    "import requests\n",
    "from bs4 import BeautifulSoup\n",
    "\n",
    "\n",
    "def main():\n",
    "    url = 'https://pycon.jp/2017/ja/sponsors/'\n",
    "    res = requests.get(url)\n",
    "    content = res.content\n",
    "    soup = BeautifulSoup(content, 'html.parser')\n",
    "    sponsors = soup.find_all('div', class_='sponsor-content')\n",
    "    for sponsor in sponsors:\n",
    "        url = sponsor.h3.a['href']\n",
    "        name = sponsor.h4.text\n",
    "        print(name, url)\n",
    "\n",
    "\n",
    "if __name__ == '__main__':\n",
    "    main()"
   ]
  }
 ],
 "metadata": {
  "kernelspec": {
   "display_name": "Python 3",
   "language": "python",
   "name": "python3"
  },
  "language_info": {
   "codemirror_mode": {
    "name": "ipython",
    "version": 3
   },
   "file_extension": ".py",
   "mimetype": "text/x-python",
   "name": "python",
   "nbconvert_exporter": "python",
   "pygments_lexer": "ipython3",
   "version": "3.7.4"
  }
 },
 "nbformat": 4,
 "nbformat_minor": 2
}
