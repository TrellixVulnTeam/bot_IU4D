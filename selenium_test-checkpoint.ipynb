{
 "cells": [
  {
   "cell_type": "code",
   "execution_count": 64,
   "metadata": {},
   "outputs": [
    {
     "name": "stdout",
     "output_type": "stream",
     "text": [
      "Requirement already satisfied: selenium in /Library/Frameworks/Python.framework/Versions/3.7/lib/python3.7/site-packages (3.141.0)\r\n",
      "Requirement already satisfied: urllib3 in /Library/Frameworks/Python.framework/Versions/3.7/lib/python3.7/site-packages (from selenium) (1.25.3)\r\n"
     ]
    }
   ],
   "source": [
    "!pip install selenium"
   ]
  },
  {
   "cell_type": "code",
   "execution_count": 69,
   "metadata": {},
   "outputs": [
    {
     "name": "stdout",
     "output_type": "stream",
     "text": [
      "Collecting chromedriver\n",
      "\u001b[?25l  Downloading https://files.pythonhosted.org/packages/c8/5e/1daf3c71852f5b8536e30b2afa1e6442c454e91947678ac1a37daba2d7f5/chromedriver-2.24.1-py2.py3-none-any.whl (14.3MB)\n",
      "\u001b[K     |████████████████████████████████| 14.3MB 2.7MB/s eta 0:00:01\n",
      "\u001b[?25hInstalling collected packages: chromedriver\n",
      "Successfully installed chromedriver-2.24.1\n"
     ]
    }
   ],
   "source": [
    "!pip install chromedriver"
   ]
  },
  {
   "cell_type": "code",
   "execution_count": 95,
   "metadata": {},
   "outputs": [],
   "source": [
    "import time\n",
    "from selenium import webdriver\n",
    "driver = webdriver.Chrome('./driver/chromedriver 2')\n",
    "time.sleep(5)\n",
    "driver.close()\n",
    "driver.quit()"
   ]
  },
  {
   "cell_type": "code",
   "execution_count": 78,
   "metadata": {},
   "outputs": [
    {
     "name": "stdout",
     "output_type": "stream",
     "text": [
      "Name: chromedriver\n",
      "Version: 2.24.1\n",
      "Summary: Tool for downloading chromedriver\n",
      "Home-page: UNKNOWN\n",
      "Author: Maksym Shalenyi (enkidulan)\n",
      "Author-email: supamaxy@gmail.com\n",
      "License: apache2.0 (http://www.apache.org/licenses/LICENSE-2.0)\n",
      "Location: /Library/Frameworks/Python.framework/Versions/3.7/lib/python3.7/site-packages\n",
      "Requires: \n",
      "Required-by: \n",
      "Note: you may need to restart the kernel to use updated packages.\n"
     ]
    }
   ],
   "source": [
    "pip show chromedriver"
   ]
  },
  {
   "cell_type": "code",
   "execution_count": null,
   "metadata": {},
   "outputs": [],
   "source": []
  },
  {
   "cell_type": "markdown",
   "metadata": {},
   "source": [
    "バージョンに関するエラー出る場合はダウンロードしたchremederivrより古いバージョンをダウンロード   \n",
    "https://chromedriver.chromium.org/downloads  \n",
    "上記サイトのサンプル"
   ]
  },
  {
   "cell_type": "code",
   "execution_count": 131,
   "metadata": {},
   "outputs": [],
   "source": [
    "import time\n",
    "from selenium import webdriver\n",
    "\n",
    "driver = webdriver.Chrome('./driver/chromedriver 2')  # Optional argument, if not specified will search path.\n",
    "driver.get('http://www.google.com/');\n",
    "time.sleep(5) # Let the user actually see something!\n",
    "search_box = driver.find_element_by_name('q')\n",
    "search_box.send_keys('ChromeDriver')\n",
    "search_box.submit()\n",
    "time.sleep(5) # Let the user actually see something!\n",
    "driver.quit()"
   ]
  },
  {
   "cell_type": "code",
   "execution_count": 4,
   "metadata": {},
   "outputs": [],
   "source": [
    "#jsonファイルからキーワードを読み込ませ検索させてトップキーワードを読み込もう"
   ]
  },
  {
   "cell_type": "code",
   "execution_count": 117,
   "metadata": {},
   "outputs": [],
   "source": [
    "import json\n",
    " \n",
    "jsonString ={\"keyword\": {\"0\":\"yahoo\",\"1\": \"sony\",\"2\": \"soft bank\",\"3\": \"panasonic\",\"4\": \"toshiba\"}}\n",
    "\n",
    "with open(\"./keyword.json\", \"w\", encoding=\"utf-8\") as jsonfile:\n",
    "    json.dump(jsonString, jsonfile)"
   ]
  },
  {
   "cell_type": "markdown",
   "metadata": {},
   "source": [
    "### データが作られていることを確認する。"
   ]
  },
  {
   "cell_type": "code",
   "execution_count": 118,
   "metadata": {},
   "outputs": [
    {
     "data": {
      "text/plain": [
       "{'keyword': {'0': 'yahoo',\n",
       "  '1': 'sony',\n",
       "  '2': 'soft bank',\n",
       "  '3': 'panasonic',\n",
       "  '4': 'toshiba'}}"
      ]
     },
     "execution_count": 118,
     "metadata": {},
     "output_type": "execute_result"
    }
   ],
   "source": [
    "with open(\"./keyword.json\", \"r\", encoding=\"utf-8\") as jsonfile:\n",
    "    jsonDict = json.load(jsonfile)\n",
    "\n",
    "jsonDict"
   ]
  },
  {
   "cell_type": "code",
   "execution_count": 119,
   "metadata": {},
   "outputs": [
    {
     "name": "stdout",
     "output_type": "stream",
     "text": [
      "{'0': 'yahoo', '1': 'sony', '2': 'soft bank', '3': 'panasonic', '4': 'toshiba'}\n"
     ]
    }
   ],
   "source": [
    "print(jsonDict['keyword'])"
   ]
  },
  {
   "cell_type": "code",
   "execution_count": 105,
   "metadata": {},
   "outputs": [
    {
     "name": "stdout",
     "output_type": "stream",
     "text": [
      "0\n",
      "1\n",
      "2\n",
      "3\n",
      "4\n"
     ]
    }
   ],
   "source": [
    "for i in jsonDict['keyword']:\n",
    "    print(str(i))"
   ]
  },
  {
   "cell_type": "code",
   "execution_count": 120,
   "metadata": {},
   "outputs": [
    {
     "name": "stdout",
     "output_type": "stream",
     "text": [
      "yahoo\n",
      "sony\n",
      "soft bank\n",
      "panasonic\n",
      "toshiba\n"
     ]
    }
   ],
   "source": [
    "#これでjsonファイルを読み込みキーワードを打ち込みのが可能ですね。\n",
    "for i in jsonDict['keyword']:\n",
    "    print(jsonDict['keyword'][str(i)])"
   ]
  },
  {
   "cell_type": "markdown",
   "metadata": {},
   "source": [
    "#### セレニウムサンプルから\n",
    "https://chromedriver.chromium.org/getting-started"
   ]
  },
  {
   "cell_type": "code",
   "execution_count": null,
   "metadata": {},
   "outputs": [],
   "source": []
  },
  {
   "cell_type": "code",
   "execution_count": 121,
   "metadata": {},
   "outputs": [],
   "source": [
    "import time\n",
    "from selenium import webdriver\n",
    "\n",
    "driver = webdriver.Chrome('./driver/chromedriver 2')  # Optional argument, if not specified will search path.\n",
    "driver.get('http://www.google.com/');\n",
    "time.sleep(5) # Let the user actually see something!\n",
    "search_box = driver.find_element_by_name('q')\n",
    "search_box.send_keys('ChromeDriver')\n",
    "search_box.submit()\n",
    "time.sleep(5) # Let the user actually see something!\n",
    "driver.quit()"
   ]
  },
  {
   "cell_type": "markdown",
   "metadata": {},
   "source": [
    "#### キーワードを埋め込み"
   ]
  },
  {
   "cell_type": "code",
   "execution_count": 108,
   "metadata": {},
   "outputs": [],
   "source": [
    "import time\n",
    "from selenium import webdriver\n",
    "\n",
    "driver = webdriver.Chrome('./driver/chromedriver 2')  # Optional argument, if not specified will search path.\n",
    "\n",
    "#for文\n",
    "#↓埋め込む\n",
    "driver.get('http://www.google.com/');\n",
    "time.sleep(5) # Let the user actually see something!\n",
    "search_box = driver.find_element_by_name('q')\n",
    "search_box.send_keys('ChromeDriver')\n",
    "search_box.submit()\n",
    "time.sleep(5) # Let the user actually see something!\n",
    "#↑埋め込む\n",
    "\n",
    "driver.quit()"
   ]
  },
  {
   "cell_type": "code",
   "execution_count": 21,
   "metadata": {},
   "outputs": [],
   "source": [
    "#　キーワード埋め込みます"
   ]
  },
  {
   "cell_type": "code",
   "execution_count": 136,
   "metadata": {},
   "outputs": [],
   "source": [
    "import time\n",
    "from selenium import webdriver\n",
    "\n",
    "driver = webdriver.Chrome('./driver/chromedriver 2')  # Optional argument, if not specified will search path.\n",
    "\n",
    "with open(\"./keyword.json\", \"r\", encoding=\"utf-8\") as jsonfile:\n",
    "    jsonDict = json.load(jsonfile)\n",
    "\n",
    "for i in jsonDict['keyword']:\n",
    "    driver.get('http://www.google.com/');\n",
    "    time.sleep(2) \n",
    "    search_box = driver.find_element_by_name('q')\n",
    "    search_box.send_keys(jsonDict['keyword'][str(i)]) #キーワードを差し替える\n",
    "    search_box.submit()\n",
    "    time.sleep(2) \n",
    "\n",
    "driver.quit()"
   ]
  },
  {
   "cell_type": "code",
   "execution_count": 138,
   "metadata": {},
   "outputs": [],
   "source": [
    "# urlを抽出\n",
    "import time\n",
    "from selenium import webdriver\n",
    "\n",
    "driver = webdriver.Chrome('./driver/chromedriver 2')  # Optional argument, if not specified will search path.\n",
    "\n",
    "driver.get('https://www.google.com/search?q=sony&oq=sony&aqs=chrome..69i57j0l5.829j0j4&sourceid=chrome&ie=UTF-8')\n",
    "\n",
    "#ここで止める途中で止まるので色々試す"
   ]
  },
  {
   "cell_type": "markdown",
   "metadata": {},
   "source": [
    "<img src='01.png'>"
   ]
  },
  {
   "cell_type": "code",
   "execution_count": 37,
   "metadata": {},
   "outputs": [
    {
     "name": "stdout",
     "output_type": "stream",
     "text": [
      "https://www.sony.jp\n"
     ]
    }
   ],
   "source": [
    "#URLを取得する。\n",
    "url_set = driver.find_element_by_class_name('iUh30')\n",
    "print(url_set.text)"
   ]
  },
  {
   "cell_type": "code",
   "execution_count": 38,
   "metadata": {},
   "outputs": [
    {
     "name": "stdout",
     "output_type": "stream",
     "text": [
      "google検索１位サイト\n",
      "キーワード:yahoo\n",
      "URL:https://www.yahoo.co.jp\n",
      "キーワード:sony\n",
      "URL:https://www.sony.jp\n",
      "キーワード:soft bank\n",
      "URL:https://www.softbank.jp › mysoftbank\n",
      "キーワード:panasonic\n",
      "URL:https://panasonic.jp\n",
      "キーワード:toshiba\n",
      "URL:https://www.toshiba.co.jp\n"
     ]
    }
   ],
   "source": [
    "import time\n",
    "from selenium import webdriver\n",
    "\n",
    "driver = webdriver.Chrome('./driver/chromedriver')  # Optional argument, if not specified will search path.\n",
    "\n",
    "with open(\"./data/keyword.json\", \"r\", encoding=\"utf-8\") as jsonfile:\n",
    "    jsonDict = json.load(jsonfile)\n",
    "\n",
    "print('google検索１位サイト')    \n",
    "    \n",
    "for i in jsonDict['keyword']:\n",
    "    driver.get('http://www.google.com/');\n",
    "    time.sleep(2) \n",
    "    search_box = driver.find_element_by_name('q')\n",
    "    search_box.send_keys(jsonDict['keyword'][str(i)]) #キーワードを差し替える\n",
    "    search_box.submit()\n",
    "    time.sleep(2) \n",
    "    #URLを出力\n",
    "    print('キーワード:'+jsonDict['keyword'][str(i)] )\n",
    "    url_set = driver.find_element_by_class_name('iUh30')\n",
    "    print('URL:' + url_set.text )\n",
    "\n",
    "driver.quit()"
   ]
  },
  {
   "cell_type": "markdown",
   "metadata": {},
   "source": [
    "## クラス化していきます。\n",
    "#### とりあえずdef化"
   ]
  },
  {
   "cell_type": "code",
   "execution_count": 123,
   "metadata": {},
   "outputs": [
    {
     "name": "stdout",
     "output_type": "stream",
     "text": [
      "google検索１位サイト\n",
      "キーワード:yahoo\n",
      "URL:https://www.yahoo.co.jp\n",
      "キーワード:sony\n",
      "URL:https://www.sony.jp\n",
      "キーワード:soft bank\n",
      "URL:https://www.softbank.jp\n",
      "キーワード:panasonic\n",
      "URL:https://panasonic.jp\n",
      "キーワード:toshiba\n",
      "URL:https://www.toshiba.co.jp\n"
     ]
    }
   ],
   "source": [
    "import time\n",
    "from selenium import webdriver\n",
    "\n",
    "driver = webdriver.Chrome('./driver/chromedriver 2')  # Optional argument, if not specified will search path.\n",
    "\n",
    "\n",
    "def google_serch():\n",
    "    \n",
    "    with open(\"./keyword.json\", \"r\", encoding=\"utf-8\") as jsonfile:\n",
    "        jsonDict = json.load(jsonfile)    \n",
    "    \n",
    "    print('google検索１位サイト')    \n",
    "\n",
    "    for i in jsonDict['keyword']:\n",
    "        driver.get('http://www.google.com/');\n",
    "        time.sleep(3) \n",
    "        search_box = driver.find_element_by_name('q')\n",
    "        search_box.send_keys(jsonDict['keyword'][str(i)]) #キーワードを差し替える\n",
    "        search_box.submit()\n",
    "        time.sleep(3) \n",
    "        #URLを出力\n",
    "        print('キーワード:'+jsonDict['keyword'][str(i)] )\n",
    "        url_set = driver.find_element_by_class_name('iUh30')\n",
    "        print('URL:' + url_set.text )\n",
    "\n",
    "google_serch()        \n",
    "        \n",
    "driver.quit()"
   ]
  },
  {
   "cell_type": "markdown",
   "metadata": {},
   "source": [
    "#### 引数を設定してあげます。"
   ]
  },
  {
   "cell_type": "code",
   "execution_count": 124,
   "metadata": {},
   "outputs": [
    {
     "name": "stdout",
     "output_type": "stream",
     "text": [
      "google検索１位サイト\n",
      "キーワード:yahoo\n",
      "URL:https://www.yahoo.co.jp\n",
      "キーワード:sony\n",
      "URL:https://www.sony.jp\n",
      "キーワード:soft bank\n",
      "URL:https://www.softbank.jp\n",
      "キーワード:panasonic\n",
      "URL:https://panasonic.jp\n",
      "キーワード:toshiba\n",
      "URL:https://www.toshiba.co.jp\n"
     ]
    }
   ],
   "source": [
    "import time\n",
    "from selenium import webdriver\n",
    "\n",
    "driver = webdriver.Chrome('./driver/chromedriver 2')  # Optional argument, if not specified will search path.\n",
    "\n",
    "keyword_file = \"./keyword.json\"\n",
    "\n",
    "def google_serch(file):\n",
    "    \n",
    "    with open(file, \"r\", encoding=\"utf-8\") as jsonfile:\n",
    "        jsonDict = json.load(jsonfile)    \n",
    "    \n",
    "    print('google検索１位サイト')    \n",
    "\n",
    "    for i in jsonDict['keyword']:\n",
    "        driver.get('http://www.google.com/');\n",
    "        time.sleep(3) \n",
    "        search_box = driver.find_element_by_name('q')\n",
    "        search_box.send_keys(jsonDict['keyword'][str(i)]) #キーワードを差し替える\n",
    "        search_box.submit()\n",
    "        time.sleep(3) \n",
    "        #URLを出力\n",
    "        print('キーワード:'+jsonDict['keyword'][str(i)] )\n",
    "        url_set = driver.find_element_by_class_name('iUh30')\n",
    "        print('URL:' + url_set.text )\n",
    "\n",
    "google_serch(keyword_file)        \n",
    "        \n",
    "driver.quit()"
   ]
  },
  {
   "cell_type": "code",
   "execution_count": 126,
   "metadata": {},
   "outputs": [
    {
     "name": "stdout",
     "output_type": "stream",
     "text": [
      "google検索１位サイト\n",
      "キーワード:yahoo\n",
      "URL:https://www.yahoo.co.jp\n",
      "キーワード:sony\n",
      "URL:https://www.sony.jp\n",
      "キーワード:soft bank\n",
      "URL:https://www.softbank.jp\n",
      "キーワード:panasonic\n",
      "URL:https://panasonic.jp\n",
      "キーワード:toshiba\n",
      "URL:https://www.toshiba.co.jp\n"
     ]
    }
   ],
   "source": [
    "class serch:\n",
    "    def __init__(self,file):\n",
    "        self.keyword_file = file\n",
    "    \n",
    "    def google_serch(self):\n",
    "    \n",
    "        with open(self.keyword_file, \"r\", encoding=\"utf-8\") as jsonfile:\n",
    "            jsonDict = json.load(jsonfile)    \n",
    "\n",
    "        print('google検索１位サイト')    \n",
    "\n",
    "        for i in jsonDict['keyword']:\n",
    "            driver.get('http://www.google.com/');\n",
    "            time.sleep(3) \n",
    "            search_box = driver.find_element_by_name('q')\n",
    "            search_box.send_keys(jsonDict['keyword'][str(i)]) #キーワードを差し替える\n",
    "            search_box.submit()\n",
    "            time.sleep(3) \n",
    "            #URLを出力\n",
    "            print('キーワード:'+jsonDict['keyword'][str(i)] )\n",
    "            url_set = driver.find_element_by_class_name('iUh30')\n",
    "            print('URL:' + url_set.text )\n",
    "\n",
    "\n",
    "import time\n",
    "from selenium import webdriver\n",
    "\n",
    "driver = webdriver.Chrome('./driver/chromedriver 2')  # Optional argument, if not specified will search path.\n",
    "\n",
    "keyword_file = \"./keyword.json\"\n",
    "\n",
    "a = serch(keyword_file)\n",
    "a.google_serch()\n",
    "\n",
    "driver.quit()"
   ]
  },
  {
   "cell_type": "markdown",
   "metadata": {},
   "source": [
    "### ファイル分解"
   ]
  },
  {
   "cell_type": "code",
   "execution_count": 127,
   "metadata": {},
   "outputs": [
    {
     "name": "stdout",
     "output_type": "stream",
     "text": [
      "google検索１位サイト\n",
      "キーワード:yahoo\n",
      "URL:https://www.yahoo.co.jp\n",
      "キーワード:sony\n",
      "URL:https://www.sony.jp\n",
      "キーワード:soft bank\n",
      "URL:https://www.softbank.jp\n",
      "キーワード:panasonic\n",
      "URL:https://panasonic.jp\n",
      "キーワード:toshiba\n",
      "URL:https://www.toshiba.co.jp\n"
     ]
    }
   ],
   "source": [
    "# serch.py\n",
    "class serch:\n",
    "    def __init__(self,file):\n",
    "        self.keyword_file = file\n",
    "    \n",
    "    def google_serch(self):\n",
    "    \n",
    "        with open(self.keyword_file, \"r\", encoding=\"utf-8\") as jsonfile:\n",
    "            jsonDict = json.load(jsonfile)    \n",
    "\n",
    "        print('google検索１位サイト')    \n",
    "\n",
    "        for i in jsonDict['keyword']:\n",
    "            driver.get('http://www.google.com/');\n",
    "            time.sleep(3) \n",
    "            search_box = driver.find_element_by_name('q')\n",
    "            search_box.send_keys(jsonDict['keyword'][str(i)]) #キーワードを差し替える\n",
    "            search_box.submit()\n",
    "            time.sleep(3) \n",
    "            #URLを出力\n",
    "            print('キーワード:'+jsonDict['keyword'][str(i)] )\n",
    "            url_set = driver.find_element_by_class_name('iUh30')\n",
    "            print('URL:' + url_set.text )\n",
    "\n",
    "            \n",
    "#main.py\n",
    "# import serch <本来ならこいつを有効化する！！\n",
    "import time\n",
    "from selenium import webdriver\n",
    "\n",
    "driver = webdriver.Chrome('./driver/chromedriver 2')  # Optional argument, if not specified will search path.\n",
    "\n",
    "keyword_file = \"./keyword.json\"\n",
    "\n",
    "a = serch(keyword_file)\n",
    "a.google_serch()\n",
    "\n",
    "driver.quit()"
   ]
  },
  {
   "cell_type": "code",
   "execution_count": 128,
   "metadata": {},
   "outputs": [
    {
     "name": "stdout",
     "output_type": "stream",
     "text": [
      "google検索１位サイト\n",
      "キーワード:yahoo\n",
      "URL:https://www.yahoo.co.jp\n",
      "キーワード:sony\n",
      "URL:https://www.sony.jp\n",
      "キーワード:soft bank\n",
      "URL:https://www.softbank.jp\n",
      "キーワード:panasonic\n",
      "URL:https://panasonic.jp\n",
      "キーワード:toshiba\n",
      "URL:https://www.toshiba.co.jp\n"
     ]
    }
   ],
   "source": [
    "\n",
    "class serch:\n",
    "    def __init__(self,file):\n",
    "        self.keyword_file = file\n",
    "    \n",
    "    def google_serch(self):\n",
    "    \n",
    "        with open(self.keyword_file, \"r\", encoding=\"utf-8\") as jsonfile:\n",
    "            jsonDict = json.load(jsonfile)    \n",
    "\n",
    "        print('google検索１位サイト')    \n",
    "\n",
    "        for i in jsonDict['keyword']:\n",
    "            driver.get('http://www.google.com/');\n",
    "            time.sleep(3) \n",
    "            search_box = driver.find_element_by_name('q')\n",
    "            search_box.send_keys(jsonDict['keyword'][str(i)]) #キーワードを差し替える\n",
    "            search_box.submit()\n",
    "            time.sleep(3) \n",
    "            #URLを出力\n",
    "            print('キーワード:'+jsonDict['keyword'][str(i)] )\n",
    "            url_set = driver.find_element_by_class_name('iUh30')\n",
    "            print('URL:' + url_set.text )\n",
    "\n",
    "\n",
    "import time\n",
    "from selenium import webdriver\n",
    "\n",
    "driver = webdriver.Chrome('./driver/chromedriver 2')  # Optional argument, if not specified will search path.\n",
    "\n",
    "keyword_file = \"./keyword.json\"\n",
    "keyword_file2 = \"./keyword2.json\"\n",
    "\n",
    "a = serch(keyword_file)\n",
    "\n",
    "\n",
    "a.google_serch()\n",
    "\n",
    "driver.quit()"
   ]
  },
  {
   "cell_type": "code",
   "execution_count": null,
   "metadata": {},
   "outputs": [],
   "source": []
  }
 ],
 "metadata": {
  "kernelspec": {
   "display_name": "Python 3",
   "language": "python",
   "name": "python3"
  },
  "language_info": {
   "codemirror_mode": {
    "name": "ipython",
    "version": 3
   },
   "file_extension": ".py",
   "mimetype": "text/x-python",
   "name": "python",
   "nbconvert_exporter": "python",
   "pygments_lexer": "ipython3",
   "version": "3.7.4"
  }
 },
 "nbformat": 4,
 "nbformat_minor": 2
}
