{
 "cells": [
  {
   "cell_type": "code",
   "execution_count": 253,
   "metadata": {},
   "outputs": [
    {
     "name": "stdout",
     "output_type": "stream",
     "text": [
      "Requirement already satisfied: bs4 in /Library/Frameworks/Python.framework/Versions/3.7/lib/python3.7/site-packages (0.0.1)\n",
      "Requirement already satisfied: beautifulsoup4 in /Library/Frameworks/Python.framework/Versions/3.7/lib/python3.7/site-packages (from bs4) (4.8.0)\n",
      "Requirement already satisfied: soupsieve>=1.2 in /Library/Frameworks/Python.framework/Versions/3.7/lib/python3.7/site-packages (from beautifulsoup4->bs4) (1.9.3)\n",
      "Note: you may need to restart the kernel to use updated packages.\n"
     ]
    }
   ],
   "source": [
    "pip install bs4"
   ]
  },
  {
   "cell_type": "code",
   "execution_count": 21,
   "metadata": {},
   "outputs": [
    {
     "name": "stdout",
     "output_type": "stream",
     "text": [
      "Requirement already up-to-date: pip in /Library/Frameworks/Python.framework/Versions/3.7/lib/python3.7/site-packages (19.2.3)\n",
      "Note: you may need to restart the kernel to use updated packages.\n"
     ]
    }
   ],
   "source": [
    "pip install --upgrade pip"
   ]
  },
  {
   "cell_type": "code",
   "execution_count": 83,
   "metadata": {},
   "outputs": [
    {
     "name": "stdout",
     "output_type": "stream",
     "text": [
      "株式会社SQUEEZE https://squeeze-inc.co.jp/\n",
      "株式会社MonotaRO https://recruit.monotaro.com/?utm_medium=outside_flier&utm_source=pycon.jp&utm_campaign=PyConJP2017\n",
      "LINE株式会社 https://engineering.linecorp.com/\n",
      "Retty株式会社 http://corp.retty.me/\n",
      "iRidge, Inc. https://iridge.jp/\n",
      "株式会社いい生活 http://www.e-seikatsu.info/recruit/graduate/\n",
      "ミラクル・リナックス株式会社 https://www.miraclelinux.com/\n",
      "株式会社スカラコミュニケーションズ http://scala-com.jp/index.html\n",
      "株式会社ビザスク https://visasq.co.jp/\n",
      "株式会社ヌーラボ https://nulab-inc.com/ja/\n",
      "TIS株式会社 https://www.tis.co.jp/\n",
      "PAY.JP https://pay.jp/\n",
      "カラフル・ボード株式会社 http://www.colorful-board.com/\n",
      "株式会社ビープラウド http://www.beproud.jp/\n",
      "株式会社リーディング・エッジ社 http://www.leadinge.co.jp/\n",
      "株式会社Nexedi https://www.nexedi.co.jp/\n",
      "タロスカイ https://tarosky.co.jp/\n",
      "ワイアーチ https://yarch.jp/\n",
      "株式会社日本システム技研 https://jsl.co.jp/\n",
      "SideCI https://sideci.com/\n",
      "日本経済新聞社 http://s.nikkei.com/saiyo\n",
      "Elastic https://www.elastic.co/\n",
      "株式会社データミックス http://datamix.co.jp/\n",
      "XICA http://xica.net/\n",
      "株式会社 ARISE analytics http://ariseanalytics.com/\n",
      "株式会社ミクシィ・リクルートメント http://www.find-job.net/\n",
      "株式会社JX通信社 http://jxpress.net/\n",
      "シルバーエッグ・テクノロジー株式会社 http://www.silveregg.co.jp/\n",
      "Gandi.net https://www.gandi.net/\n",
      "GROOVE X株式会社 http://www.groove-x.com/\n",
      "HDE, Inc. http://www.hde.co.jp/\n",
      "株式会社DataSign https://datasign.jp/\n",
      "Credit Engine, Inc. http://www.creditengine.jp/\n",
      "富士通クラウドテクノロジーズ株式会社 http://fjct.fujitsu.com/\n",
      "Supership株式会社 https://supership.jp/\n",
      "株式会社ブレインパッド http://www.brainpad.co.jp/\n",
      "株式会社CMSコミュニケーションズ https://www.cmscom.jp/\n",
      "株式会社slideship https://slideship.com/\n",
      "日本マイクロソフト株式会社 https://www.microsoft.com/ja-jp/\n",
      "スフィアリンクス株式会社 http://spherelinks.co.jp/\n",
      "gihyo.jp http://gihyo.jp/\n",
      "Think IT https://thinkit.co.jp/\n",
      "株式会社オライリー・ジャパン https://www.oreilly.co.jp/\n",
      "Togetter https://togetter.com/\n",
      "CodeZine http://codezine.jp/\n",
      "エンジニアtype http://type.jp/et/feature/\n"
     ]
    }
   ],
   "source": [
    "import requests\n",
    "from bs4 import BeautifulSoup\n",
    "\n",
    "\n",
    "def main():\n",
    "    url = 'https://pycon.jp/2017/ja/sponsors/'\n",
    "    res = requests.get(url)\n",
    "    content = res.content\n",
    "    soup = BeautifulSoup(content, 'html.parser')\n",
    "    sponsors = soup.find_all('div', class_='sponsor-content')\n",
    "    for sponsor in sponsors:\n",
    "        url = sponsor.h3.a['href']\n",
    "        name = sponsor.h4.text\n",
    "        print(name, url)\n",
    "\n",
    "\n",
    "if __name__ == '__main__':\n",
    "    main()"
   ]
  },
  {
   "cell_type": "code",
   "execution_count": 84,
   "metadata": {
    "scrolled": true
   },
   "outputs": [
    {
     "name": "stdout",
     "output_type": "stream",
     "text": [
      "明日も残暑厳しく 熱中症警戒 https://news.yahoo.co.jp/pickup/6333639\n",
      "放火1カ月 京アニが国つなぐ https://news.yahoo.co.jp/pickup/6333637\n",
      "ストーカー容疑 元女芸人逮捕 https://news.yahoo.co.jp/pickup/6333643\n",
      "香港巡りムーラン女優に批判 https://news.yahoo.co.jp/pickup/6333629\n",
      "調理が簡単 冷凍野菜の輸入増 https://news.yahoo.co.jp/pickup/6333599\n",
      "甲子園速報 関東一vs.鶴岡東 https://news.yahoo.co.jp/pickup/6333632\n",
      "智弁和 星稜奥川に熱中症錠剤 https://news.yahoo.co.jp/pickup/6333634\n",
      "スリム内間 妻子実家に帰った https://news.yahoo.co.jp/pickup/6333633\n"
     ]
    }
   ],
   "source": [
    "import requests\n",
    "from bs4 import BeautifulSoup\n",
    "\n",
    "\n",
    "def main():\n",
    "    url = 'https://www.yahoo.co.jp/'\n",
    "    res = requests.get(url)\n",
    "    content = res.content\n",
    "    soup = BeautifulSoup(content, 'html.parser')\n",
    "    sponsors = soup.find_all(\"a\")\n",
    "    for sponsor in sponsors:\n",
    "        if 'pickup' in sponsor['href']:\n",
    "            print(sponsor.text,sponsor['href'])\n",
    "\n",
    "if __name__ == '__main__':\n",
    "    main()"
   ]
  },
  {
   "cell_type": "code",
   "execution_count": 22,
   "metadata": {},
   "outputs": [
    {
     "name": "stdout",
     "output_type": "stream",
     "text": [
      "今井 達也\n",
      "いまい たつや\n",
      "渡邉 勇太朗\n",
      "わたなべ ゆうたろう\n",
      "高橋 光成\n",
      "たかはし こうな\n",
      "増田 達至\n",
      "ますだ たつし\n",
      "大石 達也\n",
      "おおいし たつや\n",
      "松本 航\n",
      "まつもと わたる\n",
      "多和田 真三郎\n",
      "たわた しんさぶろう\n",
      "齊藤 大将\n",
      "さいとう ひろまさ\n",
      "高木 勇人\n",
      "たかぎ はやと\n",
      "十亀 剣\n",
      "とがめ けん\n",
      "中塚 駿太\n",
      "なかつか しゅんた\n",
      "野田 昇吾\n",
      "のだ しょうご\n",
      "平井 克典\n",
      "ひらい かつのり\n",
      "粟津 凱士\n",
      "あわつ かいと\n",
      "内海 哲也\n",
      "うつみ てつや\n",
      "森脇 亮介\n",
      "もりわき りょうすけ\n",
      "小石 博孝\n",
      "こいし ひろたか\n",
      "榎田 大樹\n",
      "えのきだ だいき\n",
      "佐野 泰雄\n",
      "さの やすお\n",
      "伊藤 翔\n",
      "いとう しょう\n",
      "田村 伊知郎\n",
      "たむら いちろう\n",
      "相内 誠\n",
      "あいうち まこと\n",
      "カイル・マーティン\n",
      "かいる まーてぃん\n",
      "小川 龍也\n",
      "おがわ りゅうや\n",
      "本田 圭佑\n",
      "ほんだ けいすけ\n",
      "武隈 祥太\n",
      "たけくま しょうた\n",
      "廖 任磊\n",
      "りゃお れんれい\n",
      "ザック・ニール\n",
      "ざっく にーる\n",
      "國場 翼\n",
      "こくば つばさ\n",
      "南川 忠亮\n",
      "みなみかわ ただすけ\n",
      "平良 海馬\n",
      "たいら かいま\n",
      "松本 直晃\n",
      "まつもと なおあき\n",
      "藤田 航生\n",
      "ふじた こうき\n",
      "デュアンテ・ヒース\n",
      "でゅあんて ひーす\n",
      "郭 俊麟\n",
      "くぉ じゅんりん\n",
      "高橋 朋己\n",
      "たかはし ともみ\n",
      "與座 海人\n",
      "よざ かいと\n",
      "東野 葵\n",
      "とうの あおい\n",
      "大窪 士夢\n",
      "おおくぼ じゆ\n",
      "森 友哉\n",
      "もり ともや\n",
      "岡田 雅利\n",
      "おかだ まさとし\n",
      "牧野 翔矢\n",
      "まきの しょうや\n",
      "駒月 仁人\n",
      "こまづき ひとと\n",
      "中田 祥多\n",
      "なかた しょうた\n",
      "齊藤 誠人\n",
      "さいとう まさと\n",
      "中熊 大智\n",
      "なかぐま だいち\n",
      "星 孝典\n",
      "ほし たかのり\n",
      "水口 大地\n",
      "みずぐち だいち\n",
      "山野辺 翔\n",
      "やまのべ かける\n",
      "外崎 修汰\n",
      "とのさき しゅうた\n",
      "源田 壮亮\n",
      "げんだ そうすけ\n",
      "佐藤 龍世\n",
      "さとう りゅうせい\n",
      "永江 恭平\n",
      "ながえ きょうへい\n",
      "山川 穂高\n",
      "やまかわ ほたか\n",
      "呉 念庭\n",
      "うー ねんてぃん\n",
      "西川 愛也\n",
      "にしかわ まなや\n",
      "山田 遥楓\n",
      "やまだ はるか\n",
      "金子 一輝\n",
      "かねこ かずき\n",
      "中村 剛也\n",
      "なかむら たけや\n",
      "綱島 龍生\n",
      "つなしま りゅうせい\n",
      "エルネスト・メヒア\n",
      "えるねすと めひあ\n",
      "栗山 巧\n",
      "くりやま たくみ\n",
      "金子 侑司\n",
      "かねこ ゆうじ\n",
      "木村 文紀\n",
      "きむら ふみかず\n",
      "鈴木 将平\n",
      "すずき しょうへい\n",
      "愛斗\n",
      "あいと\n",
      "秋山 翔吾\n",
      "あきやま しょうご\n",
      "熊代 聖人\n",
      "くましろ まさと\n",
      "斉藤 彰吾\n",
      "さいとう しょうご\n",
      "戸川 大輔\n",
      "とがわ だいすけ\n",
      "川越 誠司\n",
      "かわごえ せいじ\n",
      "高木 渉\n",
      "たかぎ わたる\n",
      "辻 発彦\n",
      "つじ はつひこ\n",
      "馬場 敏史\n",
      "ばば としふみ\n",
      "小野 和義\n",
      "おの かずよし\n",
      "西口 文也\n",
      "にしぐち ふみや\n",
      "秋元 宏作\n",
      "あきもと こうさく\n",
      "阿部 真宏\n",
      "あべ まさひろ\n",
      "赤田 将吾\n",
      "あかだ しょうご\n",
      "黒田 哲史\n",
      "くろだ さとし\n",
      "佐藤 友亮\n",
      "さとう ともあき\n",
      "松井 稼頭央\n",
      "まつい かずお\n",
      "高木 浩之\n",
      "たかぎ ひろゆき\n",
      "杉山 賢人\n",
      "すぎやま けんと\n",
      "許 銘傑\n",
      "しゅう みんちぇ\n",
      "野田 浩輔\n",
      "のだ こうすけ\n",
      "平尾 博司\n",
      "ひらお ひろし\n",
      "嶋 重宣\n",
      "しま しげのぶ\n",
      "清川 栄治\n",
      "きよかわ えいじ\n"
     ]
    }
   ],
   "source": [
    "# 西武ライオンズの選手名を取得する\n",
    "import requests\n",
    "from bs4 import BeautifulSoup\n",
    "\n",
    "\n",
    "def main():\n",
    "    url = 'https://www.seibulions.jp/team/player/list/'\n",
    "    res = requests.get(url)\n",
    "    content = res.content\n",
    "    soup = BeautifulSoup(content, 'html.parser')\n",
    "#     名前まで取得する場合\n",
    "    sponsors = soup.find_all(\"p\",attrs={\"class\":\"pl_name\"})\n",
    "    for sponsor in sponsors:\n",
    "        print(sponsor.text)\n",
    "\n",
    "if __name__ == '__main__':\n",
    "    main()"
   ]
  },
  {
   "cell_type": "code",
   "execution_count": 23,
   "metadata": {},
   "outputs": [
    {
     "name": "stdout",
     "output_type": "stream",
     "text": [
      "今井 達也\n",
      "渡邉 勇太朗\n",
      "高橋 光成\n",
      "増田 達至\n",
      "大石 達也\n",
      "松本 航\n",
      "多和田 真三郎\n",
      "齊藤 大将\n",
      "高木 勇人\n",
      "十亀 剣\n",
      "中塚 駿太\n",
      "野田 昇吾\n",
      "平井 克典\n",
      "粟津 凱士\n",
      "内海 哲也\n",
      "森脇 亮介\n",
      "小石 博孝\n",
      "榎田 大樹\n",
      "佐野 泰雄\n",
      "伊藤 翔\n",
      "田村 伊知郎\n",
      "相内 誠\n",
      "カイル・マーティン\n",
      "小川 龍也\n",
      "本田 圭佑\n",
      "武隈 祥太\n",
      "廖 任磊\n",
      "ザック・ニール\n",
      "國場 翼\n",
      "南川 忠亮\n",
      "平良 海馬\n",
      "松本 直晃\n",
      "藤田 航生\n",
      "デュアンテ・ヒース\n",
      "郭 俊麟\n",
      "高橋 朋己\n",
      "與座 海人\n",
      "東野 葵\n",
      "大窪 士夢\n",
      "森 友哉\n",
      "岡田 雅利\n",
      "牧野 翔矢\n",
      "駒月 仁人\n",
      "中田 祥多\n",
      "齊藤 誠人\n",
      "中熊 大智\n",
      "星 孝典\n",
      "水口 大地\n",
      "山野辺 翔\n",
      "外崎 修汰\n",
      "源田 壮亮\n",
      "佐藤 龍世\n",
      "永江 恭平\n",
      "山川 穂高\n",
      "呉 念庭\n",
      "西川 愛也\n",
      "山田 遥楓\n",
      "金子 一輝\n",
      "中村 剛也\n",
      "綱島 龍生\n",
      "エルネスト・メヒア\n",
      "栗山 巧\n",
      "金子 侑司\n",
      "木村 文紀\n",
      "鈴木 将平\n",
      "愛斗\n",
      "秋山 翔吾\n",
      "熊代 聖人\n",
      "斉藤 彰吾\n",
      "戸川 大輔\n",
      "川越 誠司\n",
      "高木 渉\n",
      "辻 発彦\n",
      "馬場 敏史\n",
      "小野 和義\n",
      "西口 文也\n",
      "秋元 宏作\n",
      "阿部 真宏\n",
      "赤田 将吾\n",
      "黒田 哲史\n",
      "佐藤 友亮\n",
      "松井 稼頭央\n",
      "高木 浩之\n",
      "杉山 賢人\n",
      "許 銘傑\n",
      "野田 浩輔\n",
      "平尾 博司\n",
      "嶋 重宣\n",
      "清川 栄治\n"
     ]
    }
   ],
   "source": [
    "# 西武ライオンズの選手名（漢字名だけ）を取得する\n",
    "import requests\n",
    "from bs4 import BeautifulSoup\n",
    "\n",
    "\n",
    "def main():\n",
    "    url = 'https://www.seibulions.jp/team/player/list/'\n",
    "    res = requests.get(url)\n",
    "    content = res.content\n",
    "    soup = BeautifulSoup(content, 'html.parser')\n",
    "#     名前まで取得する場合\n",
    "    sponsors = soup.find_all(\"p\",attrs={\"class\":\"pl_name\"})\n",
    "    for sponsor in sponsors:\n",
    "        print(str(sponsor)[19:].split(\"<br/>\")[0])\n",
    "        #str(sponsor)[19:] で文字列の１９（配列は０からなので厳密には２０）から文字列を使う\n",
    "        # .split(\"<br/>\")[0] は中にあるbrタグでスプリット（配列に分ける）して最初のゼロを使う\n",
    "if __name__ == '__main__':\n",
    "    main()"
   ]
  },
  {
   "cell_type": "code",
   "execution_count": 102,
   "metadata": {},
   "outputs": [
    {
     "ename": "ModuleNotFoundError",
     "evalue": "No module named 'pandas'",
     "output_type": "error",
     "traceback": [
      "\u001b[0;31m---------------------------------------------------------------------------\u001b[0m",
      "\u001b[0;31mModuleNotFoundError\u001b[0m                       Traceback (most recent call last)",
      "\u001b[0;32m<ipython-input-102-7c6c143cecbb>\u001b[0m in \u001b[0;36m<module>\u001b[0;34m\u001b[0m\n\u001b[1;32m      1\u001b[0m \u001b[0;32mimport\u001b[0m \u001b[0mrequests\u001b[0m\u001b[0;34m\u001b[0m\u001b[0;34m\u001b[0m\u001b[0m\n\u001b[1;32m      2\u001b[0m \u001b[0;32mfrom\u001b[0m \u001b[0mbs4\u001b[0m \u001b[0;32mimport\u001b[0m \u001b[0mBeautifulSoup\u001b[0m\u001b[0;34m\u001b[0m\u001b[0;34m\u001b[0m\u001b[0m\n\u001b[0;32m----> 3\u001b[0;31m \u001b[0;32mimport\u001b[0m \u001b[0mpandas\u001b[0m \u001b[0;32mas\u001b[0m \u001b[0mpd\u001b[0m\u001b[0;34m\u001b[0m\u001b[0;34m\u001b[0m\u001b[0m\n\u001b[0m\u001b[1;32m      4\u001b[0m \u001b[0;34m\u001b[0m\u001b[0m\n\u001b[1;32m      5\u001b[0m \u001b[0;34m\u001b[0m\u001b[0m\n",
      "\u001b[0;31mModuleNotFoundError\u001b[0m: No module named 'pandas'"
     ]
    }
   ],
   "source": [
    "import requests\n",
    "from bs4 import BeautifulSoup\n",
    "import pandas as pd\n",
    "\n",
    "\n",
    "def main():\n",
    "    url = 'https://www.seibulions.jp/team/player/list/'\n",
    "    res = requests.get(url)\n",
    "    content = res.content\n",
    "    soup = BeautifulSoup(content, 'html.parser')\n",
    "    sponsors = soup.find_all(\"a\", attrs={\"class\":\"link\",\"href\":\"/link\"})\n",
    "#     for sponsor in sponsors[]: #本来はフルのfor文をやりたいがデータが取れすぎるので\n",
    "    for sponsor in sponsors[:3]:\n",
    "        each_data =  sponsor.find(\"a\")\n",
    "        if 'player' in each_data['href']:\n",
    "            url2 = 'https://www.seibulions.jp' + each_data['href']\n",
    "            res2 = pd.read_html(url2, flavor='lxml')\n",
    "            print(res2[0])\n",
    "                            \n",
    "        \n",
    "if __name__ == '__main__':\n",
    "    main()"
   ]
  },
  {
   "cell_type": "code",
   "execution_count": 25,
   "metadata": {},
   "outputs": [
    {
     "name": "stdout",
     "output_type": "stream",
     "text": [
      "『ポケットモンスター ソード・シールド』NEWS #03 ポケモンバトル篇 https://www.youtube.com/embed/1zs-1uFKO-s\n"
     ]
    }
   ],
   "source": [
    "# import requests\n",
    "# from bs4 import BeautifulSoup\n",
    "\n",
    "\n",
    "# def main():\n",
    "#     url = 'https://www.pokemon.co.jp/ex/sword_shield/news/'\n",
    "#     res = requests.get(url)\n",
    "#     content = res.content\n",
    "#     soup = BeautifulSoup(content, 'html.parser')\n",
    "#     sponsors = soup.find_all('div', class_='c-panel-list')\n",
    "#     for sponsor in sponsors:\n",
    "#         url = sponsor.h3.a['href']\n",
    "#         name = sponsor.a.text\n",
    "#         print(name, url)\n",
    "\n",
    "\n",
    "# if __name__ == '__main__':\n",
    "#     main()"
   ]
  },
  {
   "cell_type": "code",
   "execution_count": 28,
   "metadata": {},
   "outputs": [
    {
     "name": "stdout",
     "output_type": "stream",
     "text": [
      "もっと見る /info/cat_game/?news_recommend_category=more\n",
      "\n",
      "\n",
      "\n",
      "\n",
      "全国のポケモンセンターで、新しいポケモンの情報をゲットして、プレゼントを手に入れよう！\n",
      "2019.08.23\n",
      "\n",
      "\n",
      "\n",
      " /info/2019/08/190823_p01.html?news_recommend_category=post\n",
      "\n",
      "\n",
      "\n",
      "\n",
      "世界中のポケモントレーナーとバトルができる、「バトルスタジアム」などの新情報を公開！\n",
      "2019.08.16\n",
      "\n",
      "\n",
      "\n",
      " /ex/sword_shield/?news_recommend_category=post\n",
      "\n",
      "\n",
      "\n",
      "\n",
      "『ポケットモンスター ソード・シールド』体験会、「ひみつのアーリー・トライアル」に参加しよう！\n",
      "2019.08.16\n",
      "\n",
      "\n",
      "\n",
      " /info/2019/08/190816_gm01.html?news_recommend_category=post\n",
      "\n",
      "\n",
      "\n",
      "\n",
      "『ポッ拳 DX』で、報酬付き「公式グループマッチ」第44回の開催が決定！\n",
      "2019.08.16\n",
      "\n",
      "\n",
      "\n",
      " /info/2019/08/190816_gm02.html?news_recommend_category=post\n",
      "\n",
      "\n",
      "\n",
      "\n",
      "新たなリージョンフォームのポケモンが公開！ ガラルのすがたでのみ進化するポケモンも！\n",
      "2019.08.07\n",
      "\n",
      "\n",
      "\n",
      " /redirect/index.php/20247/?news_recommend_category=post\n",
      "\n",
      "\n",
      "\n",
      "\n",
      "お腹が空くとフォルムチェンジする新ポケモン、モルペコを紹介！\n",
      "2019.08.07\n",
      "\n",
      "\n",
      "\n",
      " /ex/sword_shield/pokemon/190807_01.html?news_recommend_category=post\n",
      "\n",
      "\n",
      "\n",
      "\n",
      "チャンピオンへの挑戦権を争うライバル、ビートとマリィを紹介！\n",
      "2019.08.07\n",
      "\n",
      "\n",
      "\n",
      " /ex/sword_shield/character/?news_recommend_category=post\n",
      "\n",
      "\n",
      "\n",
      "\n",
      "ライバルのマリィを応援するやっかい者たち、エール団を紹介！\n",
      "2019.08.07\n",
      "\n",
      "\n",
      "\n",
      " /ex/sword_shield/character/190807_03.html?news_recommend_category=post\n",
      "ゲームの最新ニュースをもっと見る /info/cat_game/?news_recommend_category=more\n",
      "\n",
      "\n",
      "\n",
      "\n",
      "『ポケットモンスター ソード・シールド』、最新情報公開中！\n",
      "\n",
      "\n",
      "\n",
      " /ex/sword_shield/?news_recommend=attention\n",
      "\n",
      "\n",
      "\n",
      "\n",
      "「ミュウツーの逆襲 EVOLUTION」、大ヒット上映中！\n",
      "\n",
      "\n",
      "\n",
      " /redirect/index.php/438/?news_recommend=attention\n",
      "\n",
      "\n",
      "\n",
      "\n",
      "ポケモンの新しいアプリゲーム、事前登録受け付け中！\n",
      "\n",
      "\n",
      "\n",
      " /redirect/index.php/20198/?news_recommend=attention\n",
      "\n",
      "\n",
      "\n",
      "\n",
      "ゲームを予約して、入会しよう！\n",
      "\n",
      "\n",
      "\n",
      " /redirect/index.php/20208/?news_recommend=attention\n",
      "\n",
      "\n",
      "\n",
      "\n",
      "ポケモンセンター早期購入特典を手に入れよう！\n",
      "\n",
      "\n",
      "\n",
      " /info/2019/07/190708_p01.html?news_recommend=attention\n",
      "\n",
      "\n",
      "\n",
      "\n",
      "新しい強化拡張パック、好評発売中！\n",
      "\n",
      "\n",
      "\n",
      " /redirect/index.php/6420/?news_recommend=attention\n"
     ]
    }
   ],
   "source": [
    "# import requests\n",
    "# from bs4 import BeautifulSoup\n",
    "\n",
    "\n",
    "# def main():\n",
    "#     url = 'https://www.pokemon.co.jp/info/2019/08/190816_gm01.html?i002=news'\n",
    "#     res = requests.get(url)\n",
    "#     content = res.content\n",
    "#     soup = BeautifulSoup(content, 'html.parser')\n",
    "#     sponsors = soup.find_all(\"a\")\n",
    "#     for sponsor in sponsors:\n",
    "#         if 'news' in sponsor['href']:\n",
    "#             print(sponsor.text,sponsor['href'])\n",
    "\n",
    "# if __name__ == '__main__':\n",
    "#     main()"
   ]
  },
  {
   "cell_type": "code",
   "execution_count": 27,
   "metadata": {},
   "outputs": [
    {
     "name": "stdout",
     "output_type": "stream",
     "text": [
      "全国のポケモンセンターで、新しいポケモンの情報をゲットして、プレゼントを手に入れよう！\n",
      "2019.08.23\n",
      "世界中のポケモントレーナーとバトルができる、「バトルスタジアム」などの新情報を公開！\n",
      "2019.08.16\n",
      "『ポケットモンスター ソード・シールド』体験会、「ひみつのアーリー・トライアル」に参加しよう！\n",
      "2019.08.16\n",
      "『ポッ拳 DX』で、報酬付き「公式グループマッチ」第44回の開催が決定！\n",
      "2019.08.16\n",
      "新たなリージョンフォームのポケモンが公開！ ガラルのすがたでのみ進化するポケモンも！\n",
      "2019.08.07\n",
      "お腹が空くとフォルムチェンジする新ポケモン、モルペコを紹介！\n",
      "2019.08.07\n",
      "チャンピオンへの挑戦権を争うライバル、ビートとマリィを紹介！\n",
      "2019.08.07\n",
      "ライバルのマリィを応援するやっかい者たち、エール団を紹介！\n",
      "2019.08.07\n"
     ]
    }
   ],
   "source": [
    "# import requests\n",
    "# from bs4 import BeautifulSoup\n",
    "\n",
    "\n",
    "# def main():\n",
    "#     url = 'https://www.pokemon.co.jp/info/2019/08/190816_gm01.html?i002=news'\n",
    "#     res = requests.get(url)\n",
    "#     content = res.content\n",
    "#     soup = BeautifulSoup(content, 'html.parser')\n",
    "# #     名前まで取得する場合\n",
    "#     sponsors = soup.find_all(\"div\",attrs={\"class\":\"p-pagepnl__i-tbl\"})\n",
    "#     for sponsor in sponsors:\n",
    "\n",
    "        \n",
    "        \n",
    "#         print(sponsor.text.strip())\n",
    "        \n",
    "\n",
    "# if __name__ == '__main__':\n",
    "#     main()"
   ]
  },
  {
   "cell_type": "code",
   "execution_count": 26,
   "metadata": {},
   "outputs": [
    {
     "name": "stdout",
     "output_type": "stream",
     "text": [
      "\n",
      "\n",
      "\n",
      "全国のポケモンセンターで、新しいポケモンの情報をゲットして、プレゼントを手に入れよう！\n",
      "2019.08.23\n",
      "\n",
      "\n",
      "\n",
      "\n",
      "\n",
      "世界中のポケモントレーナーとバトルができる、「バトルスタジアム」などの新情報を公開！\n",
      "2019.08.16\n",
      "\n",
      "\n",
      "\n",
      "\n",
      "\n",
      "『ポケットモンスター ソード・シールド』体験会、「ひみつのアーリー・トライアル」に参加しよう！\n",
      "2019.08.16\n",
      "\n",
      "\n",
      "\n",
      "\n",
      "\n",
      "『ポッ拳 DX』で、報酬付き「公式グループマッチ」第44回の開催が決定！\n",
      "2019.08.16\n",
      "\n",
      "\n",
      "\n",
      "\n",
      "\n",
      "新たなリージョンフォームのポケモンが公開！ ガラルのすがたでのみ進化するポケモンも！\n",
      "2019.08.07\n",
      "\n",
      "\n",
      "\n",
      "\n",
      "\n",
      "お腹が空くとフォルムチェンジする新ポケモン、モルペコを紹介！\n",
      "2019.08.07\n",
      "\n",
      "\n",
      "\n",
      "\n",
      "\n",
      "チャンピオンへの挑戦権を争うライバル、ビートとマリィを紹介！\n",
      "2019.08.07\n",
      "\n",
      "\n",
      "\n",
      "\n",
      "\n",
      "ライバルのマリィを応援するやっかい者たち、エール団を紹介！\n",
      "2019.08.07\n",
      "\n",
      "\n"
     ]
    }
   ],
   "source": [
    "# import requests\n",
    "# from bs4 import BeautifulSoup\n",
    "\n",
    "\n",
    "# def main():\n",
    "#     url = 'https://www.pokemon.co.jp/info/2019/08/190816_gm01.html?i002=news'\n",
    "#     res = requests.get(url)\n",
    "#     content = res.content\n",
    "#     soup = BeautifulSoup(content, 'html.parser')\n",
    "# #     名前まで取得する場合\n",
    "#     sponsors = soup.find_all(\"div\",attrs={\"class\":\"p-pagepnl__i-tbl\"})\n",
    "#     for sponsor in sponsors:\n",
    "#         print(sponsor.text)\n",
    "\n",
    "       \n",
    "            \n",
    "        \n",
    "        \n",
    "      \n",
    "        \n",
    "\n",
    "# if __name__ == '__main__':\n",
    "#     main()"
   ]
  },
  {
   "cell_type": "raw",
   "metadata": {},
   "source": []
  },
  {
   "cell_type": "code",
   "execution_count": 9,
   "metadata": {},
   "outputs": [
    {
     "name": "stdout",
     "output_type": "stream",
     "text": [
      "Untitled.ipynb \u001b[34menv\u001b[m\u001b[m            hello.py       output3.csv    req.txt\r\n",
      "\u001b[34m__pycache__\u001b[m\u001b[m    events.py      output.csv     output3.tvs    scraping.ipynb\r\n",
      "calc.py        fizzbuzz.py    output2.csv    pycamp.txt     test.csv\r\n"
     ]
    }
   ],
   "source": [
    "!ls\n",
    "        "
   ]
  },
  {
   "cell_type": "code",
   "execution_count": 8,
   "metadata": {},
   "outputs": [
    {
     "name": "stdout",
     "output_type": "stream",
     "text": [
      "Row #1 [\"'4/5/2015 13:34'\", \"'Apples'\", \"'73' \"]\n",
      "Row #2 [\"'4/5/2015 3:41'\", \"'Cherries'\", \"'85' \"]\n",
      "Row #3 [\"'4/6/2015 12:46'\", \"'Pears'\", \"'14' \"]\n",
      "Row #4 [\"'4/8/2015 8:59'\", \"'Oranges'\", \"'52' \"]\n",
      "Row #5 [\"'4/10/2015 2:07'\", \"'Apples'\", \"'152' \"]\n",
      "Row #6 [\"'4/10/2015 18:10'\", \"'Bananas'\", \"'23'\"]\n",
      "Row #7 [\"'4/10/2015 2:40'\", \"'Strawberries'\", \"'98'\"]\n"
     ]
    }
   ],
   "source": [
    "import csv\n",
    "example_file = open('test.csv')\n",
    "example_reader = csv.reader(example_file)\n",
    "for row in example_reader:\n",
    "    print('Row #' + str(example_reader.line_num)+ ' ' + str(row))"
   ]
  },
  {
   "cell_type": "code",
   "execution_count": 487,
   "metadata": {},
   "outputs": [
    {
     "data": {
      "text/plain": [
       "21"
      ]
     },
     "execution_count": 487,
     "metadata": {},
     "output_type": "execute_result"
    }
   ],
   "source": [
    "import csv\n",
    "output_file = open('output.csv','w',newline='')\n",
    "output_writer = csv.writer(output_file)\n",
    "output_writer.writerow(['spam','eggs','bacon','ham'])\n"
   ]
  },
  {
   "cell_type": "code",
   "execution_count": 491,
   "metadata": {},
   "outputs": [
    {
     "data": {
      "text/plain": [
       "32"
      ]
     },
     "execution_count": 491,
     "metadata": {},
     "output_type": "execute_result"
    }
   ],
   "source": [
    "output_writer.writerow(['Hello, world!','eggs','bacon','ham'])"
   ]
  },
  {
   "cell_type": "code",
   "execution_count": 492,
   "metadata": {},
   "outputs": [
    {
     "data": {
      "text/plain": [
       "16"
      ]
     },
     "execution_count": 492,
     "metadata": {},
     "output_type": "execute_result"
    }
   ],
   "source": [
    "output_writer.writerow([1,2,3.141592,4])"
   ]
  },
  {
   "cell_type": "code",
   "execution_count": 493,
   "metadata": {},
   "outputs": [],
   "source": [
    "output_file.close()"
   ]
  },
  {
   "cell_type": "code",
   "execution_count": 23,
   "metadata": {},
   "outputs": [
    {
     "data": {
      "text/plain": [
       "21"
      ]
     },
     "execution_count": 23,
     "metadata": {},
     "output_type": "execute_result"
    }
   ],
   "source": [
    "import csv\n",
    "output_file = open('output2.csv','w',newline='')\n",
    "output_writer = csv.writer(output_file)\n",
    "output_writer.writerow(['spam','eggs','bacon','ham'])"
   ]
  },
  {
   "cell_type": "code",
   "execution_count": 12,
   "metadata": {},
   "outputs": [
    {
     "data": {
      "text/plain": [
       "31"
      ]
     },
     "execution_count": 12,
     "metadata": {},
     "output_type": "execute_result"
    }
   ],
   "source": [
    "output_writer.writerow(['Hello,world','eggs','bacon','kann'])"
   ]
  },
  {
   "cell_type": "code",
   "execution_count": 13,
   "metadata": {},
   "outputs": [
    {
     "data": {
      "text/plain": [
       "17"
      ]
     },
     "execution_count": 13,
     "metadata": {},
     "output_type": "execute_result"
    }
   ],
   "source": [
    "output_writer.writerow([1,2,3.141592,88])"
   ]
  },
  {
   "cell_type": "code",
   "execution_count": 15,
   "metadata": {},
   "outputs": [],
   "source": [
    "output_file.close()"
   ]
  },
  {
   "cell_type": "code",
   "execution_count": 19,
   "metadata": {},
   "outputs": [
    {
     "data": {
      "text/plain": [
       "5"
      ]
     },
     "execution_count": 19,
     "metadata": {},
     "output_type": "execute_result"
    }
   ],
   "source": [
    "import csv\n",
    "output_file = open('output2.csv','w',newline='')\n",
    "output_writer = csv.writer(output_file)\n",
    "output_writer.writerow(['mac'])"
   ]
  },
  {
   "cell_type": "code",
   "execution_count": 20,
   "metadata": {},
   "outputs": [],
   "source": [
    "output_file.close()"
   ]
  },
  {
   "cell_type": "code",
   "execution_count": 21,
   "metadata": {},
   "outputs": [
    {
     "data": {
      "text/plain": [
       "9"
      ]
     },
     "execution_count": 21,
     "metadata": {},
     "output_type": "execute_result"
    }
   ],
   "source": [
    "import csv\n",
    "output_file = open('output2.csv','w',newline='')\n",
    "output_writer = csv.writer(output_file)\n",
    "output_writer.writerow(['mac','mos'])"
   ]
  },
  {
   "cell_type": "code",
   "execution_count": 22,
   "metadata": {},
   "outputs": [],
   "source": [
    "output_file.close()"
   ]
  },
  {
   "cell_type": "code",
   "execution_count": 24,
   "metadata": {},
   "outputs": [
    {
     "data": {
      "text/plain": [
       "21"
      ]
     },
     "execution_count": 24,
     "metadata": {},
     "output_type": "execute_result"
    }
   ],
   "source": [
    "import csv\n",
    "output_file = open('output2.csv','w',newline='')\n",
    "output_writer = csv.writer(output_file)\n",
    "output_writer.writerow(['spam','eggs','bacon','ham'])"
   ]
  },
  {
   "cell_type": "code",
   "execution_count": 25,
   "metadata": {},
   "outputs": [
    {
     "data": {
      "text/plain": [
       "31"
      ]
     },
     "execution_count": 25,
     "metadata": {},
     "output_type": "execute_result"
    }
   ],
   "source": [
    "output_writer.writerow(['Hello,world','eggs','bacon','kann'])"
   ]
  },
  {
   "cell_type": "code",
   "execution_count": 26,
   "metadata": {},
   "outputs": [
    {
     "data": {
      "text/plain": [
       "17"
      ]
     },
     "execution_count": 26,
     "metadata": {},
     "output_type": "execute_result"
    }
   ],
   "source": [
    "output_writer.writerow([1,2,3.141592,88])"
   ]
  },
  {
   "cell_type": "code",
   "execution_count": 27,
   "metadata": {},
   "outputs": [
    {
     "data": {
      "text/plain": [
       "9"
      ]
     },
     "execution_count": 27,
     "metadata": {},
     "output_type": "execute_result"
    }
   ],
   "source": [
    "output_writer.writerow(['mac','mos'])"
   ]
  },
  {
   "cell_type": "code",
   "execution_count": 28,
   "metadata": {},
   "outputs": [],
   "source": [
    "output_file.close()"
   ]
  },
  {
   "cell_type": "markdown",
   "metadata": {},
   "source": [
    " "
   ]
  },
  {
   "cell_type": "code",
   "execution_count": null,
   "metadata": {},
   "outputs": [],
   "source": []
  },
  {
   "cell_type": "code",
   "execution_count": 31,
   "metadata": {},
   "outputs": [
    {
     "data": {
      "text/plain": [
       "23"
      ]
     },
     "execution_count": 31,
     "metadata": {},
     "output_type": "execute_result"
    }
   ],
   "source": [
    "import csv\n",
    "csv_file = open('output3.csv','w',newline='')\n",
    "csv_writer = csv.writer(csv_file,delimiter ='\\t',lineterminator='\\n\\n')\n",
    "csv_writer.writerow(['apples','oranges','grapes'])"
   ]
  },
  {
   "cell_type": "code",
   "execution_count": 32,
   "metadata": {},
   "outputs": [
    {
     "data": {
      "text/plain": [
       "16"
      ]
     },
     "execution_count": 32,
     "metadata": {},
     "output_type": "execute_result"
    }
   ],
   "source": [
    "csv_writer.writerow(['eggs','bacon','ham'])"
   ]
  },
  {
   "cell_type": "code",
   "execution_count": 34,
   "metadata": {},
   "outputs": [
    {
     "data": {
      "text/plain": [
       "26"
      ]
     },
     "execution_count": 34,
     "metadata": {},
     "output_type": "execute_result"
    }
   ],
   "source": [
    "csv_writer.writerow(['spam','spam','spam','spam','spam'])"
   ]
  },
  {
   "cell_type": "code",
   "execution_count": 36,
   "metadata": {},
   "outputs": [],
   "source": [
    "csv_file.close()"
   ]
  },
  {
   "cell_type": "code",
   "execution_count": 37,
   "metadata": {},
   "outputs": [
    {
     "data": {
      "text/plain": [
       "23"
      ]
     },
     "execution_count": 37,
     "metadata": {},
     "output_type": "execute_result"
    }
   ],
   "source": [
    "import csv\n",
    "csv_file = open('output3.tvs','w',newline='')\n",
    "csv_writer = csv.writer(csv_file,delimiter ='\\t',lineterminator='\\n\\n')\n",
    "csv_writer.writerow(['apples','oranges','grapes'])"
   ]
  },
  {
   "cell_type": "code",
   "execution_count": 38,
   "metadata": {},
   "outputs": [
    {
     "data": {
      "text/plain": [
       "16"
      ]
     },
     "execution_count": 38,
     "metadata": {},
     "output_type": "execute_result"
    }
   ],
   "source": [
    "csv_writer.writerow(['eggs','bacon','ham'])"
   ]
  },
  {
   "cell_type": "code",
   "execution_count": null,
   "metadata": {},
   "outputs": [],
   "source": [
    "csv_writer.writerow(['spam','spam','spam','spam','spam'])"
   ]
  },
  {
   "cell_type": "code",
   "execution_count": 39,
   "metadata": {},
   "outputs": [],
   "source": [
    "csv_file.close()"
   ]
  },
  {
   "cell_type": "code",
   "execution_count": 1,
   "metadata": {},
   "outputs": [
    {
     "data": {
      "text/plain": [
       "21"
      ]
     },
     "execution_count": 1,
     "metadata": {},
     "output_type": "execute_result"
    }
   ],
   "source": [
    "import csv\n",
    "output_file = open('output2.csv','w',newline='')\n",
    "output_writer = csv.writer(output_file)\n",
    "output_writer.writerow(['spam','eggs','bacon','ham'])"
   ]
  },
  {
   "cell_type": "code",
   "execution_count": 2,
   "metadata": {},
   "outputs": [
    {
     "data": {
      "text/plain": [
       "30"
      ]
     },
     "execution_count": 2,
     "metadata": {},
     "output_type": "execute_result"
    }
   ],
   "source": [
    "output_writer.writerow(['Hello,world','eggs','bacon','ham'])"
   ]
  },
  {
   "cell_type": "code",
   "execution_count": 3,
   "metadata": {},
   "outputs": [
    {
     "data": {
      "text/plain": [
       "18"
      ]
     },
     "execution_count": 3,
     "metadata": {},
     "output_type": "execute_result"
    }
   ],
   "source": [
    "output_writer.writerow([1,2,3.141592,4,5])"
   ]
  },
  {
   "cell_type": "code",
   "execution_count": 4,
   "metadata": {},
   "outputs": [],
   "source": [
    "output_file.close()"
   ]
  },
  {
   "cell_type": "code",
   "execution_count": 4,
   "metadata": {},
   "outputs": [
    {
     "name": "stdout",
     "output_type": "stream",
     "text": [
      "Row #1 ['spam', 'eggs', 'bacon', 'ham']\n",
      "Row #2 ['Hello,world', 'eggs', 'bacon', 'ham']\n",
      "Row #3 ['1', '2', '3.141592', '4', '5']\n"
     ]
    }
   ],
   "source": [
    "import csv\n",
    "example_file = open('output2.csv')\n",
    "example_reader = csv.reader(example_file)\n",
    "for row in example_reader:\n",
    "    print('Row #' + str(example_reader.line_num)+ ' ' + str(row))\n"
   ]
  },
  {
   "cell_type": "code",
   "execution_count": 630,
   "metadata": {
    "scrolled": false
   },
   "outputs": [],
   "source": [
    "import requests\n",
    "from bs4 import BeautifulSoup \n",
    "import csv\n",
    "\n",
    "def main():\n",
    "    \n",
    "    url = 'https://www.pokemon.co.jp/info/2019/08/190816_gm01.html?i002=news'\n",
    "    res = requests.get(url)\n",
    "    content = res.content\n",
    "    soup = BeautifulSoup(content, 'html.parser')\n",
    "   \n",
    "    sponsors = soup.find_all(\"div\",attrs={\"class\":\"p-pagepnl__i-tbl\"})\n",
    "\n",
    "    \n",
    "    \n",
    "    csvlist = []\n",
    "    \n",
    "    for sponsor in sponsors:\n",
    "        \n",
    "        news_txt = sponsor.text.strip()\n",
    "        csvlist.append([news_txt])\n",
    "    \n",
    "\n",
    "    main()    \n",
    "\n",
    "\n",
    "    \n",
    "    \n",
    "def write():\n",
    "\n",
    "    \n",
    "\n",
    "\n",
    "   \n",
    "    output_file = open('pokemon.csv','w')\n",
    "    output_writer = csv.writer(output_file)\n",
    "    output_writer.writerows(csvlist)\n",
    "    output_file.close()\n",
    "    \n",
    "if __name__ == '__main__':\n",
    "    write()\n",
    "\n",
    "      \n",
    "        \n",
    "\n",
    "\n"
   ]
  },
  {
   "cell_type": "code",
   "execution_count": 610,
   "metadata": {},
   "outputs": [],
   "source": [
    "# import csv\n",
    "# example_file = open('pokemon.csv')\n",
    "# example_reader = csv.reader(example_file)\n",
    "# for row in example_reader:\n",
    "#     print('Row #' + str(example_reader.line_num)+ ' ' + str(row))\n"
   ]
  },
  {
   "cell_type": "code",
   "execution_count": 1,
   "metadata": {},
   "outputs": [
    {
     "ename": "NameError",
     "evalue": "name 'false' is not defined",
     "output_type": "error",
     "traceback": [
      "\u001b[0;31m---------------------------------------------------------------------------\u001b[0m",
      "\u001b[0;31mNameError\u001b[0m                                 Traceback (most recent call last)",
      "\u001b[0;32m<ipython-input-1-99fe7100722d>\u001b[0m in \u001b[0;36mwrite\u001b[0;34m(csvlist)\u001b[0m\n\u001b[1;32m     33\u001b[0m         \u001b[0moutput_file\u001b[0m\u001b[0;34m.\u001b[0m\u001b[0mclose\u001b[0m\u001b[0;34m(\u001b[0m\u001b[0;34m)\u001b[0m\u001b[0;34m\u001b[0m\u001b[0;34m\u001b[0m\u001b[0m\n\u001b[0;32m---> 34\u001b[0;31m         \u001b[0;32mreturn\u001b[0m \u001b[0mtrue\u001b[0m\u001b[0;34m\u001b[0m\u001b[0;34m\u001b[0m\u001b[0m\n\u001b[0m\u001b[1;32m     35\u001b[0m     \u001b[0;32mexcept\u001b[0m\u001b[0;34m:\u001b[0m\u001b[0;34m\u001b[0m\u001b[0;34m\u001b[0m\u001b[0m\n",
      "\u001b[0;31mNameError\u001b[0m: name 'true' is not defined",
      "\nDuring handling of the above exception, another exception occurred:\n",
      "\u001b[0;31mNameError\u001b[0m                                 Traceback (most recent call last)",
      "\u001b[0;32m<ipython-input-1-99fe7100722d>\u001b[0m in \u001b[0;36m<module>\u001b[0;34m\u001b[0m\n\u001b[1;32m     38\u001b[0m \u001b[0;32mif\u001b[0m \u001b[0m__name__\u001b[0m \u001b[0;34m==\u001b[0m \u001b[0;34m'__main__'\u001b[0m\u001b[0;34m:\u001b[0m\u001b[0;34m\u001b[0m\u001b[0;34m\u001b[0m\u001b[0m\n\u001b[1;32m     39\u001b[0m     \u001b[0mdata\u001b[0m \u001b[0;34m=\u001b[0m \u001b[0mmain\u001b[0m\u001b[0;34m(\u001b[0m\u001b[0;34m)\u001b[0m\u001b[0;34m\u001b[0m\u001b[0;34m\u001b[0m\u001b[0m\n\u001b[0;32m---> 40\u001b[0;31m     \u001b[0mprint\u001b[0m\u001b[0;34m(\u001b[0m\u001b[0mwrite\u001b[0m\u001b[0;34m(\u001b[0m\u001b[0mdata\u001b[0m\u001b[0;34m)\u001b[0m\u001b[0;34m)\u001b[0m\u001b[0;34m\u001b[0m\u001b[0;34m\u001b[0m\u001b[0m\n\u001b[0m\u001b[1;32m     41\u001b[0m \u001b[0;34m\u001b[0m\u001b[0m\n\u001b[1;32m     42\u001b[0m \u001b[0;34m\u001b[0m\u001b[0m\n",
      "\u001b[0;32m<ipython-input-1-99fe7100722d>\u001b[0m in \u001b[0;36mwrite\u001b[0;34m(csvlist)\u001b[0m\n\u001b[1;32m     34\u001b[0m         \u001b[0;32mreturn\u001b[0m \u001b[0mtrue\u001b[0m\u001b[0;34m\u001b[0m\u001b[0;34m\u001b[0m\u001b[0m\n\u001b[1;32m     35\u001b[0m     \u001b[0;32mexcept\u001b[0m\u001b[0;34m:\u001b[0m\u001b[0;34m\u001b[0m\u001b[0;34m\u001b[0m\u001b[0m\n\u001b[0;32m---> 36\u001b[0;31m         \u001b[0;32mreturn\u001b[0m \u001b[0mfalse\u001b[0m\u001b[0;34m\u001b[0m\u001b[0;34m\u001b[0m\u001b[0m\n\u001b[0m\u001b[1;32m     37\u001b[0m \u001b[0;34m\u001b[0m\u001b[0m\n\u001b[1;32m     38\u001b[0m \u001b[0;32mif\u001b[0m \u001b[0m__name__\u001b[0m \u001b[0;34m==\u001b[0m \u001b[0;34m'__main__'\u001b[0m\u001b[0;34m:\u001b[0m\u001b[0;34m\u001b[0m\u001b[0;34m\u001b[0m\u001b[0m\n",
      "\u001b[0;31mNameError\u001b[0m: name 'false' is not defined"
     ]
    }
   ],
   "source": [
    "import requests\n",
    "from bs4 import BeautifulSoup \n",
    "import csv\n",
    "\n",
    "def main():\n",
    "    \n",
    "    url = 'https://www.pokemon.co.jp/info/2019/08/190816_gm01.html?i002=news'\n",
    "    res = requests.get(url)\n",
    "    content = res.content\n",
    "    soup = BeautifulSoup(content, 'html.parser')\n",
    "   \n",
    "    sponsors = soup.find_all(\"div\",attrs={\"class\":\"p-pagepnl__i-tbl\"})\n",
    "   \n",
    "    csvlist = []\n",
    "    \n",
    "    for sponsor in sponsors:\n",
    "        \n",
    "        news_txt = sponsor.text.strip()\n",
    "        csvlist.append([news_txt])\n",
    "    \n",
    "    return csvlist\n",
    "\n",
    "\n",
    "\n",
    "    \n",
    "    \n",
    "def write(csvlist):\n",
    "   \n",
    "    output_file = open('pokemon.csv','w')\n",
    "    output_writer = csv.writer(output_file)\n",
    "    output_writer.writerows(csvlist)\n",
    "    try:\n",
    "        output_file.close()\n",
    "        return true\n",
    "    except:\n",
    "        return false\n",
    "    \n",
    "if __name__ == '__main__':\n",
    "    data = main()\n",
    "    print(write(data))\n",
    "        \n",
    "\n",
    "\n"
   ]
  },
  {
   "cell_type": "code",
   "execution_count": 344,
   "metadata": {},
   "outputs": [
    {
     "name": "stdout",
     "output_type": "stream",
     "text": [
      "私の名前は？\n",
      "石川五右衛門(0)\n",
      "石川五右衛門(1)\n",
      "石川五右衛門(2)\n",
      "石川五右衛門(3)\n",
      "石川五右衛門(4)\n"
     ]
    }
   ],
   "source": [
    "print('私の名前は？')\n",
    "for i in range(5):\n",
    "    print('石川五右衛門('+str(i)+')')"
   ]
  },
  {
   "cell_type": "code",
   "execution_count": 345,
   "metadata": {},
   "outputs": [
    {
     "name": "stdout",
     "output_type": "stream",
     "text": [
      "5050\n"
     ]
    }
   ],
   "source": [
    "total =0\n",
    "for num in range(101):\n",
    "    total = total + num\n",
    "print(total)"
   ]
  },
  {
   "cell_type": "code",
   "execution_count": 18,
   "metadata": {},
   "outputs": [
    {
     "data": {
      "text/plain": [
       "1567728237.341975"
      ]
     },
     "execution_count": 18,
     "metadata": {},
     "output_type": "execute_result"
    }
   ],
   "source": [
    "import time\n",
    "time.time()"
   ]
  },
  {
   "cell_type": "code",
   "execution_count": 29,
   "metadata": {
    "scrolled": true
   },
   "outputs": [
    {
     "name": "stdout",
     "output_type": "stream",
     "text": [
      "Tick\n",
      "Tock\n",
      "Tick\n",
      "Tock\n",
      "Tick\n",
      "Tock\n"
     ]
    }
   ],
   "source": [
    "import time\n",
    "for i in range(3):\n",
    "    print('Tick')\n",
    "    time.sleep(1)\n",
    "    print('Tock')\n",
    "    time.sleep(1)\n",
    "# Tick\n",
    "# Tock\n",
    "# Tick\n",
    "# Tock\n",
    "# Tick\n",
    "# Tock\n",
    "for i in range(30):\n",
    "    time.sleep(1)"
   ]
  },
  {
   "cell_type": "code",
   "execution_count": 31,
   "metadata": {},
   "outputs": [
    {
     "data": {
      "text/plain": [
       "1567730308.849598"
      ]
     },
     "execution_count": 31,
     "metadata": {},
     "output_type": "execute_result"
    }
   ],
   "source": [
    "import time\n",
    "now = time.time()\n",
    "now"
   ]
  },
  {
   "cell_type": "code",
   "execution_count": 32,
   "metadata": {},
   "outputs": [
    {
     "data": {
      "text/plain": [
       "1567730308.85"
      ]
     },
     "execution_count": 32,
     "metadata": {},
     "output_type": "execute_result"
    }
   ],
   "source": [
    "round(now,2)"
   ]
  },
  {
   "cell_type": "code",
   "execution_count": 33,
   "metadata": {},
   "outputs": [
    {
     "data": {
      "text/plain": [
       "1567730308.8496"
      ]
     },
     "execution_count": 33,
     "metadata": {},
     "output_type": "execute_result"
    }
   ],
   "source": [
    "round(now,4)"
   ]
  },
  {
   "cell_type": "code",
   "execution_count": 34,
   "metadata": {},
   "outputs": [
    {
     "data": {
      "text/plain": [
       "1567730309"
      ]
     },
     "execution_count": 34,
     "metadata": {},
     "output_type": "execute_result"
    }
   ],
   "source": [
    "round(now)"
   ]
  },
  {
   "cell_type": "code",
   "execution_count": 35,
   "metadata": {},
   "outputs": [
    {
     "data": {
      "text/plain": [
       "datetime.datetime(2019, 9, 6, 10, 10, 29, 64796)"
      ]
     },
     "execution_count": 35,
     "metadata": {},
     "output_type": "execute_result"
    }
   ],
   "source": [
    "import datetime\n",
    "datetime.datetime.now()"
   ]
  },
  {
   "cell_type": "code",
   "execution_count": 39,
   "metadata": {},
   "outputs": [
    {
     "data": {
      "text/plain": [
       "(2019, 9, 10)"
      ]
     },
     "execution_count": 39,
     "metadata": {},
     "output_type": "execute_result"
    }
   ],
   "source": [
    "dt = datetime.datetime(2019,9,10,16,29,0)\n",
    "dt.year,dt.month,dt.day"
   ]
  },
  {
   "cell_type": "code",
   "execution_count": 40,
   "metadata": {},
   "outputs": [
    {
     "data": {
      "text/plain": [
       "(16, 29, 0)"
      ]
     },
     "execution_count": 40,
     "metadata": {},
     "output_type": "execute_result"
    }
   ],
   "source": [
    "dt.hour,dt.minute,dt.second"
   ]
  },
  {
   "cell_type": "code",
   "execution_count": 51,
   "metadata": {},
   "outputs": [
    {
     "data": {
      "text/plain": [
       "datetime.datetime(2065, 1, 24, 14, 20, 50)"
      ]
     },
     "execution_count": 51,
     "metadata": {},
     "output_type": "execute_result"
    }
   ],
   "source": [
    "datetime.datetime.fromtimestamp(3000000050)"
   ]
  },
  {
   "cell_type": "code",
   "execution_count": 52,
   "metadata": {},
   "outputs": [
    {
     "data": {
      "text/plain": [
       "datetime.datetime(2019, 9, 6, 10, 29, 36, 532004)"
      ]
     },
     "execution_count": 52,
     "metadata": {},
     "output_type": "execute_result"
    }
   ],
   "source": [
    "datetime.datetime.fromtimestamp(time.time())"
   ]
  },
  {
   "cell_type": "code",
   "execution_count": 56,
   "metadata": {},
   "outputs": [
    {
     "data": {
      "text/plain": [
       "True"
      ]
     },
     "execution_count": 56,
     "metadata": {},
     "output_type": "execute_result"
    }
   ],
   "source": [
    "halloween2015 = datetime.datetime(2015,10,31,0,0,0)\n",
    "newyears2016 = datetime.datetime(2016,1,1,0,0,0)\n",
    "oct31_2015 = datetime.datetime(2015,10,31,0,0,0)\n",
    "halloween2015 == oct31_2015"
   ]
  },
  {
   "cell_type": "code",
   "execution_count": 57,
   "metadata": {},
   "outputs": [
    {
     "data": {
      "text/plain": [
       "True"
      ]
     },
     "execution_count": 57,
     "metadata": {},
     "output_type": "execute_result"
    }
   ],
   "source": [
    "newyears2016 != oct31_2015"
   ]
  },
  {
   "cell_type": "code",
   "execution_count": 59,
   "metadata": {},
   "outputs": [
    {
     "data": {
      "text/plain": [
       "(11, 36548, 0)"
      ]
     },
     "execution_count": 59,
     "metadata": {},
     "output_type": "execute_result"
    }
   ],
   "source": [
    "delta = datetime.timedelta(days=11,hours=10,minutes=9,seconds=8)\n",
    "delta.days,delta.seconds,delta.microseconds"
   ]
  },
  {
   "cell_type": "code",
   "execution_count": 60,
   "metadata": {},
   "outputs": [
    {
     "data": {
      "text/plain": [
       "986948.0"
      ]
     },
     "execution_count": 60,
     "metadata": {},
     "output_type": "execute_result"
    }
   ],
   "source": [
    "delta.total_seconds()"
   ]
  },
  {
   "cell_type": "code",
   "execution_count": 61,
   "metadata": {},
   "outputs": [
    {
     "data": {
      "text/plain": [
       "'11 days, 10:09:08'"
      ]
     },
     "execution_count": 61,
     "metadata": {},
     "output_type": "execute_result"
    }
   ],
   "source": [
    "str(delta)"
   ]
  },
  {
   "cell_type": "code",
   "execution_count": 62,
   "metadata": {},
   "outputs": [
    {
     "data": {
      "text/plain": [
       "datetime.datetime(2019, 9, 6, 11, 11, 58, 639501)"
      ]
     },
     "execution_count": 62,
     "metadata": {},
     "output_type": "execute_result"
    }
   ],
   "source": [
    "dt = datetime.datetime.now()\n",
    "dt"
   ]
  },
  {
   "cell_type": "code",
   "execution_count": 63,
   "metadata": {},
   "outputs": [
    {
     "data": {
      "text/plain": [
       "datetime.datetime(2047, 1, 22, 11, 11, 58, 639501)"
      ]
     },
     "execution_count": 63,
     "metadata": {},
     "output_type": "execute_result"
    }
   ],
   "source": [
    "thousand_days = datetime.timedelta(days=10000)\n",
    "dt + thousand_days"
   ]
  },
  {
   "cell_type": "code",
   "execution_count": 64,
   "metadata": {},
   "outputs": [
    {
     "data": {
      "text/plain": [
       "datetime.datetime(2015, 10, 21, 16, 29)"
      ]
     },
     "execution_count": 64,
     "metadata": {},
     "output_type": "execute_result"
    }
   ],
   "source": [
    "oct21st = datetime.datetime(2015,10,21,16,29,0)\n",
    "about_thirty_years = datetime.timedelta(days=365*30)\n",
    "oct21st"
   ]
  },
  {
   "cell_type": "code",
   "execution_count": 65,
   "metadata": {},
   "outputs": [
    {
     "data": {
      "text/plain": [
       "datetime.datetime(1985, 10, 28, 16, 29)"
      ]
     },
     "execution_count": 65,
     "metadata": {},
     "output_type": "execute_result"
    }
   ],
   "source": [
    "oct21st - about_thirty_years"
   ]
  },
  {
   "cell_type": "code",
   "execution_count": 66,
   "metadata": {},
   "outputs": [
    {
     "data": {
      "text/plain": [
       "datetime.datetime(1955, 11, 5, 16, 29)"
      ]
     },
     "execution_count": 66,
     "metadata": {},
     "output_type": "execute_result"
    }
   ],
   "source": [
    "oct21st - (2*about_thirty_years)"
   ]
  },
  {
   "cell_type": "code",
   "execution_count": 68,
   "metadata": {},
   "outputs": [
    {
     "data": {
      "text/plain": [
       "'2015/10/21 16:2900'"
      ]
     },
     "execution_count": 68,
     "metadata": {},
     "output_type": "execute_result"
    }
   ],
   "source": [
    "oct21st = datetime.datetime(2015,10,21,16,29,0)\n",
    "oct21st.strftime('%Y/%m/%d %H:%M%S')"
   ]
  },
  {
   "cell_type": "code",
   "execution_count": 73,
   "metadata": {},
   "outputs": [
    {
     "data": {
      "text/plain": [
       "'04:29 PM'"
      ]
     },
     "execution_count": 73,
     "metadata": {},
     "output_type": "execute_result"
    }
   ],
   "source": [
    "oct21st.strftime('%I:%M %p')"
   ]
  },
  {
   "cell_type": "markdown",
   "metadata": {},
   "source": []
  },
  {
   "cell_type": "code",
   "execution_count": 76,
   "metadata": {},
   "outputs": [
    {
     "data": {
      "text/plain": [
       "\"October of '15\""
      ]
     },
     "execution_count": 76,
     "metadata": {},
     "output_type": "execute_result"
    }
   ],
   "source": [
    "oct21st.strftime(\"%B of '%y\")"
   ]
  },
  {
   "cell_type": "code",
   "execution_count": 77,
   "metadata": {},
   "outputs": [
    {
     "name": "stdout",
     "output_type": "stream",
     "text": [
      "Cats&Dogs&Frogs\n"
     ]
    }
   ],
   "source": [
    "import threading\n",
    "thread_obj = threading.Thread(target=print,args=['Cats','Dogs','Frogs'],kwargs={'sep':'&'})\n",
    "thread_obj.start()"
   ]
  },
  {
   "cell_type": "code",
   "execution_count": null,
   "metadata": {},
   "outputs": [],
   "source": [
    "file_obj = open('hello.txt','w')\n",
    "file_obj.write('hello world!')\n"
   ]
  },
  {
   "cell_type": "code",
   "execution_count": 79,
   "metadata": {},
   "outputs": [
    {
     "data": {
      "text/plain": [
       "<subprocess.Popen at 0x10d687390>"
      ]
     },
     "execution_count": 79,
     "metadata": {},
     "output_type": "execute_result"
    }
   ],
   "source": [
    "file_obj.close()\n",
    "import subprocess\n",
    "subprocess.Popen(['open','hello.txt'],shell=True)"
   ]
  },
  {
   "cell_type": "code",
   "execution_count": 85,
   "metadata": {},
   "outputs": [
    {
     "data": {
      "text/plain": [
       "<subprocess.Popen at 0x10d8b4890>"
      ]
     },
     "execution_count": 85,
     "metadata": {},
     "output_type": "execute_result"
    }
   ],
   "source": [
    "subprocess.Popen(['open','/Applications/Calculator.app/'])"
   ]
  },
  {
   "cell_type": "code",
   "execution_count": 153,
   "metadata": {},
   "outputs": [
    {
     "data": {
      "text/plain": [
       "smtplib.SMTP"
      ]
     },
     "execution_count": 153,
     "metadata": {},
     "output_type": "execute_result"
    }
   ],
   "source": [
    "import smtplib\n",
    "smtp_obj = smtplib.SMTP('smtp.gmail.com',587)\n",
    "type(smtp_obj)"
   ]
  },
  {
   "cell_type": "code",
   "execution_count": 154,
   "metadata": {},
   "outputs": [
    {
     "data": {
      "text/plain": [
       "(250,\n",
       " b'smtp.gmail.com at your service, [240f:102:ac11:1:e132:16d:fc0d:7254]\\nSIZE 35882577\\n8BITMIME\\nSTARTTLS\\nENHANCEDSTATUSCODES\\nPIPELINING\\nCHUNKING\\nSMTPUTF8')"
      ]
     },
     "execution_count": 154,
     "metadata": {},
     "output_type": "execute_result"
    }
   ],
   "source": [
    "smtp_obj.ehlo()"
   ]
  },
  {
   "cell_type": "code",
   "execution_count": 155,
   "metadata": {},
   "outputs": [
    {
     "data": {
      "text/plain": [
       "(220, b'2.0.0 Ready to start TLS')"
      ]
     },
     "execution_count": 155,
     "metadata": {},
     "output_type": "execute_result"
    }
   ],
   "source": [
    "smtp_obj.starttls()"
   ]
  },
  {
   "cell_type": "code",
   "execution_count": 156,
   "metadata": {
    "scrolled": false
   },
   "outputs": [
    {
     "data": {
      "text/plain": [
       "(235, b'2.7.0 Accepted')"
      ]
     },
     "execution_count": 156,
     "metadata": {},
     "output_type": "execute_result"
    }
   ],
   "source": [
    "smtp_obj.login('oha4107@gmail.com','ytohaK3641')"
   ]
  },
  {
   "cell_type": "code",
   "execution_count": 157,
   "metadata": {},
   "outputs": [
    {
     "data": {
      "text/plain": [
       "{}"
      ]
     },
     "execution_count": 157,
     "metadata": {},
     "output_type": "execute_result"
    }
   ],
   "source": [
    "smtp_obj.sendmail('oha4107@gmail.com','kojima2891@gmail.com','Subject: So long.\\nDear Alice, so long and thanks for all the fish. Sincerely, Bob')\n"
   ]
  },
  {
   "cell_type": "markdown",
   "metadata": {},
   "source": [
    "smtp_obj.quit()"
   ]
  },
  {
   "cell_type": "code",
   "execution_count": 158,
   "metadata": {},
   "outputs": [
    {
     "data": {
      "text/plain": [
       "(221, b'2.0.0 closing connection dw14sm20692928pjb.2 - gsmtp')"
      ]
     },
     "execution_count": 158,
     "metadata": {},
     "output_type": "execute_result"
    }
   ],
   "source": [
    "smtp_obj.quit()"
   ]
  },
  {
   "cell_type": "code",
   "execution_count": 163,
   "metadata": {},
   "outputs": [
    {
     "data": {
      "text/plain": [
       "(221, b'2.0.0 closing connection k64sm22372324pge.65 - gsmtp')"
      ]
     },
     "execution_count": 163,
     "metadata": {},
     "output_type": "execute_result"
    }
   ],
   "source": [
    "import smtplib\n",
    "from email.mime.text import MIMEText\n",
    "from email.header import Header\n",
    "\n",
    "charset = 'iso-2022-jp'\n",
    "\n",
    "msg = MIMEText('こんにちは','plain',charset)\n",
    "msg['Subject'] = Header('挨拶'.encode(charset),charset)\n",
    "\n",
    "smtp_obj = smtplib.SMTP('smtp.gmail.com',587)\n",
    "smtp_obj.ehlo()\n",
    "smtp_obj.starttls()\n",
    "smtp_obj.login('oha4107@gmail.com','ytohaK3641')\n",
    "smtp_obj.sendmail('oha4107@gmail.com','kojima2891@gmail.com',msg.as_string())\n",
    "smtp_obj.quit()"
   ]
  },
  {
   "cell_type": "code",
   "execution_count": null,
   "metadata": {},
   "outputs": [],
   "source": [
    "import imapclient\n",
    "from backports import ssl\n",
    "context = ssl.SSLContext(ssl.PROTOCOL_TLSv1_2)\n",
    "imap_obj = imapclient.IMAPClient('imap.gmail.com',ssl=True, ssl_context=context)\n",
    "imap_obj.login('oha4107@gmail.com','ytohaK3641')"
   ]
  },
  {
   "cell_type": "code",
   "execution_count": 202,
   "metadata": {
    "scrolled": true
   },
   "outputs": [
    {
     "name": "stdout",
     "output_type": "stream",
     "text": [
      "Collecting pyzmail36\n",
      "\u001b[?25l  Downloading https://files.pythonhosted.org/packages/8c/28/34f999ca9704f7b68976fb82f05b49a09f0bb3902560572dbfbcd42c1fcc/pyzmail36-1.0.4.tar.gz (47kB)\n",
      "\u001b[K     |████████████████████████████████| 51kB 863kB/s eta 0:00:011\n",
      "\u001b[?25hRequirement already satisfied: setuptools in /Library/Frameworks/Python.framework/Versions/3.7/lib/python3.7/site-packages (from pyzmail36) (40.8.0)\n",
      "Installing collected packages: pyzmail36\n",
      "  Running setup.py install for pyzmail36 ... \u001b[?25ldone\n",
      "\u001b[?25hSuccessfully installed pyzmail36-1.0.4\n",
      "Note: you may need to restart the kernel to use updated packages.\n"
     ]
    }
   ],
   "source": [
    "pip install pyzmail36"
   ]
  },
  {
   "cell_type": "code",
   "execution_count": 169,
   "metadata": {},
   "outputs": [
    {
     "name": "stdout",
     "output_type": "stream",
     "text": [
      "Collecting imapclient\n",
      "\u001b[?25l  Downloading https://files.pythonhosted.org/packages/dc/39/e1c2c2c6e2356ab6ea81fcfc0a74b044b311d6a91a45300811d9a6077ef7/IMAPClient-2.1.0-py2.py3-none-any.whl (73kB)\n",
      "\u001b[K     |████████████████████████████████| 81kB 6.9MB/s eta 0:00:011\n",
      "\u001b[?25hRequirement already satisfied: six in /Library/Frameworks/Python.framework/Versions/3.7/lib/python3.7/site-packages (from imapclient) (1.12.0)\n",
      "Installing collected packages: imapclient\n",
      "Successfully installed imapclient-2.1.0\n",
      "Note: you may need to restart the kernel to use updated packages.\n"
     ]
    }
   ],
   "source": [
    "pip install imapclient"
   ]
  },
  {
   "cell_type": "code",
   "execution_count": 212,
   "metadata": {
    "scrolled": true
   },
   "outputs": [
    {
     "name": "stdout",
     "output_type": "stream",
     "text": [
      "Requirement already satisfied: backports.ssl in /Library/Frameworks/Python.framework/Versions/3.7/lib/python3.7/site-packages (0.0.9)\n",
      "Note: you may need to restart the kernel to use updated packages.\n"
     ]
    }
   ],
   "source": [
    "pip install backports.ssl"
   ]
  },
  {
   "cell_type": "code",
   "execution_count": null,
   "metadata": {},
   "outputs": [],
   "source": []
  },
  {
   "cell_type": "code",
   "execution_count": 270,
   "metadata": {},
   "outputs": [
    {
     "data": {
      "text/plain": [
       "['BytesIO',\n",
       " 'CertificateError',\n",
       " 'HAS_NPN',\n",
       " 'SSLEOFError',\n",
       " 'SSLError',\n",
       " 'SSLSysCallError',\n",
       " 'SSLSyscallError',\n",
       " 'SSLWantReadError',\n",
       " 'SSLWantWriteError',\n",
       " 'SSLZeroReturnError',\n",
       " 'SSL_RETRY',\n",
       " '__builtins__',\n",
       " '__cached__',\n",
       " '__doc__',\n",
       " '__file__',\n",
       " '__loader__',\n",
       " '__name__',\n",
       " '__package__',\n",
       " '__path__',\n",
       " '__spec__',\n",
       " '__version__',\n",
       " 'absolute_import',\n",
       " 'b',\n",
       " 'core',\n",
       " 'crypto',\n",
       " 'errno',\n",
       " 'get_subject_alt_name',\n",
       " 'impl',\n",
       " 'match_hostname',\n",
       " 'ossl',\n",
       " 'print_function',\n",
       " 're',\n",
       " 'select',\n",
       " 'six',\n",
       " 'socket',\n",
       " 'time']"
      ]
     },
     "execution_count": 270,
     "metadata": {},
     "output_type": "execute_result"
    }
   ],
   "source": [
    "import backports.ssl\n",
    "dir(backports.ssl)"
   ]
  },
  {
   "cell_type": "code",
   "execution_count": null,
   "metadata": {},
   "outputs": [],
   "source": [
    "def spam():\n",
    "    eggs = 99\n",
    "    bacon()\n",
    "    print(eggs)\n",
    "    \n",
    "def bacon():\n",
    "    ham =101\n",
    "    eggs = 0\n",
    "\n",
    "spam()"
   ]
  },
  {
   "cell_type": "code",
   "execution_count": null,
   "metadata": {},
   "outputs": [],
   "source": [
    "def spam():\n",
    "    eggs = 'spam local'\n",
    "    print(eggs)\n",
    "\n",
    "def bacon():\n",
    "    eggs = 'bacon local'\n",
    "    print(eggs)\n",
    "    spam()\n",
    "    print(eggs)\n",
    "    \n",
    "eggs = 'global'\n",
    "bacon()\n",
    "print(eggs)"
   ]
  },
  {
   "cell_type": "code",
   "execution_count": null,
   "metadata": {},
   "outputs": [],
   "source": [
    "def collatz(number):\n",
    "    if number%2  == 0:\n",
    "        return number/2\n",
    "    elif number%2 == 1:\n",
    "        return 3*number+1\n",
    "print('整数を入力してください')\n",
    "number = int(input())\n",
    "\n",
    "while number != 1:\n",
    "    \n",
    "    number = collatz(number)\n",
    "    print(number)"
   ]
  },
  {
   "cell_type": "code",
   "execution_count": null,
   "metadata": {},
   "outputs": [],
   "source": [
    "spam = ['cat','bat','rat','elephant']\n",
    "spam[0:4]"
   ]
  },
  {
   "cell_type": "code",
   "execution_count": null,
   "metadata": {},
   "outputs": [],
   "source": [
    "cat_names = []\n",
    "while True:\n",
    "    print('猫'+str(len(cat_names)+1)+'の名前を入力してください'+'(終了するにはEnterキーだけ押してください)')\n",
    "    name = input()\n",
    "    if name ==  '':\n",
    "        break\n",
    "    cat_names = cat_names + [name]\n",
    "print('猫の名前は次のとおり:')\n",
    "for name in cat_names:\n",
    "    print('  '+name)"
   ]
  },
  {
   "cell_type": "code",
   "execution_count": null,
   "metadata": {},
   "outputs": [],
   "source": [
    "supplies = ['pens','staplers','flame-throwers','binders']\n",
    "for i in range(len(supplies)):\n",
    "    print('Index'+str(i)+'in supplies is:'+supplies[i])"
   ]
  },
  {
   "cell_type": "code",
   "execution_count": null,
   "metadata": {},
   "outputs": [],
   "source": [
    "import optuna"
   ]
  },
  {
   "cell_type": "code",
   "execution_count": null,
   "metadata": {},
   "outputs": [],
   "source": [
    "def objective(trial):\n",
    "    x = trial.suggest_uniform('x',-10,10)\n",
    "    return (x - 2) ** 2"
   ]
  },
  {
   "cell_type": "code",
   "execution_count": null,
   "metadata": {},
   "outputs": [],
   "source": [
    "study = optuna.create_study()\n",
    "study.optimize(objective, n_trials=100)"
   ]
  },
  {
   "cell_type": "code",
   "execution_count": null,
   "metadata": {},
   "outputs": [],
   "source": [
    "study.best_params"
   ]
  },
  {
   "cell_type": "code",
   "execution_count": null,
   "metadata": {},
   "outputs": [],
   "source": [
    "optuna.__version__"
   ]
  },
  {
   "cell_type": "code",
   "execution_count": null,
   "metadata": {},
   "outputs": [],
   "source": []
  }
 ],
 "metadata": {
  "kernelspec": {
   "display_name": "Python 3",
   "language": "python",
   "name": "python3"
  },
  "language_info": {
   "codemirror_mode": {
    "name": "ipython",
    "version": 3
   },
   "file_extension": ".py",
   "mimetype": "text/x-python",
   "name": "python",
   "nbconvert_exporter": "python",
   "pygments_lexer": "ipython3",
   "version": "3.7.4"
  }
 },
 "nbformat": 4,
 "nbformat_minor": 2
}
