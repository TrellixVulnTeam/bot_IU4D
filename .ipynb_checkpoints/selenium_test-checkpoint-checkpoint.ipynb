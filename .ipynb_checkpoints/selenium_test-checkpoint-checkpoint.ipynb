{
 "cells": [
  {
   "cell_type": "code",
   "execution_count": 2,
   "metadata": {
    "collapsed": true
   },
   "outputs": [
    {
     "name": "stdout",
     "output_type": "stream",
     "text": [
      "Collecting selenium\n",
      "\u001b[?25l  Downloading https://files.pythonhosted.org/packages/80/d6/4294f0b4bce4de0abf13e17190289f9d0613b0a44e5dd6a7f5ca98459853/selenium-3.141.0-py2.py3-none-any.whl (904kB)\n",
      "\u001b[K     |████████████████████████████████| 911kB 686kB/s eta 0:00:01\n",
      "\u001b[?25hRequirement already satisfied: urllib3 in /Library/Frameworks/Python.framework/Versions/3.7/lib/python3.7/site-packages (from selenium) (1.23)\n",
      "Installing collected packages: selenium\n",
      "Successfully installed selenium-3.141.0\n"
     ]
    }
   ],
   "source": [
    "!pip install selenium"
   ]
  },
  {
   "cell_type": "code",
   "execution_count": 28,
   "metadata": {},
   "outputs": [],
   "source": [
    "import time\n",
    "from selenium import webdriver\n",
    "driver = webdriver.Chrome('./driver/chromedriver')\n",
    "time.sleep(5)\n",
    "driver.close()\n",
    "driver.quit()"
   ]
  },
  {
   "cell_type": "markdown",
   "metadata": {},
   "source": [
    "バージョンに関するエラー出る場合はダウンロードしたchremederivrより古いバージョンをダウンロード   \n",
    "https://chromedriver.chromium.org/downloads  \n",
    "上記サイトのサンプル"
   ]
  },
  {
   "cell_type": "code",
   "execution_count": 29,
   "metadata": {},
   "outputs": [],
   "source": [
    "import time\n",
    "from selenium import webdriver\n",
    "\n",
    "driver = webdriver.Chrome('./driver/chromedriver')  # Optional argument, if not specified will search path.\n",
    "driver.get('http://www.google.com/');\n",
    "time.sleep(5) # Let the user actually see something!\n",
    "search_box = driver.find_element_by_name('q')\n",
    "search_box.send_keys('ChromeDriver')\n",
    "search_box.submit()\n",
    "time.sleep(5) # Let the user actually see something!\n",
    "driver.quit()"
   ]
  },
  {
   "cell_type": "code",
   "execution_count": 4,
   "metadata": {},
   "outputs": [],
   "source": [
    "#jsonファイルからキーワードを読み込ませ検索させてトップキーワードを読み込もう"
   ]
  },
  {
   "cell_type": "code",
   "execution_count": 30,
   "metadata": {},
   "outputs": [],
   "source": [
    "import json\n",
    " \n",
    "jsonString ={\"keyword\": {\"0\":\"yahoo\",\"1\": \"sony\",\"2\": \"soft bank\",\"3\": \"panasonic\",\"4\": \"toshiba\"}}\n",
    "\n",
    "with open(\"./data/keyword.json\", \"w\", encoding=\"utf-8\") as jsonfile:\n",
    "    json.dump(jsonString, jsonfile)"
   ]
  },
  {
   "cell_type": "markdown",
   "metadata": {},
   "source": [
    "### データが作られていることを確認する。"
   ]
  },
  {
   "cell_type": "code",
   "execution_count": 31,
   "metadata": {},
   "outputs": [
    {
     "data": {
      "text/plain": [
       "{'keyword': {'0': 'yahoo',\n",
       "  '1': 'sony',\n",
       "  '2': 'soft bank',\n",
       "  '3': 'panasonic',\n",
       "  '4': 'toshiba'}}"
      ]
     },
     "execution_count": 31,
     "metadata": {},
     "output_type": "execute_result"
    }
   ],
   "source": [
    "with open(\"./data/keyword.json\", \"r\", encoding=\"utf-8\") as jsonfile:\n",
    "    jsonDict = json.load(jsonfile)\n",
    "\n",
    "jsonDict"
   ]
  },
  {
   "cell_type": "code",
   "execution_count": 32,
   "metadata": {},
   "outputs": [
    {
     "name": "stdout",
     "output_type": "stream",
     "text": [
      "{'0': 'yahoo', '1': 'sony', '2': 'soft bank', '3': 'panasonic', '4': 'toshiba'}\n"
     ]
    }
   ],
   "source": [
    "print(jsonDict['keyword'])"
   ]
  },
  {
   "cell_type": "code",
   "execution_count": 33,
   "metadata": {},
   "outputs": [
    {
     "name": "stdout",
     "output_type": "stream",
     "text": [
      "0\n",
      "1\n",
      "2\n",
      "3\n",
      "4\n"
     ]
    }
   ],
   "source": [
    "for i in jsonDict['keyword']:\n",
    "    print(str(i))"
   ]
  },
  {
   "cell_type": "code",
   "execution_count": 34,
   "metadata": {},
   "outputs": [
    {
     "name": "stdout",
     "output_type": "stream",
     "text": [
      "yahoo\n",
      "sony\n",
      "soft bank\n",
      "panasonic\n",
      "toshiba\n"
     ]
    }
   ],
   "source": [
    "#これでjsonファイルを読み込みキーワードを打ち込みのが可能ですね。\n",
    "for i in jsonDict['keyword']:\n",
    "    print(jsonDict['keyword'][str(i)])"
   ]
  },
  {
   "cell_type": "markdown",
   "metadata": {},
   "source": [
    "#### セレニウムサンプルから\n",
    "https://chromedriver.chromium.org/getting-started"
   ]
  },
  {
   "cell_type": "code",
   "execution_count": 15,
   "metadata": {},
   "outputs": [],
   "source": [
    "import time\n",
    "from selenium import webdriver\n",
    "\n",
    "driver = webdriver.Chrome('./driver/chromedriver')  # Optional argument, if not specified will search path.\n",
    "driver.get('http://www.google.com/');\n",
    "time.sleep(5) # Let the user actually see something!\n",
    "search_box = driver.find_element_by_name('q')\n",
    "search_box.send_keys('ChromeDriver')\n",
    "search_box.submit()\n",
    "time.sleep(5) # Let the user actually see something!\n",
    "driver.quit()"
   ]
  },
  {
   "cell_type": "markdown",
   "metadata": {},
   "source": [
    "#### キーワードを埋め込み"
   ]
  },
  {
   "cell_type": "code",
   "execution_count": null,
   "metadata": {},
   "outputs": [],
   "source": [
    "import time\n",
    "from selenium import webdriver\n",
    "\n",
    "driver = webdriver.Chrome('./driver/chromedriver')  # Optional argument, if not specified will search path.\n",
    "\n",
    "#for文\n",
    "#↓埋め込む\n",
    "driver.get('http://www.google.com/');\n",
    "time.sleep(5) # Let the user actually see something!\n",
    "search_box = driver.find_element_by_name('q')\n",
    "search_box.send_keys('ChromeDriver')\n",
    "search_box.submit()\n",
    "time.sleep(5) # Let the user actually see something!\n",
    "#↑埋め込む\n",
    "\n",
    "driver.quit()"
   ]
  },
  {
   "cell_type": "code",
   "execution_count": 21,
   "metadata": {},
   "outputs": [],
   "source": [
    "#　キーワード埋め込みます"
   ]
  },
  {
   "cell_type": "code",
   "execution_count": 35,
   "metadata": {},
   "outputs": [],
   "source": [
    "import time\n",
    "from selenium import webdriver\n",
    "\n",
    "driver = webdriver.Chrome('./driver/chromedriver')  # Optional argument, if not specified will search path.\n",
    "\n",
    "with open(\"./data/keyword.json\", \"r\", encoding=\"utf-8\") as jsonfile:\n",
    "    jsonDict = json.load(jsonfile)\n",
    "\n",
    "for i in jsonDict['keyword']:\n",
    "    driver.get('http://www.google.com/');\n",
    "    time.sleep(2) \n",
    "    search_box = driver.find_element_by_name('q')\n",
    "    search_box.send_keys(jsonDict['keyword'][str(i)]) #キーワードを差し替える\n",
    "    search_box.submit()\n",
    "    time.sleep(2) \n",
    "\n",
    "driver.quit()"
   ]
  },
  {
   "cell_type": "code",
   "execution_count": 36,
   "metadata": {},
   "outputs": [],
   "source": [
    "# urlを抽出\n",
    "import time\n",
    "from selenium import webdriver\n",
    "\n",
    "driver = webdriver.Chrome('./driver/chromedriver')  # Optional argument, if not specified will search path.\n",
    "\n",
    "driver.get('https://www.google.com/search?q=sony&oq=sony&aqs=chrome..69i57j0l5.829j0j4&sourceid=chrome&ie=UTF-8')\n",
    "\n",
    "#ここで止める途中で止まるので色々試す"
   ]
  },
  {
   "cell_type": "markdown",
   "metadata": {},
   "source": [
    "<img src='01.png'>"
   ]
  },
  {
   "cell_type": "code",
   "execution_count": 37,
   "metadata": {},
   "outputs": [
    {
     "name": "stdout",
     "output_type": "stream",
     "text": [
      "https://www.sony.jp\n"
     ]
    }
   ],
   "source": [
    "#URLを取得する。\n",
    "url_set = driver.find_element_by_class_name('iUh30')\n",
    "print(url_set.text)"
   ]
  },
  {
   "cell_type": "code",
   "execution_count": 38,
   "metadata": {},
   "outputs": [
    {
     "name": "stdout",
     "output_type": "stream",
     "text": [
      "google検索１位サイト\n",
      "キーワード:yahoo\n",
      "URL:https://www.yahoo.co.jp\n",
      "キーワード:sony\n",
      "URL:https://www.sony.jp\n",
      "キーワード:soft bank\n",
      "URL:https://www.softbank.jp › mysoftbank\n",
      "キーワード:panasonic\n",
      "URL:https://panasonic.jp\n",
      "キーワード:toshiba\n",
      "URL:https://www.toshiba.co.jp\n"
     ]
    }
   ],
   "source": [
    "import time\n",
    "from selenium import webdriver\n",
    "\n",
    "driver = webdriver.Chrome('./driver/chromedriver')  # Optional argument, if not specified will search path.\n",
    "\n",
    "with open(\"./data/keyword.json\", \"r\", encoding=\"utf-8\") as jsonfile:\n",
    "    jsonDict = json.load(jsonfile)\n",
    "\n",
    "print('google検索１位サイト')    \n",
    "    \n",
    "for i in jsonDict['keyword']:\n",
    "    driver.get('http://www.google.com/');\n",
    "    time.sleep(2) \n",
    "    search_box = driver.find_element_by_name('q')\n",
    "    search_box.send_keys(jsonDict['keyword'][str(i)]) #キーワードを差し替える\n",
    "    search_box.submit()\n",
    "    time.sleep(2) \n",
    "    #URLを出力\n",
    "    print('キーワード:'+jsonDict['keyword'][str(i)] )\n",
    "    url_set = driver.find_element_by_class_name('iUh30')\n",
    "    print('URL:' + url_set.text )\n",
    "\n",
    "driver.quit()"
   ]
  },
  {
   "cell_type": "markdown",
   "metadata": {},
   "source": [
    "## クラス化していきます。\n",
    "#### とりあえずdef化"
   ]
  },
  {
   "cell_type": "code",
   "execution_count": 40,
   "metadata": {},
   "outputs": [
    {
     "name": "stdout",
     "output_type": "stream",
     "text": [
      "google検索１位サイト\n",
      "キーワード:yahoo\n",
      "URL:https://www.yahoo.co.jp\n",
      "キーワード:sony\n",
      "URL:https://www.sony.jp\n"
     ]
    }
   ],
   "source": [
    "import time\n",
    "from selenium import webdriver\n",
    "\n",
    "driver = webdriver.Chrome('./driver/chromedriver')  # Optional argument, if not specified will search path.\n",
    "\n",
    "\n",
    "def google_serch():\n",
    "    \n",
    "    with open(\"./data/keyword.json\", \"r\", encoding=\"utf-8\") as jsonfile:\n",
    "        jsonDict = json.load(jsonfile)    \n",
    "    \n",
    "    print('google検索１位サイト')    \n",
    "\n",
    "    for i in jsonDict['keyword']:\n",
    "        driver.get('http://www.google.com/');\n",
    "        time.sleep(3) \n",
    "        search_box = driver.find_element_by_name('q')\n",
    "        search_box.send_keys(jsonDict['keyword'][str(i)]) #キーワードを差し替える\n",
    "        search_box.submit()\n",
    "        time.sleep(3) \n",
    "        #URLを出力\n",
    "        print('キーワード:'+jsonDict['keyword'][str(i)] )\n",
    "        url_set = driver.find_element_by_class_name('iUh30')\n",
    "        print('URL:' + url_set.text )\n",
    "\n",
    "google_serch()        \n",
    "        \n",
    "driver.quit()"
   ]
  },
  {
   "cell_type": "markdown",
   "metadata": {},
   "source": [
    "#### 引数を設定してあげます。"
   ]
  },
  {
   "cell_type": "code",
   "execution_count": 42,
   "metadata": {},
   "outputs": [
    {
     "name": "stdout",
     "output_type": "stream",
     "text": [
      "google検索１位サイト\n",
      "キーワード:yahoo\n",
      "URL:https://www.yahoo.co.jp\n",
      "キーワード:sony\n",
      "URL:https://www.sony.jp\n"
     ]
    }
   ],
   "source": [
    "import time\n",
    "from selenium import webdriver\n",
    "\n",
    "driver = webdriver.Chrome('./driver/chromedriver')  # Optional argument, if not specified will search path.\n",
    "\n",
    "keyword_file = \"./data/keyword.json\"\n",
    "\n",
    "def google_serch(file):\n",
    "    \n",
    "    with open(file, \"r\", encoding=\"utf-8\") as jsonfile:\n",
    "        jsonDict = json.load(jsonfile)    \n",
    "    \n",
    "    print('google検索１位サイト')    \n",
    "\n",
    "    for i in jsonDict['keyword']:\n",
    "        driver.get('http://www.google.com/');\n",
    "        time.sleep(3) \n",
    "        search_box = driver.find_element_by_name('q')\n",
    "        search_box.send_keys(jsonDict['keyword'][str(i)]) #キーワードを差し替える\n",
    "        search_box.submit()\n",
    "        time.sleep(3) \n",
    "        #URLを出力\n",
    "        print('キーワード:'+jsonDict['keyword'][str(i)] )\n",
    "        url_set = driver.find_element_by_class_name('iUh30')\n",
    "        print('URL:' + url_set.text )\n",
    "\n",
    "google_serch(keyword_file)        \n",
    "        \n",
    "driver.quit()"
   ]
  },
  {
   "cell_type": "code",
   "execution_count": 54,
   "metadata": {},
   "outputs": [
    {
     "name": "stdout",
     "output_type": "stream",
     "text": [
      "google検索１位サイト\n",
      "キーワード:yahoo\n",
      "URL:https://www.yahoo.co.jp\n",
      "キーワード:sony\n",
      "URL:https://www.sony.jp\n"
     ]
    }
   ],
   "source": [
    "class serch:\n",
    "    def __init__(self,file):\n",
    "        self.keyword_file = file\n",
    "    \n",
    "    def google_serch(self):\n",
    "    \n",
    "        with open(self.keyword_file, \"r\", encoding=\"utf-8\") as jsonfile:\n",
    "            jsonDict = json.load(jsonfile)    \n",
    "\n",
    "        print('google検索１位サイト')    \n",
    "\n",
    "        for i in jsonDict['keyword']:\n",
    "            driver.get('http://www.google.com/');\n",
    "            time.sleep(3) \n",
    "            search_box = driver.find_element_by_name('q')\n",
    "            search_box.send_keys(jsonDict['keyword'][str(i)]) #キーワードを差し替える\n",
    "            search_box.submit()\n",
    "            time.sleep(3) \n",
    "            #URLを出力\n",
    "            print('キーワード:'+jsonDict['keyword'][str(i)] )\n",
    "            url_set = driver.find_element_by_class_name('iUh30')\n",
    "            print('URL:' + url_set.text )\n",
    "\n",
    "\n",
    "import time\n",
    "from selenium import webdriver\n",
    "\n",
    "driver = webdriver.Chrome('./driver/chromedriver')  # Optional argument, if not specified will search path.\n",
    "\n",
    "keyword_file = \"./data/keyword.json\"\n",
    "\n",
    "a = serch(keyword_file)\n",
    "a.google_serch()\n",
    "\n",
    "driver.quit()"
   ]
  },
  {
   "cell_type": "markdown",
   "metadata": {},
   "source": [
    "### ファイル分解"
   ]
  },
  {
   "cell_type": "code",
   "execution_count": 55,
   "metadata": {},
   "outputs": [
    {
     "name": "stdout",
     "output_type": "stream",
     "text": [
      "google検索１位サイト\n",
      "キーワード:yahoo\n",
      "URL:https://www.yahoo.co.jp\n",
      "キーワード:sony\n",
      "URL:https://www.sony.jp\n"
     ]
    }
   ],
   "source": [
    "# serch.py\n",
    "class serch:\n",
    "    def __init__(self,file):\n",
    "        self.keyword_file = file\n",
    "    \n",
    "    def google_serch(self):\n",
    "    \n",
    "        with open(self.keyword_file, \"r\", encoding=\"utf-8\") as jsonfile:\n",
    "            jsonDict = json.load(jsonfile)    \n",
    "\n",
    "        print('google検索１位サイト')    \n",
    "\n",
    "        for i in jsonDict['keyword']:\n",
    "            driver.get('http://www.google.com/');\n",
    "            time.sleep(3) \n",
    "            search_box = driver.find_element_by_name('q')\n",
    "            search_box.send_keys(jsonDict['keyword'][str(i)]) #キーワードを差し替える\n",
    "            search_box.submit()\n",
    "            time.sleep(3) \n",
    "            #URLを出力\n",
    "            print('キーワード:'+jsonDict['keyword'][str(i)] )\n",
    "            url_set = driver.find_element_by_class_name('iUh30')\n",
    "            print('URL:' + url_set.text )\n",
    "\n",
    "            \n",
    "#main.py\n",
    "# import serch <本来ならこいつを有効化する！！\n",
    "import time\n",
    "from selenium import webdriver\n",
    "\n",
    "driver = webdriver.Chrome('./driver/chromedriver')  # Optional argument, if not specified will search path.\n",
    "\n",
    "keyword_file = \"./data/keyword.json\"\n",
    "\n",
    "a = serch(keyword_file)\n",
    "a.google_serch()\n",
    "\n",
    "driver.quit()"
   ]
  },
  {
   "cell_type": "code",
   "execution_count": 1,
   "metadata": {},
   "outputs": [
    {
     "ename": "WebDriverException",
     "evalue": "Message: 'chromedriver' executable needs to be in PATH. Please see https://sites.google.com/a/chromium.org/chromedriver/home\n",
     "output_type": "error",
     "traceback": [
      "\u001b[0;31m---------------------------------------------------------------------------\u001b[0m",
      "\u001b[0;31mFileNotFoundError\u001b[0m                         Traceback (most recent call last)",
      "\u001b[0;32m/Library/Frameworks/Python.framework/Versions/3.7/lib/python3.7/site-packages/selenium/webdriver/common/service.py\u001b[0m in \u001b[0;36mstart\u001b[0;34m(self)\u001b[0m\n\u001b[1;32m     75\u001b[0m                                             \u001b[0mstderr\u001b[0m\u001b[0;34m=\u001b[0m\u001b[0mself\u001b[0m\u001b[0;34m.\u001b[0m\u001b[0mlog_file\u001b[0m\u001b[0;34m,\u001b[0m\u001b[0;34m\u001b[0m\u001b[0;34m\u001b[0m\u001b[0m\n\u001b[0;32m---> 76\u001b[0;31m                                             stdin=PIPE)\n\u001b[0m\u001b[1;32m     77\u001b[0m         \u001b[0;32mexcept\u001b[0m \u001b[0mTypeError\u001b[0m\u001b[0;34m:\u001b[0m\u001b[0;34m\u001b[0m\u001b[0;34m\u001b[0m\u001b[0m\n",
      "\u001b[0;32m/Library/Frameworks/Python.framework/Versions/3.7/lib/python3.7/subprocess.py\u001b[0m in \u001b[0;36m__init__\u001b[0;34m(self, args, bufsize, executable, stdin, stdout, stderr, preexec_fn, close_fds, shell, cwd, env, universal_newlines, startupinfo, creationflags, restore_signals, start_new_session, pass_fds, encoding, errors, text)\u001b[0m\n\u001b[1;32m    774\u001b[0m                                 \u001b[0merrread\u001b[0m\u001b[0;34m,\u001b[0m \u001b[0merrwrite\u001b[0m\u001b[0;34m,\u001b[0m\u001b[0;34m\u001b[0m\u001b[0;34m\u001b[0m\u001b[0m\n\u001b[0;32m--> 775\u001b[0;31m                                 restore_signals, start_new_session)\n\u001b[0m\u001b[1;32m    776\u001b[0m         \u001b[0;32mexcept\u001b[0m\u001b[0;34m:\u001b[0m\u001b[0;34m\u001b[0m\u001b[0;34m\u001b[0m\u001b[0m\n",
      "\u001b[0;32m/Library/Frameworks/Python.framework/Versions/3.7/lib/python3.7/subprocess.py\u001b[0m in \u001b[0;36m_execute_child\u001b[0;34m(self, args, executable, preexec_fn, close_fds, pass_fds, cwd, env, startupinfo, creationflags, shell, p2cread, p2cwrite, c2pread, c2pwrite, errread, errwrite, restore_signals, start_new_session)\u001b[0m\n\u001b[1;32m   1521\u001b[0m                             \u001b[0merr_msg\u001b[0m \u001b[0;34m+=\u001b[0m \u001b[0;34m': '\u001b[0m \u001b[0;34m+\u001b[0m \u001b[0mrepr\u001b[0m\u001b[0;34m(\u001b[0m\u001b[0merr_filename\u001b[0m\u001b[0;34m)\u001b[0m\u001b[0;34m\u001b[0m\u001b[0;34m\u001b[0m\u001b[0m\n\u001b[0;32m-> 1522\u001b[0;31m                     \u001b[0;32mraise\u001b[0m \u001b[0mchild_exception_type\u001b[0m\u001b[0;34m(\u001b[0m\u001b[0merrno_num\u001b[0m\u001b[0;34m,\u001b[0m \u001b[0merr_msg\u001b[0m\u001b[0;34m,\u001b[0m \u001b[0merr_filename\u001b[0m\u001b[0;34m)\u001b[0m\u001b[0;34m\u001b[0m\u001b[0;34m\u001b[0m\u001b[0m\n\u001b[0m\u001b[1;32m   1523\u001b[0m                 \u001b[0;32mraise\u001b[0m \u001b[0mchild_exception_type\u001b[0m\u001b[0;34m(\u001b[0m\u001b[0merr_msg\u001b[0m\u001b[0;34m)\u001b[0m\u001b[0;34m\u001b[0m\u001b[0;34m\u001b[0m\u001b[0m\n",
      "\u001b[0;31mFileNotFoundError\u001b[0m: [Errno 2] No such file or directory: './driver/chromedriver': './driver/chromedriver'",
      "\nDuring handling of the above exception, another exception occurred:\n",
      "\u001b[0;31mWebDriverException\u001b[0m                        Traceback (most recent call last)",
      "\u001b[0;32m<ipython-input-1-538ff8d328ab>\u001b[0m in \u001b[0;36m<module>\u001b[0;34m\u001b[0m\n\u001b[1;32m     26\u001b[0m \u001b[0;32mfrom\u001b[0m \u001b[0mselenium\u001b[0m \u001b[0;32mimport\u001b[0m \u001b[0mwebdriver\u001b[0m\u001b[0;34m\u001b[0m\u001b[0;34m\u001b[0m\u001b[0m\n\u001b[1;32m     27\u001b[0m \u001b[0;34m\u001b[0m\u001b[0m\n\u001b[0;32m---> 28\u001b[0;31m \u001b[0mdriver\u001b[0m \u001b[0;34m=\u001b[0m \u001b[0mwebdriver\u001b[0m\u001b[0;34m.\u001b[0m\u001b[0mChrome\u001b[0m\u001b[0;34m(\u001b[0m\u001b[0;34m'./driver/chromedriver'\u001b[0m\u001b[0;34m)\u001b[0m  \u001b[0;31m# Optional argument, if not specified will search path.\u001b[0m\u001b[0;34m\u001b[0m\u001b[0;34m\u001b[0m\u001b[0m\n\u001b[0m\u001b[1;32m     29\u001b[0m \u001b[0;34m\u001b[0m\u001b[0m\n\u001b[1;32m     30\u001b[0m \u001b[0mkeyword_file\u001b[0m \u001b[0;34m=\u001b[0m \u001b[0;34m\"./data/keyword.json\"\u001b[0m\u001b[0;34m\u001b[0m\u001b[0;34m\u001b[0m\u001b[0m\n",
      "\u001b[0;32m/Library/Frameworks/Python.framework/Versions/3.7/lib/python3.7/site-packages/selenium/webdriver/chrome/webdriver.py\u001b[0m in \u001b[0;36m__init__\u001b[0;34m(self, executable_path, port, options, service_args, desired_capabilities, service_log_path, chrome_options, keep_alive)\u001b[0m\n\u001b[1;32m     71\u001b[0m             \u001b[0mservice_args\u001b[0m\u001b[0;34m=\u001b[0m\u001b[0mservice_args\u001b[0m\u001b[0;34m,\u001b[0m\u001b[0;34m\u001b[0m\u001b[0;34m\u001b[0m\u001b[0m\n\u001b[1;32m     72\u001b[0m             log_path=service_log_path)\n\u001b[0;32m---> 73\u001b[0;31m         \u001b[0mself\u001b[0m\u001b[0;34m.\u001b[0m\u001b[0mservice\u001b[0m\u001b[0;34m.\u001b[0m\u001b[0mstart\u001b[0m\u001b[0;34m(\u001b[0m\u001b[0;34m)\u001b[0m\u001b[0;34m\u001b[0m\u001b[0;34m\u001b[0m\u001b[0m\n\u001b[0m\u001b[1;32m     74\u001b[0m \u001b[0;34m\u001b[0m\u001b[0m\n\u001b[1;32m     75\u001b[0m         \u001b[0;32mtry\u001b[0m\u001b[0;34m:\u001b[0m\u001b[0;34m\u001b[0m\u001b[0;34m\u001b[0m\u001b[0m\n",
      "\u001b[0;32m/Library/Frameworks/Python.framework/Versions/3.7/lib/python3.7/site-packages/selenium/webdriver/common/service.py\u001b[0m in \u001b[0;36mstart\u001b[0;34m(self)\u001b[0m\n\u001b[1;32m     81\u001b[0m                 raise WebDriverException(\n\u001b[1;32m     82\u001b[0m                     \"'%s' executable needs to be in PATH. %s\" % (\n\u001b[0;32m---> 83\u001b[0;31m                         os.path.basename(self.path), self.start_error_message)\n\u001b[0m\u001b[1;32m     84\u001b[0m                 )\n\u001b[1;32m     85\u001b[0m             \u001b[0;32melif\u001b[0m \u001b[0merr\u001b[0m\u001b[0;34m.\u001b[0m\u001b[0merrno\u001b[0m \u001b[0;34m==\u001b[0m \u001b[0merrno\u001b[0m\u001b[0;34m.\u001b[0m\u001b[0mEACCES\u001b[0m\u001b[0;34m:\u001b[0m\u001b[0;34m\u001b[0m\u001b[0;34m\u001b[0m\u001b[0m\n",
      "\u001b[0;31mWebDriverException\u001b[0m: Message: 'chromedriver' executable needs to be in PATH. Please see https://sites.google.com/a/chromium.org/chromedriver/home\n"
     ]
    }
   ],
   "source": [
    "\n",
    "class serch:\n",
    "    def __init__(self,file):\n",
    "        self.keyword_file = file\n",
    "    \n",
    "    def google_serch(self):\n",
    "    \n",
    "        with open(self.keyword_file, \"r\", encoding=\"utf-8\") as jsonfile:\n",
    "            jsonDict = json.load(jsonfile)    \n",
    "\n",
    "        print('google検索１位サイト')    \n",
    "\n",
    "        for i in jsonDict['keyword']:\n",
    "            driver.get('http://www.google.com/');\n",
    "            time.sleep(3) \n",
    "            search_box = driver.find_element_by_name('q')\n",
    "            search_box.send_keys(jsonDict['keyword'][str(i)]) #キーワードを差し替える\n",
    "            search_box.submit()\n",
    "            time.sleep(3) \n",
    "            #URLを出力\n",
    "            print('キーワード:'+jsonDict['keyword'][str(i)] )\n",
    "            url_set = driver.find_element_by_class_name('iUh30')\n",
    "            print('URL:' + url_set.text )\n",
    "\n",
    "\n",
    "import time\n",
    "from selenium import webdriver\n",
    "\n",
    "driver = webdriver.Chrome('./driver/chromedriver')  # Optional argument, if not specified will search path.\n",
    "\n",
    "keyword_file = \"./data/keyword.json\"\n",
    "keyword_file2 = \"./data/keyword2.json\"\n",
    "\n",
    "a = serch(keyword_file)\n",
    "\n",
    "\n",
    "a.google_serch()\n",
    "\n",
    "driver.quit()"
   ]
  },
  {
   "cell_type": "code",
   "execution_count": null,
   "metadata": {},
   "outputs": [],
   "source": []
  }
 ],
 "metadata": {
  "kernelspec": {
   "display_name": "Python 3",
   "language": "python",
   "name": "python3"
  },
  "language_info": {
   "codemirror_mode": {
    "name": "ipython",
    "version": 3
   },
   "file_extension": ".py",
   "mimetype": "text/x-python",
   "name": "python",
   "nbconvert_exporter": "python",
   "pygments_lexer": "ipython3",
   "version": "3.7.4"
  }
 },
 "nbformat": 4,
 "nbformat_minor": 2
}
